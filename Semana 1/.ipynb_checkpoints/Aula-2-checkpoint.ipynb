{
 "cells": [
  {
   "cell_type": "markdown",
   "id": "3d1b1c08",
   "metadata": {},
   "source": [
    "# Jupyter Notebook\n",
    "### Python Do básico ao Intermediário\n",
    "\n",
    "É um ambiente que viabiliza:\n",
    "- Execução de códigos;\n",
    "- Criação de documento com texto formatado;\n",
    "- Plotagem de gráficos\n",
    "\n",
    "> É frequentemente usado para notas em aulas"
   ]
  },
  {
   "attachments": {
    "jupyter-notebook.png": {
     "image/png": "[encoded data removed]"
    }
   },
   "cell_type": "markdown",
   "id": "f1828c96",
   "metadata": {},
   "source": [
    "![jupyter-notebook.png](attachment:jupyter-notebook.png)"
   ]
  },
  {
   "cell_type": "code",
   "execution_count": 1,
   "id": "e19cac17",
   "metadata": {},
   "outputs": [
    {
     "name": "stdout",
     "output_type": "stream",
     "text": [
      "Bem vindos à Aula 2!\n"
     ]
    }
   ],
   "source": [
    "print(\"Bem vindos à Aula 2!\")"
   ]
  },
  {
   "cell_type": "code",
   "execution_count": 3,
   "id": "8efa6865",
   "metadata": {},
   "outputs": [],
   "source": [
    "# Importar biblioteca 'random'\n",
    "import random\n",
    "random.randint?\n",
    "# Usa-se o ? após o .método .função .biblioteca para verificar a sintaxe. Um atalho é usar o 'SHIFT' + 'TAB'"
   ]
  },
  {
   "cell_type": "code",
   "execution_count": 17,
   "id": "6e420021",
   "metadata": {},
   "outputs": [],
   "source": [
    "num = 3"
   ]
  },
  {
   "cell_type": "code",
   "execution_count": 18,
   "id": "42819919",
   "metadata": {},
   "outputs": [],
   "source": [
    "num = num + 2"
   ]
  },
  {
   "cell_type": "code",
   "execution_count": 19,
   "id": "0fbd2a7d",
   "metadata": {},
   "outputs": [],
   "source": [
    "num = num * 2"
   ]
  },
  {
   "cell_type": "code",
   "execution_count": 23,
   "id": "b7b818f9",
   "metadata": {},
   "outputs": [
    {
     "name": "stdout",
     "output_type": "stream",
     "text": [
      "10\n"
     ]
    }
   ],
   "source": [
    "print(num)"
   ]
  },
  {
   "cell_type": "code",
   "execution_count": 21,
   "id": "009427f6",
   "metadata": {},
   "outputs": [
    {
     "name": "stdout",
     "output_type": "stream",
     "text": [
      "0\n",
      "1\n",
      "2\n",
      "3\n",
      "4\n",
      "5\n",
      "6\n",
      "7\n",
      "8\n",
      "9\n"
     ]
    }
   ],
   "source": [
    "import time\n",
    "for i in range(10):\n",
    "    print(i)\n",
    "    time.sleep(1)"
   ]
  }
 ],
 "metadata": {
  "kernelspec": {
   "display_name": "Python 3 (ipykernel)",
   "language": "python",
   "name": "python3"
  },
  "language_info": {
   "codemirror_mode": {
    "name": "ipython",
    "version": 3
   },
   "file_extension": ".py",
   "mimetype": "text/x-python",
   "name": "python",
   "nbconvert_exporter": "python",
   "pygments_lexer": "ipython3",
   "version": "3.9.13"
  }
 },
 "nbformat": 4,
 "nbformat_minor": 5
}
