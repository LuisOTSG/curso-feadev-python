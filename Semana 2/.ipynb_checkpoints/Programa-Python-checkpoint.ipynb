{
 "cells": [
  {
   "cell_type": "markdown",
   "id": "e2f41f77",
   "metadata": {},
   "source": [
    "# Primeiro Programa em Python\n",
    "**Nessa aula**\n",
    "\n",
    "- Operações Matemáticas\n",
    "    - Ordem das operações\n",
    "- Operadores Comparativos\n",
    "- Variáveis\n",
    "    - Nomes das Variáveis\n",
    "- Strings\n",
    "    - Operaçoes com Strings\n",
    "- Input e Output"
   ]
  },
  {
   "cell_type": "markdown",
   "id": "3fd5a5b8",
   "metadata": {},
   "source": [
    "## Operações Matemáticas\n",
    "\n",
    "|Sinal|Operação|\n",
    "|---|---|\n",
    "|+|Soma|\n",
    "|-|Subtração|\n",
    "|*|Multiplicação|\n",
    "|/|Divisão|\n",
    "|**|Exponenciação|\n",
    "|**(1/2)|Radiciação|\n",
    "|//|Divisão Inteira|\n",
    "|%|Resto|"
   ]
  },
  {
   "cell_type": "code",
   "execution_count": 1,
   "id": "fd725edd",
   "metadata": {},
   "outputs": [
    {
     "data": {
      "text/plain": [
       "10"
      ]
     },
     "execution_count": 1,
     "metadata": {},
     "output_type": "execute_result"
    }
   ],
   "source": [
    "# Soma\n",
    "8 + 2"
   ]
  },
  {
   "cell_type": "code",
   "execution_count": 2,
   "id": "27d99d36",
   "metadata": {},
   "outputs": [
    {
     "data": {
      "text/plain": [
       "6"
      ]
     },
     "execution_count": 2,
     "metadata": {},
     "output_type": "execute_result"
    }
   ],
   "source": [
    "# Subtração\n",
    "8 - 2"
   ]
  },
  {
   "cell_type": "code",
   "execution_count": 3,
   "id": "cef1fc11",
   "metadata": {},
   "outputs": [
    {
     "data": {
      "text/plain": [
       "16"
      ]
     },
     "execution_count": 3,
     "metadata": {},
     "output_type": "execute_result"
    }
   ],
   "source": [
    "# Multiplicação\n",
    "8 * 2"
   ]
  },
  {
   "cell_type": "code",
   "execution_count": 4,
   "id": "4dd044b1",
   "metadata": {},
   "outputs": [
    {
     "data": {
      "text/plain": [
       "4.0"
      ]
     },
     "execution_count": 4,
     "metadata": {},
     "output_type": "execute_result"
    }
   ],
   "source": [
    "# Divisão\n",
    "8 / 2"
   ]
  },
  {
   "cell_type": "code",
   "execution_count": 5,
   "id": "b25cbd1d",
   "metadata": {},
   "outputs": [
    {
     "data": {
      "text/plain": [
       "16"
      ]
     },
     "execution_count": 5,
     "metadata": {},
     "output_type": "execute_result"
    }
   ],
   "source": [
    "# Exponenciação\n",
    "4 ** 2"
   ]
  },
  {
   "cell_type": "code",
   "execution_count": 6,
   "id": "8bf3a8e4",
   "metadata": {},
   "outputs": [
    {
     "data": {
      "text/plain": [
       "2.0"
      ]
     },
     "execution_count": 6,
     "metadata": {},
     "output_type": "execute_result"
    }
   ],
   "source": [
    "# Radiciação\n",
    "8 ** (1/3)"
   ]
  },
  {
   "cell_type": "code",
   "execution_count": 7,
   "id": "215ae6d3",
   "metadata": {},
   "outputs": [
    {
     "data": {
      "text/plain": [
       "3"
      ]
     },
     "execution_count": 7,
     "metadata": {},
     "output_type": "execute_result"
    }
   ],
   "source": [
    "# Divisão Inteira\n",
    "20 // 6"
   ]
  },
  {
   "cell_type": "code",
   "execution_count": 8,
   "id": "1b552f4a",
   "metadata": {},
   "outputs": [
    {
     "data": {
      "text/plain": [
       "2"
      ]
     },
     "execution_count": 8,
     "metadata": {},
     "output_type": "execute_result"
    }
   ],
   "source": [
    "# Resto\n",
    "20 % 6"
   ]
  },
  {
   "cell_type": "markdown",
   "id": "324c644e",
   "metadata": {},
   "source": [
    "### Ordem das Operações\n",
    "|Ordem|Operação|Observação|\n",
    "|---|---|---|\n",
    "|1º|Parenteses ()||\n",
    "|2ª|Exponenciação (**)||\n",
    "|3ª|Multiplicação (*) ou Divisão (/)|[Mesma prioridade, o que vier primeiro]|\n",
    "|4ª|Soma (+) ou Subtração (-)|[Mesma prioridade, o que vier primeiro]|"
   ]
  },
  {
   "cell_type": "code",
   "execution_count": 9,
   "id": "2d317ecf",
   "metadata": {},
   "outputs": [
    {
     "data": {
      "text/plain": [
       "35"
      ]
     },
     "execution_count": 9,
     "metadata": {},
     "output_type": "execute_result"
    }
   ],
   "source": [
    "# Multiplicação primeiro\n",
    "5 + 5 * 5 + 5"
   ]
  },
  {
   "cell_type": "code",
   "execution_count": 10,
   "id": "2e5d2923",
   "metadata": {},
   "outputs": [
    {
     "data": {
      "text/plain": [
       "100"
      ]
     },
     "execution_count": 10,
     "metadata": {},
     "output_type": "execute_result"
    }
   ],
   "source": [
    "# Parênteses antes da Multiplicação\n",
    "(5 + 5) * (5 + 5)"
   ]
  },
  {
   "cell_type": "code",
   "execution_count": 11,
   "id": "44ebf1b7",
   "metadata": {},
   "outputs": [
    {
     "data": {
      "text/plain": [
       "16"
      ]
     },
     "execution_count": 11,
     "metadata": {},
     "output_type": "execute_result"
    }
   ],
   "source": [
    "# Exponenciação antes da Multiplicação\n",
    "4 * 2**2"
   ]
  },
  {
   "cell_type": "code",
   "execution_count": 12,
   "id": "bad7e380",
   "metadata": {},
   "outputs": [
    {
     "data": {
      "text/plain": [
       "64"
      ]
     },
     "execution_count": 12,
     "metadata": {},
     "output_type": "execute_result"
    }
   ],
   "source": [
    "# Parênteses primeiro, Exponenciação antes da Multiplicaçõ\n",
    "(4 * 2)**2"
   ]
  },
  {
   "cell_type": "code",
   "execution_count": 13,
   "id": "db568235",
   "metadata": {},
   "outputs": [
    {
     "data": {
      "text/plain": [
       "6.0"
      ]
     },
     "execution_count": 13,
     "metadata": {},
     "output_type": "execute_result"
    }
   ],
   "source": [
    "# Divisão primeiro\n",
    "1 + 10 / 2"
   ]
  },
  {
   "cell_type": "code",
   "execution_count": 14,
   "id": "351ac61b",
   "metadata": {},
   "outputs": [
    {
     "data": {
      "text/plain": [
       "3.3333333333333335"
      ]
     },
     "execution_count": 14,
     "metadata": {},
     "output_type": "execute_result"
    }
   ],
   "source": [
    "# Parênteses antes da Divisão\n",
    "10 / (2 + 1)"
   ]
  },
  {
   "cell_type": "markdown",
   "id": "fdb86dc8",
   "metadata": {},
   "source": [
    "## Operadores Comparativos\n",
    "|Sinal|Operação|\n",
    "|---|---|\n",
    "|>|Maior que|\n",
    "|<|Menor que|\n",
    "|>=|Maior ou Igual que|\n",
    "|<=|Menor ou Igual que|\n",
    "|==|Igual|\n",
    "|!=|Não é Igual|"
   ]
  },
  {
   "cell_type": "code",
   "execution_count": 15,
   "id": "6581643b",
   "metadata": {},
   "outputs": [
    {
     "data": {
      "text/plain": [
       "True"
      ]
     },
     "execution_count": 15,
     "metadata": {},
     "output_type": "execute_result"
    }
   ],
   "source": [
    "# Comparar dois números, retorna um valor booleano\n",
    "6 != 7"
   ]
  },
  {
   "cell_type": "markdown",
   "id": "a49dd59c",
   "metadata": {},
   "source": [
    "## Variáveis\n",
    "Variáveis são um dos grandes pilares da programação em Python. Ao invés de trabalhar diretamento com valores, atribuimos valores às variáveis e trabalhamos com elas, o que torna a programação muito mais flexível."
   ]
  },
  {
   "cell_type": "code",
   "execution_count": 16,
   "id": "461d5696",
   "metadata": {},
   "outputs": [
    {
     "name": "stdout",
     "output_type": "stream",
     "text": [
      "8\n",
      "6\n",
      "16\n"
     ]
    }
   ],
   "source": [
    "# Para atribuir valores à uma variável, utiliza-se o sinal '='\n",
    "x = 4\n",
    "y = 2\n",
    "\n",
    "# Para imprimir/retornar uma variável, utiliza-se a função print()\n",
    "print(x*y)\n",
    "print(x+y)\n",
    "print(y**x)"
   ]
  },
  {
   "cell_type": "markdown",
   "id": "ed1d870a",
   "metadata": {},
   "source": [
    "### Nomes de Variáveis\n",
    "Um nome de variável deve ser uma sequência de letras e números e devem sempre começar com uma letra. Não se pode começar o nome da variável com números ou caracteres especiais, exceto o caractere _undescore (_)"
   ]
  },
  {
   "cell_type": "code",
   "execution_count": 17,
   "id": "cac7c169",
   "metadata": {},
   "outputs": [],
   "source": [
    "# Nomes válidos\n",
    "num1 = 2\n",
    "texto = \"Hello World\"\n",
    "__teste__ = 10"
   ]
  },
  {
   "cell_type": "code",
   "execution_count": 18,
   "id": "30e9ddcf",
   "metadata": {},
   "outputs": [
    {
     "name": "stdout",
     "output_type": "stream",
     "text": [
      "2\n",
      "Hello World\n",
      "10\n"
     ]
    }
   ],
   "source": [
    "# Retornando as variáveis com nomes válidos\n",
    "print(num1)\n",
    "print(texto)\n",
    "print(__teste__)"
   ]
  },
  {
   "cell_type": "markdown",
   "id": "998eb5d6",
   "metadata": {},
   "source": [
    "## Strings\n",
    "Textos (_Strings_) são variáveis de texto em Python, marcadas por aspas duplas (\" \") ou simples (' ')"
   ]
  },
  {
   "cell_type": "code",
   "execution_count": 19,
   "id": "b0be221e",
   "metadata": {},
   "outputs": [
    {
     "name": "stdout",
     "output_type": "stream",
     "text": [
      "Hello World\n",
      "Olá Mundo\n"
     ]
    }
   ],
   "source": [
    "print(\"Hello World\")\n",
    "print('Olá Mundo')"
   ]
  },
  {
   "cell_type": "code",
   "execution_count": 20,
   "id": "30e06b37",
   "metadata": {},
   "outputs": [
    {
     "name": "stdout",
     "output_type": "stream",
     "text": [
      "Este é o curso de Python da FEA.dev - USP\n"
     ]
    }
   ],
   "source": [
    "# Definindo um variável para a string\n",
    "string = \"Este é o curso de Python da FEA.dev - USP\"\n",
    "print(string)"
   ]
  },
  {
   "cell_type": "code",
   "execution_count": 21,
   "id": "4849de25",
   "metadata": {},
   "outputs": [
    {
     "name": "stdout",
     "output_type": "stream",
     "text": [
      "\n",
      "Este é o curso de Python da FEA.dev - USP\n",
      "Estou fazendo a aula sobre criar um Programa Python\n",
      "Será meu primeiro Programa Python\n",
      "\n"
     ]
    }
   ],
   "source": [
    "# Para escrever strings que percorrem várias linhas, utiliza-se uma sequência de três aspas duplas (\"\"\")\n",
    "string2 = \"\"\"\n",
    "Este é o curso de Python da FEA.dev - USP\n",
    "Estou fazendo a aula sobre criar um Programa Python\n",
    "Será meu primeiro Programa Python\n",
    "\"\"\"\n",
    "print(string2)"
   ]
  },
  {
   "cell_type": "markdown",
   "id": "93d906e2",
   "metadata": {},
   "source": [
    "### Operações com Strings"
   ]
  },
  {
   "cell_type": "markdown",
   "id": "05296a85",
   "metadata": {},
   "source": [
    "**Concatenação de String**\n",
    "Em geral, não é possível usar os operadores aritméticos que vimos em strings. Mas é possível juntá-los com o operador '+'"
   ]
  },
  {
   "cell_type": "code",
   "execution_count": 22,
   "id": "e58e7ed6",
   "metadata": {},
   "outputs": [
    {
     "name": "stdout",
     "output_type": "stream",
     "text": [
      "Hello World\n"
     ]
    }
   ],
   "source": [
    "# Concatenar strings\n",
    "x = \"Hello \" \n",
    "y = \"World\"\n",
    "print(x + y)"
   ]
  },
  {
   "cell_type": "markdown",
   "id": "a14ac116",
   "metadata": {},
   "source": [
    "**Indexação e fatiamento de Strings**\n",
    "É possível acessar um caractere específico da sequência utilizando a posição desse caractere, utilizando o que chamamos de índice. Importante notar que, como a maioria das coisas em Python, a contagem começa com índice [0]"
   ]
  },
  {
   "cell_type": "code",
   "execution_count": 23,
   "id": "652ff8a9",
   "metadata": {},
   "outputs": [
    {
     "data": {
      "text/plain": [
       "'P'"
      ]
     },
     "execution_count": 23,
     "metadata": {},
     "output_type": "execute_result"
    }
   ],
   "source": [
    "# Selecionando o primeiro caractere\n",
    "string = \"Python\"\n",
    "string[0]"
   ]
  },
  {
   "cell_type": "code",
   "execution_count": 24,
   "id": "721facac",
   "metadata": {},
   "outputs": [
    {
     "data": {
      "text/plain": [
       "'n'"
      ]
     },
     "execution_count": 24,
     "metadata": {},
     "output_type": "execute_result"
    }
   ],
   "source": [
    "# Selecionando o penúltimo caractere\n",
    "string[-1]"
   ]
  },
  {
   "cell_type": "code",
   "execution_count": 25,
   "id": "79df409d",
   "metadata": {},
   "outputs": [
    {
     "data": {
      "text/plain": [
       "'é um '"
      ]
     },
     "execution_count": 25,
     "metadata": {},
     "output_type": "execute_result"
    }
   ],
   "source": [
    "# Selecionando um bloco de caracteres, indicando a posição inicial e final desejada\n",
    "string2 = \"Este é um curso de Python da FEA.dev - USP\"\n",
    "string2[5:10]"
   ]
  },
  {
   "cell_type": "code",
   "execution_count": 26,
   "id": "4130f5d3",
   "metadata": {},
   "outputs": [
    {
     "data": {
      "text/plain": [
       "'Python da FEA.dev - USP'"
      ]
     },
     "execution_count": 26,
     "metadata": {},
     "output_type": "execute_result"
    }
   ],
   "source": [
    "# Selecionando de um ponto até o final ou começo, indicando a posição inicial\n",
    "string2[19:]"
   ]
  },
  {
   "cell_type": "markdown",
   "id": "f7a07907",
   "metadata": {},
   "source": [
    "**Métodos de Strings**\n",
    "1. string.upper() - retorna o 'exemplo' em letras maiúsculas;\n",
    "2. string.lower() - retorna o 'exemplo' toda em letras minúsculas;\n",
    "3. string.strip() - retorna o 'exemplo' retirando possíveis espaços em branco no início e no fim da string;\n",
    "4. string.startswith('xyz') - retorna se o 'exemplo' começa com a string 'xyz';\n",
    "5. string.endswith('xyz') - retorna se o 'exemplo' termina com a string 'xyz';\n",
    "6. string.find('xyz') - procura a string 'xyz' dentro de 'exemplo' e retorna o primeiro índice onde 'xyz' começa ou retorna -1 se nada for encontrado;\n",
    "7. string.replace('old', 'new') - retorna uma string nova onde todas as ocorrências de 'old' encontradas em 'exemplo' serão substituídas por 'new'"
   ]
  },
  {
   "cell_type": "code",
   "execution_count": 27,
   "id": "93cfed34",
   "metadata": {},
   "outputs": [
    {
     "data": {
      "text/plain": [
       "'EXEMPLO'"
      ]
     },
     "execution_count": 27,
     "metadata": {},
     "output_type": "execute_result"
    }
   ],
   "source": [
    "# upper()\n",
    "exemplo = \"exemplo\"\n",
    "exemplo.upper()"
   ]
  },
  {
   "cell_type": "code",
   "execution_count": 28,
   "id": "cb21c94e",
   "metadata": {},
   "outputs": [
    {
     "data": {
      "text/plain": [
       "'exemplo'"
      ]
     },
     "execution_count": 28,
     "metadata": {},
     "output_type": "execute_result"
    }
   ],
   "source": [
    "# lower()\n",
    "exemplo = \"EXeMPlo\"\n",
    "exemplo.lower()"
   ]
  },
  {
   "cell_type": "code",
   "execution_count": 29,
   "id": "d4e3bd2d",
   "metadata": {
    "scrolled": true
   },
   "outputs": [
    {
     "data": {
      "text/plain": [
       "'exemplo'"
      ]
     },
     "execution_count": 29,
     "metadata": {},
     "output_type": "execute_result"
    }
   ],
   "source": [
    "# strip()\n",
    "exemplo = \"  exemplo    \"\n",
    "exemplo.strip()"
   ]
  },
  {
   "cell_type": "code",
   "execution_count": 30,
   "id": "0559dace",
   "metadata": {},
   "outputs": [
    {
     "data": {
      "text/plain": [
       "12"
      ]
     },
     "execution_count": 30,
     "metadata": {},
     "output_type": "execute_result"
    }
   ],
   "source": [
    "exemplo = \"Programar é muito ruim\"\n",
    "exemplo.find('muito')"
   ]
  },
  {
   "cell_type": "code",
   "execution_count": 31,
   "id": "a54b35f9",
   "metadata": {},
   "outputs": [
    {
     "data": {
      "text/plain": [
       "'Programar é muito fácil'"
      ]
     },
     "execution_count": 31,
     "metadata": {},
     "output_type": "execute_result"
    }
   ],
   "source": [
    "exemplo = \"Programar é muito ruim\"\n",
    "exemplo.replace('ruim', 'fácil')"
   ]
  },
  {
   "cell_type": "markdown",
   "id": "3419f7f5",
   "metadata": {},
   "source": [
    "## Input e Output"
   ]
  },
  {
   "cell_type": "code",
   "execution_count": 32,
   "id": "9d2280d2",
   "metadata": {},
   "outputs": [
    {
     "name": "stdout",
     "output_type": "stream",
     "text": [
      "Como você está? \n",
      "Bem\n"
     ]
    },
    {
     "data": {
      "text/plain": [
       "'Bem'"
      ]
     },
     "execution_count": 32,
     "metadata": {},
     "output_type": "execute_result"
    }
   ],
   "source": [
    "# O string colocado dentro da função será exibido como uma mensagem\n",
    "input(\"Como você está? \\n\")"
   ]
  },
  {
   "cell_type": "code",
   "execution_count": 33,
   "id": "71a2abcf",
   "metadata": {
    "scrolled": true
   },
   "outputs": [
    {
     "name": "stdout",
     "output_type": "stream",
     "text": [
      "Parabéns por chegar até esta parte do curso\n"
     ]
    }
   ],
   "source": [
    "print(\"Parabéns por chegar até esta parte do curso\")"
   ]
  },
  {
   "cell_type": "code",
   "execution_count": 34,
   "id": "72df0aa0",
   "metadata": {},
   "outputs": [
    {
     "name": "stdout",
     "output_type": "stream",
     "text": [
      "Quantos anos você tem? \n",
      "25\n",
      "Você tem 25 anos de idade\n",
      "Você tem 25 anos de idade\n"
     ]
    }
   ],
   "source": [
    "idade = input(\"Quantos anos você tem? \\n\")\n",
    "\n",
    "# Duas maneiras de colocar variáveis com strings em prints:\n",
    "\n",
    "print(\"Você tem\", idade, \"anos de idade\")\n",
    "print(f'Você tem {idade} anos de idade')"
   ]
  },
  {
   "cell_type": "markdown",
   "id": "7dfa1f71",
   "metadata": {},
   "source": [
    "**f-strings** \\\n",
    "Esta string neste último print é chamado de f-string. Ao colocar um f na frente, você pode adicionar variáveis, operações, fórmulas e métodos dentro de {} nas strings"
   ]
  },
  {
   "cell_type": "code",
   "execution_count": 35,
   "id": "829622fa",
   "metadata": {},
   "outputs": [
    {
     "name": "stdout",
     "output_type": "stream",
     "text": [
      "Tomei no total 8 xícaras de CAFÉ!!\n"
     ]
    }
   ],
   "source": [
    "a = 4\n",
    "b = 2\n",
    "bebida = \"café\"\n",
    "\n",
    "f_string = f\"Tomei no total {a*b} xícaras de {bebida.upper() + b*'!'}\"\n",
    "\n",
    "print(f_string)"
   ]
  }
 ],
 "metadata": {
  "kernelspec": {
   "display_name": "Python 3 (ipykernel)",
   "language": "python",
   "name": "python3"
  },
  "language_info": {
   "codemirror_mode": {
    "name": "ipython",
    "version": 3
   },
   "file_extension": ".py",
   "mimetype": "text/x-python",
   "name": "python",
   "nbconvert_exporter": "python",
   "pygments_lexer": "ipython3",
   "version": "3.9.13"
  }
 },
 "nbformat": 4,
 "nbformat_minor": 5
}
