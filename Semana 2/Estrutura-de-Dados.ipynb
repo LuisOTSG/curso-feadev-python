{
 "cells": [
  {
   "cell_type": "markdown",
   "id": "b97c8e34",
   "metadata": {},
   "source": [
    "# Estrutura de Dados\n",
    "**Nessa aula**\n",
    "\n",
    "- Tipos de Dados\n",
    "- O que são Estrutura de Dados\n",
    "- O que são métodos e noção de função\n",
    "- Métodos úteis de string\n",
    "- Formatação de string\n",
    "- Listas, tuplas e set\n",
    "- Métodos úteis de list\n",
    "- Dicionários\n",
    "- Métodos de dicionários"
   ]
  },
  {
   "cell_type": "markdown",
   "id": "61d5b18d",
   "metadata": {},
   "source": [
    "## Tipos de Dados\n",
    "- **Integer (int)**: Números inteiros\n",
    "- **Float(\"Ponto flutuante\")**: - Números reais (decimais, dízimas periódicas, positivos, negativos)"
   ]
  },
  {
   "cell_type": "code",
   "execution_count": 1,
   "id": "48cccc61",
   "metadata": {},
   "outputs": [
    {
     "name": "stdout",
     "output_type": "stream",
     "text": [
      "<class 'int'>\n",
      "<class 'float'>\n",
      "<class 'float'>\n"
     ]
    }
   ],
   "source": [
    "# Inteiro e Float\n",
    "a = 2\n",
    "b = 3.14\n",
    "c = -2.0\n",
    "\n",
    "# Para verificar qual o tipo de uma variável type()\n",
    "print(type(a))\n",
    "print(type(b))\n",
    "print(type(c))"
   ]
  },
  {
   "cell_type": "markdown",
   "id": "2ffa6533",
   "metadata": {},
   "source": [
    "**Operações com números Int e Float**\n",
    "- Soma (+)\n",
    "- Subtração (-)\n",
    "- Multiplicação (*)\n",
    "- Divisão (/)\n",
    "- Exponenciação (**)\n",
    "- Radiciação (**(1/2))\n",
    "- Divisão Inteira (//)\n",
    "- Resto (%)"
   ]
  },
  {
   "cell_type": "code",
   "execution_count": 3,
   "id": "855fcb9a",
   "metadata": {},
   "outputs": [
    {
     "name": "stdout",
     "output_type": "stream",
     "text": [
      "9.0\n",
      "10\n",
      "2.0\n",
      "<class 'float'>\n",
      "<class 'int'>\n",
      "<class 'float'>\n"
     ]
    }
   ],
   "source": [
    "# Operações matemáticas\n",
    "\n",
    "d = 4 + 5.0\n",
    "e = 2 * 5\n",
    "f = 8 ** (1/3)\n",
    "\n",
    "print(d)\n",
    "print(e)\n",
    "print(f)\n",
    "print(type(d))\n",
    "print(type(e))\n",
    "print(type(f))"
   ]
  },
  {
   "cell_type": "markdown",
   "id": "cfea4c20",
   "metadata": {},
   "source": [
    "**String (str):** Junção de caracteres usualmente uilizada para representar palavras, mas não necessariamente apenas palavras, pois pode existir string de números. São definidas por aspas simples ou duplas. Objetos imutáveis."
   ]
  },
  {
   "cell_type": "code",
   "execution_count": 4,
   "id": "07a43f58",
   "metadata": {},
   "outputs": [
    {
     "name": "stdout",
     "output_type": "stream",
     "text": [
      "<class 'str'>\n",
      "<class 'str'>\n"
     ]
    }
   ],
   "source": [
    "# Exemplos de strings\n",
    "\n",
    "palavra = 'Hello, world!'\n",
    "numero = '2023'\n",
    "print(type(palavra))\n",
    "print(type(numero))"
   ]
  },
  {
   "cell_type": "code",
   "execution_count": 5,
   "id": "266fff8c",
   "metadata": {},
   "outputs": [
    {
     "name": "stdout",
     "output_type": "stream",
     "text": [
      "Hello, world!2023\n"
     ]
    }
   ],
   "source": [
    "# Concatenar número com string\n",
    "print(palavra + numero)"
   ]
  },
  {
   "cell_type": "code",
   "execution_count": 6,
   "id": "da813b5b",
   "metadata": {},
   "outputs": [
    {
     "ename": "TypeError",
     "evalue": "can only concatenate str (not \"int\") to str",
     "output_type": "error",
     "traceback": [
      "\u001b[1;31m---------------------------------------------------------------------------\u001b[0m",
      "\u001b[1;31mTypeError\u001b[0m                                 Traceback (most recent call last)",
      "Cell \u001b[1;32mIn[6], line 2\u001b[0m\n\u001b[0;32m      1\u001b[0m \u001b[38;5;66;03m# Erro ao concatenar número com string\u001b[39;00m\n\u001b[1;32m----> 2\u001b[0m \u001b[38;5;28mprint\u001b[39m(\u001b[43mpalavra\u001b[49m\u001b[43m \u001b[49m\u001b[38;5;241;43m+\u001b[39;49m\u001b[43m \u001b[49m\u001b[38;5;241;43m2023\u001b[39;49m)\n",
      "\u001b[1;31mTypeError\u001b[0m: can only concatenate str (not \"int\") to str"
     ]
    }
   ],
   "source": [
    "# Erro ao concatenar número com string\n",
    "print(palavra + 2023)"
   ]
  },
  {
   "cell_type": "code",
   "execution_count": 7,
   "id": "a465e574",
   "metadata": {},
   "outputs": [
    {
     "ename": "TypeError",
     "evalue": "'str' object does not support item assignment",
     "output_type": "error",
     "traceback": [
      "\u001b[1;31m---------------------------------------------------------------------------\u001b[0m",
      "\u001b[1;31mTypeError\u001b[0m                                 Traceback (most recent call last)",
      "Cell \u001b[1;32mIn[7], line 2\u001b[0m\n\u001b[0;32m      1\u001b[0m \u001b[38;5;66;03m# Erro (Objeto imutável)\u001b[39;00m\n\u001b[1;32m----> 2\u001b[0m \u001b[43mpalavra\u001b[49m\u001b[43m[\u001b[49m\u001b[38;5;241;43m0\u001b[39;49m\u001b[43m]\u001b[49m \u001b[38;5;241m=\u001b[39m \u001b[38;5;124m'\u001b[39m\u001b[38;5;124mO\u001b[39m\u001b[38;5;124m'\u001b[39m\n",
      "\u001b[1;31mTypeError\u001b[0m: 'str' object does not support item assignment"
     ]
    }
   ],
   "source": [
    "# Erro (Objeto imutável) - Tentar alterar a letra de índice 0\n",
    "palavra[0] = 'O'"
   ]
  },
  {
   "cell_type": "markdown",
   "id": "5f6e6a23",
   "metadata": {},
   "source": [
    "**Booleano (Bool)**: Booleanos representam Verdadeiro (True) ou Falso (False). São tratados como inteiros em operações matemáticas, pois True representa 1 e False representa 0."
   ]
  },
  {
   "cell_type": "code",
   "execution_count": 8,
   "id": "efb635be",
   "metadata": {},
   "outputs": [
    {
     "name": "stdout",
     "output_type": "stream",
     "text": [
      "False\n",
      "<class 'bool'>\n"
     ]
    }
   ],
   "source": [
    "# Exemplos de booleanos\n",
    "\n",
    "h = 6 > 9\n",
    "print(h)\n",
    "print(type(h))"
   ]
  },
  {
   "cell_type": "code",
   "execution_count": 9,
   "id": "dddc31db",
   "metadata": {},
   "outputs": [
    {
     "data": {
      "text/plain": [
       "1"
      ]
     },
     "execution_count": 9,
     "metadata": {},
     "output_type": "execute_result"
    }
   ],
   "source": [
    "# Soma de booleanos\n",
    "True + False"
   ]
  },
  {
   "cell_type": "code",
   "execution_count": 15,
   "id": "d0d4df2d",
   "metadata": {},
   "outputs": [
    {
     "name": "stdout",
     "output_type": "stream",
     "text": [
      "False\n",
      "False\n"
     ]
    }
   ],
   "source": [
    "# Comparações\n",
    "palavra1 = 'Hello'\n",
    "palavra2 = 'World'\n",
    "\n",
    "print(palavra1 == palavra2)\n",
    "# Para comparação entre duas strings, considera-se a ordem alfabética da letra inicial na string\n",
    "print(palavra1 > palavra2)"
   ]
  },
  {
   "cell_type": "markdown",
   "id": "f78d4543",
   "metadata": {},
   "source": [
    "**Transformações de tipos de dados**\n",
    "- str(): Transformar o objeto em str\n",
    "- int(): Transformar o objeto em int\n",
    "- float(): Transforma o objeto em float"
   ]
  },
  {
   "cell_type": "code",
   "execution_count": 18,
   "id": "d6dfd151",
   "metadata": {},
   "outputs": [
    {
     "name": "stdout",
     "output_type": "stream",
     "text": [
      "25\n",
      "10.0\n",
      "1\n",
      "Tenho 1.5 horas restantes.\n"
     ]
    }
   ],
   "source": [
    "# Transformações\n",
    "print(int(25.5))\n",
    "print(float(10))\n",
    "print(int(True))\n",
    "print('Tenho ' + str(1.5) + ' horas restantes.')"
   ]
  },
  {
   "cell_type": "code",
   "execution_count": 19,
   "id": "41fa5966",
   "metadata": {},
   "outputs": [
    {
     "ename": "ValueError",
     "evalue": "invalid literal for int() with base 10: 'Hello World'",
     "output_type": "error",
     "traceback": [
      "\u001b[1;31m---------------------------------------------------------------------------\u001b[0m",
      "\u001b[1;31mValueError\u001b[0m                                Traceback (most recent call last)",
      "Cell \u001b[1;32mIn[19], line 2\u001b[0m\n\u001b[0;32m      1\u001b[0m \u001b[38;5;66;03m# Erro de transformação\u001b[39;00m\n\u001b[1;32m----> 2\u001b[0m \u001b[38;5;28;43mint\u001b[39;49m\u001b[43m(\u001b[49m\u001b[38;5;124;43m'\u001b[39;49m\u001b[38;5;124;43mHello World\u001b[39;49m\u001b[38;5;124;43m'\u001b[39;49m\u001b[43m)\u001b[49m\n",
      "\u001b[1;31mValueError\u001b[0m: invalid literal for int() with base 10: 'Hello World'"
     ]
    }
   ],
   "source": [
    "# Erro de transformação - Tentar transformar str em int\n",
    "int('Hello World')"
   ]
  },
  {
   "cell_type": "markdown",
   "id": "f6852051",
   "metadata": {},
   "source": [
    "## O que são Estrutura de Dados?\n",
    "### **O que são estrutura de dados?** ###\n",
    "São estruturas utilizadas para armazenar informações, isto é, diferentes tipos de dados. Como exemplo\n",
    "- listas\n",
    "- tuplas\n",
    "- sets\n",
    "- dicionários\n",
    "\n",
    "Vamos supor que você queira guardar a média de notas de 5 alunos, seria mais prático utilizar uma variável diferente para cada nota ou uma lista de notas?\n",
    "\n",
    "Variáveis diferentes:\n",
    "- a = 5\n",
    "- b = 6\n",
    "- c = 2.5\n",
    "- d = 7\n",
    "- e = 9.5\n",
    "\n",
    "\n",
    "Lista:\n",
    "- notas = [5, 6, 2.5, 7, 9.5]"
   ]
  },
  {
   "cell_type": "markdown",
   "id": "7ac8f08e",
   "metadata": {},
   "source": [
    "## O que são métodos e funções?\n",
    "Ambos são um conjunto de instruções guardadas em um código que denvolve uma saída relacionada ao objeto de análise. A principal diferença entre eles está no conjunto de objetos nas quais eles podem ser aplicados. Por exemplo:\n",
    "- A função len() pode ser utilizada em listas, strings, dicionários, etc.\n",
    "- As listas possuem métodos como .sort(), .append(), .remove()."
   ]
  },
  {
   "cell_type": "code",
   "execution_count": 22,
   "id": "9eea2f83",
   "metadata": {},
   "outputs": [
    {
     "name": "stdout",
     "output_type": "stream",
     "text": [
      "7\n",
      "3\n",
      "3\n"
     ]
    }
   ],
   "source": [
    "# Utilizar a função len()\n",
    "\n",
    "# Variável\n",
    "entidade = 'FEA.dev'\n",
    "# List\n",
    "instituto = ['FEA','Poli','IME']\n",
    "# Dicionário\n",
    "faculdade = {'FEA':['Economia','Administração','Contábeis','Atuárias'],'Poli':'Civil','IME':'Estatística'}\n",
    "print(len(entidade))\n",
    "print(len(instituto))\n",
    "print(len(faculdade))"
   ]
  },
  {
   "cell_type": "code",
   "execution_count": 23,
   "id": "81bf33f2",
   "metadata": {},
   "outputs": [
    {
     "name": "stdout",
     "output_type": "stream",
     "text": [
      "['FEA', 'Poli', 'IME', 'FAU']\n"
     ]
    }
   ],
   "source": [
    "# Para adicionar um elemento à lista, utiliza-se o método .append()\n",
    "instituto.append('FAU')\n",
    "print(instituto)"
   ]
  },
  {
   "cell_type": "code",
   "execution_count": 24,
   "id": "2c45274d",
   "metadata": {},
   "outputs": [
    {
     "ename": "AttributeError",
     "evalue": "'str' object has no attribute 'append'",
     "output_type": "error",
     "traceback": [
      "\u001b[1;31m---------------------------------------------------------------------------\u001b[0m",
      "\u001b[1;31mAttributeError\u001b[0m                            Traceback (most recent call last)",
      "Cell \u001b[1;32mIn[24], line 2\u001b[0m\n\u001b[0;32m      1\u001b[0m \u001b[38;5;66;03m# Erro no .append() - Adicionar um elemento em uma variável\u001b[39;00m\n\u001b[1;32m----> 2\u001b[0m \u001b[43mentidade\u001b[49m\u001b[38;5;241;43m.\u001b[39;49m\u001b[43mappend\u001b[49m(\u001b[38;5;124m'\u001b[39m\u001b[38;5;124mUSP\u001b[39m\u001b[38;5;124m'\u001b[39m)\n",
      "\u001b[1;31mAttributeError\u001b[0m: 'str' object has no attribute 'append'"
     ]
    }
   ],
   "source": [
    "# Erro no .append() - Tentar dicionar um elemento em uma variável\n",
    "entidade.append('USP')"
   ]
  },
  {
   "cell_type": "markdown",
   "id": "5f047d9d",
   "metadata": {},
   "source": [
    "**Métodos úteis de string**: Podemos cintar como os principais métodos úteis aplicados a strings:\n",
    "\n",
    "1. exemplo.upper(): retorna a string 'exemplo' em letras maiúsculas;\n",
    "\n",
    "2. exemplo.lower(): retorna a string 'exemplo' toda em letras minúsculas;\n",
    "\n",
    "3. exemplo.replace('e','i'): retorna a string com todas as letras 'e' em 'Dev' substituídas por 'i'.\n",
    "\n",
    "4. exemplo.strip(): retorna o 'exemplo' retirando possíveis espaços em branco no início e no fim da string;\n",
    "\n",
    "5. exemplo.startswith('x'): retorna se o 'exemplo' começa com a string 'x';\n",
    "\n",
    "6. exemplo.endswith('z'): retorna se o 'exemplo' termina com a string 'z';\n",
    "\n",
    "7. exemplo.find('xyz'): procura a string 'xyz' dentro de 'exemplo' e retorna o primeiro índice onde 'xyz' começa ou retorna -1 se nada for encontrado;"
   ]
  },
  {
   "cell_type": "code",
   "execution_count": 28,
   "id": "b7d6d2b7",
   "metadata": {},
   "outputs": [
    {
     "name": "stdout",
     "output_type": "stream",
     "text": [
      "Qual é o seu nome?Luis\n",
      "Você é o Luis!\n"
     ]
    }
   ],
   "source": [
    "# Utilizando os métodos\n",
    "nome = input('Qual é o seu nome?')\n",
    "\n",
    "if nome.lower() == 'luis':\n",
    "    print('Você é o Luis!')\n",
    "\n",
    "else:\n",
    "    print('Você não é o Luis!')"
   ]
  },
  {
   "cell_type": "code",
   "execution_count": 29,
   "id": "a13456b5",
   "metadata": {},
   "outputs": [
    {
     "name": "stdout",
     "output_type": "stream",
     "text": [
      "  FEA   \n",
      "FEA\n"
     ]
    }
   ],
   "source": [
    "# Utilizar outros métodos\n",
    "instituto1 = '  FEA   '\n",
    "print(instituto1)\n",
    "print(instituto1.strip())"
   ]
  },
  {
   "cell_type": "code",
   "execution_count": 30,
   "id": "b69b9943",
   "metadata": {},
   "outputs": [
    {
     "name": "stdout",
     "output_type": "stream",
     "text": [
      "....FEA\n",
      "FEA\n"
     ]
    }
   ],
   "source": [
    "instituto2 = '....FEA'\n",
    "print(instituto2)\n",
    "print(instituto2.strip('.'))"
   ]
  },
  {
   "cell_type": "code",
   "execution_count": 34,
   "id": "1c6dc35e",
   "metadata": {},
   "outputs": [
    {
     "name": "stdout",
     "output_type": "stream",
     "text": [
      "False\n",
      "True\n",
      "2\n"
     ]
    }
   ],
   "source": [
    "objetivo = 'Programação'\n",
    "print(objetivo.startswith('p'))\n",
    "print(objetivo.endswith('o'))\n",
    "print(objetivo.find('og'))"
   ]
  },
  {
   "cell_type": "code",
   "execution_count": 36,
   "id": "97090e8e",
   "metadata": {},
   "outputs": [
    {
     "name": "stdout",
     "output_type": "stream",
     "text": [
      "Luís\n",
      "Luis\n",
      "Luís\n"
     ]
    }
   ],
   "source": [
    "# Objeto imutável\n",
    "name = 'Luís'\n",
    "print(name)\n",
    "print(name.replace('í','i'))\n",
    "print(name)"
   ]
  },
  {
   "cell_type": "markdown",
   "id": "e5557da7",
   "metadata": {},
   "source": [
    "**Formatação de string**: Existem diversas formas de formatar saídas em 'print', mas as mais eficientes são o f-strings e .format()."
   ]
  },
  {
   "cell_type": "code",
   "execution_count": 45,
   "id": "ce7a106f",
   "metadata": {},
   "outputs": [
    {
     "name": "stdout",
     "output_type": "stream",
     "text": [
      "Eu tenho 25 anos.\n"
     ]
    }
   ],
   "source": [
    "# Método 'convencional' (sem usar uma variável)\n",
    "frase1 = 'Eu tenho'\n",
    "frase2 = 'anos.'\n",
    "print(frase1 + ' ' + str(25) + ' ' + frase2)"
   ]
  },
  {
   "cell_type": "code",
   "execution_count": 38,
   "id": "7b58d892",
   "metadata": {},
   "outputs": [
    {
     "name": "stdout",
     "output_type": "stream",
     "text": [
      "Eu tenho 25 anos.\n",
      "Eu tenho 25 anos.\n"
     ]
    }
   ],
   "source": [
    "# Métodos f-string e .format()\n",
    "idade = 25\n",
    "print(f'Eu tenho {idade} anos.')\n",
    "print('Eu tenho {} anos.' .format(idade))"
   ]
  },
  {
   "cell_type": "code",
   "execution_count": 39,
   "id": "76c688da",
   "metadata": {},
   "outputs": [
    {
     "name": "stdout",
     "output_type": "stream",
     "text": [
      "Perdi 16.881943016134134 reais.\n"
     ]
    }
   ],
   "source": [
    "# Importância da formatação\n",
    "variavel = (15 * 19) ** (1/2)\n",
    "print(f'Perdi {variavel} reais.')"
   ]
  },
  {
   "cell_type": "code",
   "execution_count": 46,
   "id": "70ac2c68",
   "metadata": {},
   "outputs": [
    {
     "name": "stdout",
     "output_type": "stream",
     "text": [
      "Perdi 16.88 reais.\n",
      "Perdi 16.88 reais.\n",
      "Perdi 16.88 reais.\n"
     ]
    }
   ],
   "source": [
    "# Arredondar e outras formas de formatação\n",
    "variavel2 = round(variavel, 2)\n",
    "\n",
    "print(f'Perdi {variavel2} reais.')\n",
    "print('Perdi {:.2f} reais.'.format(variavel))\n",
    "print('Perdi %.2f reais.' %variavel)"
   ]
  },
  {
   "cell_type": "code",
   "execution_count": 49,
   "id": "2408386b",
   "metadata": {},
   "outputs": [
    {
     "name": "stdout",
     "output_type": "stream",
     "text": [
      "Perdi 16.88 reais, mas ganhei 1494.00 reais.\n"
     ]
    }
   ],
   "source": [
    "# Duas ou mais variáveis\n",
    "recuperei = 1245 * 1.2\n",
    "print('Perdi {:.2f} reais, mas ganhei {:.2f} reais.'.format(variavel2, recuperei))"
   ]
  },
  {
   "cell_type": "markdown",
   "id": "3ce01672",
   "metadata": {},
   "source": [
    "## Estruturas de dados: Listas, Tuplas, Sets e Dicionários\n",
    "- **Listas**: Sequência de valores de qualquer tipo, definidas por colchetes cujos itens são separados por vírgula. Objeto mutável;\n",
    "- **Tuplas**: Assim como as listas, é uma sequência de valor de qualquer tipo, porém definidas por parênteses cujos itens são separados por vírgula. Objeto imutável;\n",
    "- **Sets**: Estruturas que não possuem dados duplicados definidas por chaves, todos elementos de um set tem que ser imutáveis, embora o set em si é mutável. Seus itens também são separados por vírgula;\n",
    "- **Dicionários**: Uma estrutura que contém uma coleção de índices (chamados de chaves) e uma coleção de valores. Sua forma é: dict = {key: value}. São objetos mutáveis."
   ]
  },
  {
   "cell_type": "code",
   "execution_count": 50,
   "id": "a003821c",
   "metadata": {},
   "outputs": [
    {
     "name": "stdout",
     "output_type": "stream",
     "text": [
      "<class 'list'>\n"
     ]
    }
   ],
   "source": [
    "# Lista\n",
    "lista = ['FEA', 12, '.dev', 25.0, True]\n",
    "print(type(lista))"
   ]
  },
  {
   "cell_type": "code",
   "execution_count": 51,
   "id": "d451de51",
   "metadata": {},
   "outputs": [
    {
     "name": "stdout",
     "output_type": "stream",
     "text": [
      "12\n",
      "FEA\n",
      "25.0\n",
      "['FEA', 12]\n"
     ]
    }
   ],
   "source": [
    "# Indexação e fatiamento de listas - Retornar os elementos pelo índice\n",
    "print(lista[1])\n",
    "print(lista[0])\n",
    "print(lista[-2])\n",
    "print(lista[0:2])"
   ]
  },
  {
   "cell_type": "code",
   "execution_count": 52,
   "id": "3f887201",
   "metadata": {},
   "outputs": [
    {
     "name": "stdout",
     "output_type": "stream",
     "text": [
      "['FEA', 12, '.dev', 25.0, False]\n"
     ]
    }
   ],
   "source": [
    "# Objeto mutável - Modificar o último elemento da lista\n",
    "lista[-1] = False\n",
    "print(lista)"
   ]
  },
  {
   "cell_type": "code",
   "execution_count": 54,
   "id": "a9d9269c",
   "metadata": {},
   "outputs": [
    {
     "ename": "IndexError",
     "evalue": "list index out of range",
     "output_type": "error",
     "traceback": [
      "\u001b[1;31m---------------------------------------------------------------------------\u001b[0m",
      "\u001b[1;31mIndexError\u001b[0m                                Traceback (most recent call last)",
      "Cell \u001b[1;32mIn[54], line 2\u001b[0m\n\u001b[0;32m      1\u001b[0m \u001b[38;5;66;03m# Erro ao indexar fora do intervalo\u001b[39;00m\n\u001b[1;32m----> 2\u001b[0m \u001b[38;5;28mprint\u001b[39m(\u001b[43mlista\u001b[49m\u001b[43m[\u001b[49m\u001b[38;5;241;43m5\u001b[39;49m\u001b[43m]\u001b[49m)\n",
      "\u001b[1;31mIndexError\u001b[0m: list index out of range"
     ]
    }
   ],
   "source": [
    "# Erro ao indexar fora do intervalo\n",
    "print(lista[5])"
   ]
  },
  {
   "cell_type": "code",
   "execution_count": 55,
   "id": "222013e6",
   "metadata": {},
   "outputs": [
    {
     "name": "stdout",
     "output_type": "stream",
     "text": [
      "['FEA', 12, '.dev', 25.0, False, 'USP', False, True, 49.5]\n",
      "['FEA', 12, '.dev', 25.0, False, 'FEA', 12, '.dev', 25.0, False, 'FEA', 12, '.dev', 25.0, False, 'FEA', 12, '.dev', 25.0, False, 'FEA', 12, '.dev', 25.0, False]\n"
     ]
    }
   ],
   "source": [
    "# Operações com listas - Unir/Concatenar as listas\n",
    "lista1 = ['USP', False, True, 49.5]\n",
    "print(lista + lista1)\n",
    "print(lista * 5)"
   ]
  },
  {
   "cell_type": "code",
   "execution_count": 58,
   "id": "b4888287",
   "metadata": {},
   "outputs": [
    {
     "name": "stdout",
     "output_type": "stream",
     "text": [
      "[['FEA', 12, '.dev', 25.0, False], ['USP', False, True, 49.5]]\n",
      "USP\n"
     ]
    }
   ],
   "source": [
    "# Indexação listas dentro de listas\n",
    "lista2 = [lista, lista1]\n",
    "print(lista2)\n",
    "# Retornar o elemento 'USP' [1] lista de índice 1 [0] elemento de índice 0\n",
    "print(lista2[1][0])"
   ]
  },
  {
   "cell_type": "code",
   "execution_count": 59,
   "id": "19608c46",
   "metadata": {},
   "outputs": [
    {
     "name": "stdout",
     "output_type": "stream",
     "text": [
      "5\n",
      "17\n",
      "2.5\n",
      "43.0\n"
     ]
    }
   ],
   "source": [
    "# Outras funções com listas\n",
    "lista3 = [4.5, 7, 12, 17, 2.5]\n",
    "print(len(lista3))\n",
    "print(max(lista3))\n",
    "print(min(lista3))\n",
    "print(sum(lista3))"
   ]
  },
  {
   "cell_type": "code",
   "execution_count": 60,
   "id": "b4e73027",
   "metadata": {},
   "outputs": [
    {
     "data": {
      "text/plain": [
       "True"
      ]
     },
     "execution_count": 60,
     "metadata": {},
     "output_type": "execute_result"
    }
   ],
   "source": [
    "# Função 'in'\n",
    "'USP' in lista1"
   ]
  },
  {
   "cell_type": "code",
   "execution_count": 67,
   "id": "9fc98535",
   "metadata": {},
   "outputs": [
    {
     "data": {
      "text/plain": [
       "['a', 'b', 'c']"
      ]
     },
     "execution_count": 67,
     "metadata": {},
     "output_type": "execute_result"
    }
   ],
   "source": [
    "# Função list()\n",
    "list('abc')"
   ]
  },
  {
   "cell_type": "markdown",
   "id": "906b5393",
   "metadata": {},
   "source": [
    "**Métodos úteis de listas**\n",
    "- lista.append(x): adiciona o elemento 'x' no final da lista;\n",
    "- lista.sort(): ordena a lista;\n",
    "- lista.index(x): devolve o índice do elemento 'x' na lista;\n",
    "- lista.pop(i): remove o elemento de índice 'i' da lista;\n",
    "- list.remove(x): remove o primeiro elemento 'x' da lista;\n",
    "- list.insert(i, x): insere o elemento 'x' no índice 'i' da lista;"
   ]
  },
  {
   "cell_type": "code",
   "execution_count": 71,
   "id": "e5067c2e",
   "metadata": {},
   "outputs": [
    {
     "name": "stdout",
     "output_type": "stream",
     "text": [
      "[2, 9.2, 0, 13.6, 14, 0.1]\n"
     ]
    }
   ],
   "source": [
    "# .append() - Adicionar elemento\n",
    "new_list = [2, 9.2, 0, 13.6, 14]\n",
    "\n",
    "new_list.append(0.1)\n",
    "print(new_list)"
   ]
  },
  {
   "cell_type": "code",
   "execution_count": 72,
   "id": "e9eaddc7",
   "metadata": {},
   "outputs": [
    {
     "name": "stdout",
     "output_type": "stream",
     "text": [
      "[14, 2, 9.2, 0, 13.6, 14, 0.1]\n"
     ]
    }
   ],
   "source": [
    "# .insert() - Inserir elemento em um índice/posição específico\n",
    "new_list.insert(0, 14)\n",
    "print(new_list)"
   ]
  },
  {
   "cell_type": "code",
   "execution_count": 73,
   "id": "8ecc5907",
   "metadata": {},
   "outputs": [
    {
     "name": "stdout",
     "output_type": "stream",
     "text": [
      "[14, 2, 9.2, 0, 13.6, 14]\n"
     ]
    }
   ],
   "source": [
    "# .pop() - Remover um elemento a partir do índice\n",
    "new_list.pop(-1)\n",
    "print(new_list)"
   ]
  },
  {
   "cell_type": "code",
   "execution_count": 74,
   "id": "334aa13e",
   "metadata": {},
   "outputs": [
    {
     "name": "stdout",
     "output_type": "stream",
     "text": [
      "[2, 9.2, 0, 13.6, 14]\n"
     ]
    }
   ],
   "source": [
    "# remove() - Remover um item\n",
    "new_list.remove(14)\n",
    "print(new_list)"
   ]
  },
  {
   "cell_type": "code",
   "execution_count": 75,
   "id": "b88eef79",
   "metadata": {},
   "outputs": [
    {
     "name": "stdout",
     "output_type": "stream",
     "text": [
      "3\n"
     ]
    }
   ],
   "source": [
    "# .index() - Verificar o índice/posição de um elemento\n",
    "print(new_list.index(13.6))"
   ]
  },
  {
   "cell_type": "code",
   "execution_count": 76,
   "id": "c120c1e0",
   "metadata": {},
   "outputs": [
    {
     "name": "stdout",
     "output_type": "stream",
     "text": [
      "[0, 2, 9.2, 13.6, 14]\n"
     ]
    }
   ],
   "source": [
    "# .sort() - Ordenar a lista\n",
    "new_list.sort()\n",
    "print(new_list)"
   ]
  },
  {
   "cell_type": "code",
   "execution_count": 61,
   "id": "7beb5295",
   "metadata": {},
   "outputs": [
    {
     "name": "stdout",
     "output_type": "stream",
     "text": [
      "<class 'tuple'>\n"
     ]
    }
   ],
   "source": [
    "# Tupla\n",
    "tupla1 = (1, True, 'USP', 9.5)\n",
    "print(type(tupla1))"
   ]
  },
  {
   "cell_type": "code",
   "execution_count": 62,
   "id": "7efeab86",
   "metadata": {},
   "outputs": [
    {
     "name": "stdout",
     "output_type": "stream",
     "text": [
      "USP\n",
      "(1, True)\n"
     ]
    }
   ],
   "source": [
    "# Indexação de tuplas - Retornar os elementos pelo índice\n",
    "print(tupla1[2])\n",
    "print(tupla1[0:2])"
   ]
  },
  {
   "cell_type": "code",
   "execution_count": 63,
   "id": "43b229aa",
   "metadata": {},
   "outputs": [
    {
     "ename": "TypeError",
     "evalue": "'tuple' object does not support item assignment",
     "output_type": "error",
     "traceback": [
      "\u001b[1;31m---------------------------------------------------------------------------\u001b[0m",
      "\u001b[1;31mTypeError\u001b[0m                                 Traceback (most recent call last)",
      "Cell \u001b[1;32mIn[63], line 2\u001b[0m\n\u001b[0;32m      1\u001b[0m \u001b[38;5;66;03m# Objeto imutável\u001b[39;00m\n\u001b[1;32m----> 2\u001b[0m \u001b[43mtupla1\u001b[49m\u001b[43m[\u001b[49m\u001b[38;5;241;43m1\u001b[39;49m\u001b[43m]\u001b[49m \u001b[38;5;241m=\u001b[39m \u001b[38;5;28;01mFalse\u001b[39;00m\n",
      "\u001b[1;31mTypeError\u001b[0m: 'tuple' object does not support item assignment"
     ]
    }
   ],
   "source": [
    "# Objeto imutável\n",
    "tupla1[1] = False"
   ]
  },
  {
   "cell_type": "code",
   "execution_count": 64,
   "id": "61bf412e",
   "metadata": {},
   "outputs": [
    {
     "name": "stdout",
     "output_type": "stream",
     "text": [
      "(1, True, 'USP', 9.5, 'Hello', 'World')\n",
      "(1, True, 'USP', 9.5, 1, True, 'USP', 9.5, 1, True, 'USP', 9.5, 1, True, 'USP', 9.5, 1, True, 'USP', 9.5)\n",
      "World\n"
     ]
    }
   ],
   "source": [
    "# Concatenação e funções utilizadas em listas também servem para tuplas.\n",
    "tupla2 = ('Hello', 'World')\n",
    "print(tupla1 + tupla2)\n",
    "print(tupla1 * 5)\n",
    "print(max(tupla2))"
   ]
  },
  {
   "cell_type": "code",
   "execution_count": 66,
   "id": "d97285b2",
   "metadata": {},
   "outputs": [
    {
     "data": {
      "text/plain": [
       "('a', 'b', 'c')"
      ]
     },
     "execution_count": 66,
     "metadata": {},
     "output_type": "execute_result"
    }
   ],
   "source": [
    "# Função tuple()\n",
    "tuple('abc')"
   ]
  },
  {
   "cell_type": "code",
   "execution_count": 68,
   "id": "a1079409",
   "metadata": {},
   "outputs": [
    {
     "name": "stdout",
     "output_type": "stream",
     "text": [
      "{1, 2, 3, 4, 'cinco'}\n",
      "<class 'set'>\n"
     ]
    }
   ],
   "source": [
    "# Set - Remove duplicados\n",
    "lista = {1, 2, 2, 2, 'cinco', 3, 4, 1, 1, 4, 'cinco'}\n",
    "st = set(lista)\n",
    "print(st)\n",
    "print(type(st))"
   ]
  },
  {
   "cell_type": "code",
   "execution_count": 69,
   "id": "a1126aa6",
   "metadata": {
    "scrolled": true
   },
   "outputs": [
    {
     "ename": "TypeError",
     "evalue": "'set' object is not subscriptable",
     "output_type": "error",
     "traceback": [
      "\u001b[1;31m---------------------------------------------------------------------------\u001b[0m",
      "\u001b[1;31mTypeError\u001b[0m                                 Traceback (most recent call last)",
      "Cell \u001b[1;32mIn[69], line 2\u001b[0m\n\u001b[0;32m      1\u001b[0m \u001b[38;5;66;03m# Não é possível realizar Indexação\u001b[39;00m\n\u001b[1;32m----> 2\u001b[0m \u001b[43mst\u001b[49m\u001b[43m[\u001b[49m\u001b[38;5;241;43m0\u001b[39;49m\u001b[43m]\u001b[49m\n",
      "\u001b[1;31mTypeError\u001b[0m: 'set' object is not subscriptable"
     ]
    }
   ],
   "source": [
    "# Não é possível realizar Indexação\n",
    "st[0]"
   ]
  },
  {
   "cell_type": "code",
   "execution_count": 70,
   "id": "1215eb31",
   "metadata": {},
   "outputs": [
    {
     "name": "stdout",
     "output_type": "stream",
     "text": [
      "{1, 2, 3, 4, 8, 'cinco'}\n"
     ]
    }
   ],
   "source": [
    "# Para adicionar elementos, utiliza-se o método .add() - mas não é possível modificar um elemento\n",
    "st.add(8)\n",
    "print(st)"
   ]
  },
  {
   "cell_type": "code",
   "execution_count": 77,
   "id": "1aadfbca",
   "metadata": {},
   "outputs": [
    {
     "name": "stdout",
     "output_type": "stream",
     "text": [
      "<class 'dict'>\n"
     ]
    }
   ],
   "source": [
    "# Dicionários\n",
    "faculdades = {'FEA':['Economia','Administração','Contábeis','Atuárias'],'Poli':'Civil','IME':'Estatística'}\n",
    "print(type(faculdades))"
   ]
  },
  {
   "cell_type": "code",
   "execution_count": 78,
   "id": "10d4e959",
   "metadata": {},
   "outputs": [
    {
     "ename": "KeyError",
     "evalue": "2",
     "output_type": "error",
     "traceback": [
      "\u001b[1;31m---------------------------------------------------------------------------\u001b[0m",
      "\u001b[1;31mKeyError\u001b[0m                                  Traceback (most recent call last)",
      "Cell \u001b[1;32mIn[78], line 2\u001b[0m\n\u001b[0;32m      1\u001b[0m \u001b[38;5;66;03m# Não é possível indexação por posição\u001b[39;00m\n\u001b[1;32m----> 2\u001b[0m \u001b[43mfaculdades\u001b[49m\u001b[43m[\u001b[49m\u001b[38;5;241;43m2\u001b[39;49m\u001b[43m]\u001b[49m\n",
      "\u001b[1;31mKeyError\u001b[0m: 2"
     ]
    }
   ],
   "source": [
    "# Não é possível indexação por posição\n",
    "faculdades[2]"
   ]
  },
  {
   "cell_type": "code",
   "execution_count": 80,
   "id": "fbec3490",
   "metadata": {},
   "outputs": [
    {
     "name": "stdout",
     "output_type": "stream",
     "text": [
      "['Economia', 'Administração', 'Contábeis', 'Atuárias']\n",
      "Contábeis\n"
     ]
    }
   ],
   "source": [
    "# Indexação por chaves - Retorna os valores\n",
    "print(faculdades['FEA'])\n",
    "# Retornar o valor 'Contábeis' ['FEA'] chave do dict [2] elemento da lista de índice 2\n",
    "print(faculdades['FEA'][2])"
   ]
  },
  {
   "cell_type": "code",
   "execution_count": 81,
   "id": "851b57ea",
   "metadata": {},
   "outputs": [
    {
     "name": "stdout",
     "output_type": "stream",
     "text": [
      "{'FEA': ['Economia', 'Administração', 'Contábeis', 'Atuárias'], 'Poli': 'Civil', 'IME': 'Estatística', 'FFLCH': 'História'}\n"
     ]
    }
   ],
   "source": [
    "# Objeto mutável - Adicionar um par de chave e valor em um dicionário\n",
    "faculdades['FFLCH'] = 'História'\n",
    "print(faculdades)"
   ]
  },
  {
   "cell_type": "markdown",
   "id": "ba31cc64",
   "metadata": {},
   "source": [
    "**Métodos úteis de dicionários**\n",
    "- **dict.keys():** retorna uma lista com todas as chaves do dicionário;\n",
    "- **dict.values():** retorna uma lista com todos os valores do dicionário;\n",
    "- **dict.items():** retorna uma lista com todos os pares chave-valor do dicionário."
   ]
  },
  {
   "cell_type": "code",
   "execution_count": 82,
   "id": "b2569671",
   "metadata": {},
   "outputs": [
    {
     "name": "stdout",
     "output_type": "stream",
     "text": [
      "dict_items([('FEA', ['Economia', 'Administração', 'Contábeis', 'Atuárias']), ('Poli', 'Civil'), ('IME', 'Estatística'), ('FFLCH', 'História')])\n"
     ]
    }
   ],
   "source": [
    "# .keys() - Retorna uma tupla com pares de chave e valor\n",
    "print(faculdades.items())"
   ]
  },
  {
   "cell_type": "code",
   "execution_count": 83,
   "id": "31409e04",
   "metadata": {},
   "outputs": [
    {
     "name": "stdout",
     "output_type": "stream",
     "text": [
      "dict_keys(['FEA', 'Poli', 'IME', 'FFLCH'])\n"
     ]
    }
   ],
   "source": [
    "# .values() - Retorna uma tupla com as chaves\n",
    "print(faculdades.keys())"
   ]
  },
  {
   "cell_type": "code",
   "execution_count": 84,
   "id": "4aede35c",
   "metadata": {},
   "outputs": [
    {
     "name": "stdout",
     "output_type": "stream",
     "text": [
      "dict_values([['Economia', 'Administração', 'Contábeis', 'Atuárias'], 'Civil', 'Estatística', 'História'])\n"
     ]
    }
   ],
   "source": [
    "# .values() - Retorna uma tupla com os valores\n",
    "print(faculdades.values())"
   ]
  }
 ],
 "metadata": {
  "kernelspec": {
   "display_name": "Python 3 (ipykernel)",
   "language": "python",
   "name": "python3"
  },
  "language_info": {
   "codemirror_mode": {
    "name": "ipython",
    "version": 3
   },
   "file_extension": ".py",
   "mimetype": "text/x-python",
   "name": "python",
   "nbconvert_exporter": "python",
   "pygments_lexer": "ipython3",
   "version": "3.9.13"
  }
 },
 "nbformat": 4,
 "nbformat_minor": 5
}
