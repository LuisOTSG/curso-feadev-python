{
 "cells": [
  {
   "cell_type": "markdown",
   "metadata": {},
   "source": [
    "# **Estruturas de Dados** #\n",
    "Nessa aula serão abordados os principais objetos existentes no Python: floats, inteiros, booleanos, strings, listas, tuplas, sets e dicionários."
   ]
  },
  {
   "cell_type": "markdown",
   "metadata": {},
   "source": [
    "## Sumário ##\n",
    "- Tipos de dados\n",
    "- O que são estruturas de dados\n",
    "- O que são métodos e noção de função\n",
    "- Métodos úteis de string\n",
    "- Formatação de string\n",
    "- Listas, tuplas e set\n",
    "- Métodos úteis de list\n",
    "- Dicionários\n",
    "- Métodos de dicionários\n"
   ]
  },
  {
   "cell_type": "markdown",
   "metadata": {},
   "source": [
    "### **Tipos de dados** ###"
   ]
  },
  {
   "cell_type": "markdown",
   "metadata": {},
   "source": [
    "**Integer (int):** Números inteiros.\n",
    "**Float:** \"Ponto flutuante\" - Números reais (Separação de decimal com ponto, não com vírgula)."
   ]
  },
  {
   "cell_type": "code",
   "execution_count": null,
   "metadata": {},
   "outputs": [],
   "source": [
    "# Exemplo 1 - Inteiro e Float\n",
    "a = 5\n",
    "b = 6.552\n",
    "c = -5.0\n",
    "\n",
    "# A função type() verifica qual é o tipo de dado da variável.\n",
    "print(type(a))\n",
    "print(type(b))\n",
    "print(type(c))"
   ]
  },
  {
   "cell_type": "markdown",
   "metadata": {},
   "source": [
    "Operações com inteiros e floats:\n",
    "- Soma +\n",
    "- Subtração -\n",
    "- Multiplicação *\n",
    "- Divisão /\n",
    "- Potência **\n",
    "- Raiz quadrada **(1/2)\n",
    "- Divisão inteira //\n",
    "- Resto da divisão inteira %"
   ]
  },
  {
   "cell_type": "code",
   "execution_count": null,
   "metadata": {},
   "outputs": [],
   "source": [
    "# Exemplo 2 - Função type()\n",
    "\n",
    "d = 5 + 5.0\n",
    "e = 2*3\n",
    "f = 4**(1/2)\n",
    "print(type(d))\n",
    "print(type(e))\n",
    "print(type(f))"
   ]
  },
  {
   "cell_type": "markdown",
   "metadata": {},
   "source": [
    "**String (str):** Junção de caracteres usualmente uilizada para representar palavras, mas não necessariamente apenas palavras, pois pode existir string de números. São definidas por aspas simples ou duplas. Objetos imutáveis."
   ]
  },
  {
   "cell_type": "code",
   "execution_count": null,
   "metadata": {},
   "outputs": [],
   "source": [
    "# Exemplo 3 - Algumas strings.\n",
    "\n",
    "palavra = 'Olá, mundo!'\n",
    "numero = '1550'\n",
    "print(type(palavra))\n",
    "print(type(numero))"
   ]
  },
  {
   "cell_type": "code",
   "execution_count": null,
   "metadata": {},
   "outputs": [],
   "source": [
    "# Exemplo 4 - Concatenando número com string."
   ]
  },
  {
   "cell_type": "code",
   "execution_count": null,
   "metadata": {},
   "outputs": [],
   "source": [
    "# Exemplo 5 - Erro ao concatenar número com string."
   ]
  },
  {
   "cell_type": "code",
   "execution_count": null,
   "metadata": {},
   "outputs": [],
   "source": [
    "# Exemplo 6 - Erro (Objeto imutável)"
   ]
  },
  {
   "cell_type": "markdown",
   "metadata": {},
   "source": [
    "**Boolean**: Em programação, booleanos representam Verdadeiro (True) ou Falso (False). São tratados como inteiros em operações matemáticas, pois True representa 1 e False representa 0. Muito utilizados em comparações."
   ]
  },
  {
   "cell_type": "code",
   "execution_count": null,
   "metadata": {},
   "outputs": [],
   "source": [
    "# Exemplo 7 - Identificando tipo bool\n",
    "\n",
    "z = 5 > 6\n",
    "print(z)\n",
    "print(type(z))"
   ]
  },
  {
   "cell_type": "code",
   "execution_count": null,
   "metadata": {},
   "outputs": [],
   "source": [
    "# Exemplo 8 - Soma de booleanos."
   ]
  },
  {
   "cell_type": "code",
   "execution_count": null,
   "metadata": {},
   "outputs": [],
   "source": [
    "# Exemplo 9 - Comparações.\n",
    "palavra1 = 'Olá'\n",
    "palavra2 = 'Mundo'\n",
    "\n",
    "print(palavra1 == palavra2)\n",
    "print(palavra1 > palavra2)"
   ]
  },
  {
   "cell_type": "markdown",
   "metadata": {},
   "source": [
    "A partir de algumas funções, é possível transformar objetos em outros tipos (não todos, por exemplo, não é possível transformar uma string em um inteiro). São elas:\n",
    "- str(): Transforma o objeto em string.\n",
    "- int(): Transforma o objeto em inteiro.\n",
    "- float(): Transforma o objeto em float."
   ]
  },
  {
   "cell_type": "code",
   "execution_count": null,
   "metadata": {},
   "outputs": [],
   "source": [
    "# Exemplo 10 - Transformações.\n",
    "print(int(19.9))\n",
    "\n",
    "print(float(10))\n",
    "\n",
    "print(int(True))\n",
    "\n",
    "print('Tenho ' + str(5.5) + ' reais.')"
   ]
  },
  {
   "cell_type": "code",
   "execution_count": null,
   "metadata": {},
   "outputs": [],
   "source": [
    "# Exemplo 11 - Erro  na transformação."
   ]
  },
  {
   "cell_type": "markdown",
   "metadata": {},
   "source": [
    "### **O que são estrutura de dados?** ###\n",
    "São estruturas utilizadas para armazenar informações, isto é, diferentes tipos de dados. Como exemplo: listas, tuplas, sets e dicionários.\n",
    "Vamos supor que você queira guardar a média de notas de 5 alunos, seria mais prático utilizar uma variável diferente para cada nota ou uma lista de notas?\n",
    "\n",
    "Variáveis diferentes:\n",
    "- a = 5\n",
    "- b = 6\n",
    "- c = 2.5\n",
    "- d = 7\n",
    "- e = 9.5\n",
    "\n",
    "\n",
    "Lista:\n",
    "- notas = [5, 6, 2.5, 7, 9.5]"
   ]
  },
  {
   "cell_type": "markdown",
   "metadata": {},
   "source": [
    "### **O que são métodos e funções?** ###\n",
    "Ambos são um conjunto de instruções guardadas em um código que denvolve uma saída relacionada ao objeto de análise. A principal diferença entre eles está no conjunto de objetos nas quais eles podem ser aplicados. Por exemplo:\n",
    "- A função len() pode ser utilizada em listas, strings, dicionários, etc.\n",
    "- As listas possuem métodos como .sort(), .append(), .remove()."
   ]
  },
  {
   "cell_type": "code",
   "execution_count": null,
   "metadata": {},
   "outputs": [],
   "source": [
    "# Exemplo 1 - Utilizando a função len()\n",
    "\n",
    "entidade = 'FEA.dev'\n",
    "institutos = ['FEA','Poli','IME']\n",
    "faculdades = {'FEA':['Economia','Administração','Contábeis','Atuárias'],'Poli':'Civil','IME':'Estatística'}\n",
    "print(len(entidade))\n",
    "print(len(institutos))\n",
    "print(len(faculdades))"
   ]
  },
  {
   "cell_type": "code",
   "execution_count": null,
   "metadata": {},
   "outputs": [],
   "source": [
    "# Exemplo 2 - Utilizando .append()\n",
    "institutos.append('FAU')\n",
    "print(institutos)"
   ]
  },
  {
   "cell_type": "code",
   "execution_count": null,
   "metadata": {},
   "outputs": [],
   "source": [
    "# Exemplo 3 - Erro no .append()"
   ]
  },
  {
   "cell_type": "markdown",
   "metadata": {},
   "source": [
    "### **Métodos úteis de string** ###\n",
    "Podemos cintar como os principais métodos úteis aplicados a strings:\n",
    "\n",
    "1. **Dev.upper()**: devolve a string 'Dev' em letras maiuscúlas.\n",
    "\n",
    "2. **Dev.lower()**: devolve a string 'Dev' em letras minúsculas.\n",
    "\n",
    "3. **Dev.replace('e','i')**: devolve a string com todas as letras 'e' em 'Dev' substituídas por 'i'.\n",
    "\n",
    "4. **Dev.strip()**: devolve a string 'Dev' retirando espaços em branco no início e no final. (ou qualquer outra coisa no argumento).\n",
    "\n",
    "5. **Dev.startswith('D')**: testa se a string 'Dev' começa com 'D'.\n",
    "\n",
    "6. **Dev.endswith('v')**: testa se a string 'Dev' termina com a string 'v'.\n",
    "\n",
    "7. **Dev.find('Dev')**: procura 'Dev' dentro da string 'Dev' e retorna o índice onde 'Dev' começa ou retorna -1 se não encontrar.\n",
    "\n"
   ]
  },
  {
   "cell_type": "code",
   "execution_count": null,
   "metadata": {},
   "outputs": [],
   "source": [
    "# Exemplo 1 - Utilidade dos métodos.\n",
    "nome = input('Qual seu nome?')\n",
    "\n",
    "if nome.lower() == 'milena':\n",
    "    print('Você é a Milena!')\n",
    "\n",
    "else:\n",
    "    print('Você não é a Milena!')"
   ]
  },
  {
   "cell_type": "code",
   "execution_count": null,
   "metadata": {},
   "outputs": [],
   "source": [
    "# Exemplo 2 - Utilização de outros métodos.\n",
    "instituto1 = '  FEA   '\n",
    "print(instituto1)\n",
    "print(instituto1.strip())"
   ]
  },
  {
   "cell_type": "code",
   "execution_count": null,
   "metadata": {},
   "outputs": [],
   "source": [
    "instituto2 = ',,,,,,,,FEA'\n",
    "print(instituto2)\n",
    "print(instituto2.strip(','))"
   ]
  },
  {
   "cell_type": "code",
   "execution_count": null,
   "metadata": {},
   "outputs": [],
   "source": [
    "# Exemplo 3 - Objeto imutável.\n",
    "objetivo = 'Programação'\n",
    "print(objetivo.replace('ã','a'))\n",
    "print(objetivo)"
   ]
  },
  {
   "cell_type": "code",
   "execution_count": null,
   "metadata": {},
   "outputs": [],
   "source": [
    "# Exemplo 4 - Outros métodos.\n",
    "print(objetivo.startswith('p'))\n",
    "print(objetivo.endswith('o'))\n",
    "print(objetivo.find('og'))"
   ]
  },
  {
   "cell_type": "markdown",
   "metadata": {},
   "source": [
    "### **Formatação de string** ###\n",
    "Existem diversas formas de formatar saídas em 'print', mas as mais eficientes são o f-strings e .format()."
   ]
  },
  {
   "cell_type": "code",
   "execution_count": null,
   "metadata": {},
   "outputs": [],
   "source": [
    "# Exemplo 1 - Método 'convencional'.\n",
    "\n",
    "frase1 = 'Eu tenho'\n",
    "frase2 = 'anos'"
   ]
  },
  {
   "cell_type": "code",
   "execution_count": null,
   "metadata": {},
   "outputs": [],
   "source": [
    "# Exemplo 2 - Uso de f-string e .format().\n",
    "idade = 19\n",
    "print(f'Eu tenho {idade} anos.')\n",
    "print('Eu tenho {} anos.' .format(idade))"
   ]
  },
  {
   "cell_type": "code",
   "execution_count": null,
   "metadata": {},
   "outputs": [],
   "source": [
    "# Exemplo 3 - Importância da formatação.\n",
    "variavel = (15 * 19)** (1/2)\n",
    "print(f'Perdi {variavel} reais.')"
   ]
  },
  {
   "cell_type": "code",
   "execution_count": null,
   "metadata": {},
   "outputs": [],
   "source": [
    "# Exemplo 4 - Arredondamento e mais formas de formatação.\n",
    "variavel2 = round(variavel,2)\n",
    "\n",
    "print(f'Perdi {variavel2} reais.')\n",
    "print('Perdi {:.2f} reais'.format(variavel))\n",
    "print('Perdi %.2f reais.' %variavel)"
   ]
  },
  {
   "cell_type": "code",
   "execution_count": null,
   "metadata": {},
   "outputs": [],
   "source": [
    "# Exemplo 5 - Mais de uma variável.\n",
    "recuperei = 1245 * 1.2"
   ]
  },
  {
   "cell_type": "markdown",
   "metadata": {},
   "source": [
    "### **Estruturas de dados: Listas, Tuplas e Sets** ###"
   ]
  },
  {
   "cell_type": "markdown",
   "metadata": {},
   "source": [
    "**Listas**: Sequência de valores de qualquer tipo, definidas por colchetes cujos itens são separados por vírgula. Objeto mutável."
   ]
  },
  {
   "cell_type": "code",
   "execution_count": null,
   "metadata": {},
   "outputs": [],
   "source": [
    "# Exemplo 1 - Função type()\n",
    "\n",
    "lista1 = ['FEA', 15, '.dev', 18.0, True]\n",
    "print(type(lista1))"
   ]
  },
  {
   "cell_type": "code",
   "execution_count": null,
   "metadata": {},
   "outputs": [],
   "source": [
    "# Exemplo 2 - Indexação.\n",
    "\n",
    "print(lista1[1])\n",
    "print(lista1[0])\n",
    "print(lista1[-2])\n",
    "print(lista1[0:2])"
   ]
  },
  {
   "cell_type": "code",
   "execution_count": null,
   "metadata": {},
   "outputs": [],
   "source": [
    "# Exemplo 3 - Objeto mutável.\n",
    "\n",
    "lista1[-1] = False\n",
    "print(lista1)"
   ]
  },
  {
   "cell_type": "code",
   "execution_count": null,
   "metadata": {},
   "outputs": [],
   "source": [
    "# Exemplo 4 - Erro ao indexar fora do intervalo."
   ]
  },
  {
   "cell_type": "code",
   "execution_count": null,
   "metadata": {},
   "outputs": [],
   "source": [
    "# Exemplo 5 - Operações com listas.\n",
    "lista2 = ['USP', False, True, 55.5]\n",
    "print(lista1 + lista2)\n",
    "print(lista1*5)"
   ]
  },
  {
   "cell_type": "code",
   "execution_count": null,
   "metadata": {},
   "outputs": [],
   "source": [
    "# Exemplo 6 - Indexação listas dentro de listas."
   ]
  },
  {
   "cell_type": "code",
   "execution_count": null,
   "metadata": {},
   "outputs": [],
   "source": [
    "# Exemplo 7 - Outras funções com listas.\n",
    "lista3 = [5.5, 6, 15, 19, 3.5]\n",
    "print(len(lista3))\n",
    "print(max(lista3))\n",
    "print(min(lista3))\n",
    "print(sum(lista3))"
   ]
  },
  {
   "cell_type": "code",
   "execution_count": null,
   "metadata": {},
   "outputs": [],
   "source": [
    "# Exemplo 8 - 'in'"
   ]
  },
  {
   "cell_type": "markdown",
   "metadata": {},
   "source": [
    "**Tuplas:** Assim como as listas, é uma sequência de valor de qualquer tipo, porém definidas por parênteses cujos itens são separados por vírgula. Objeto imutável."
   ]
  },
  {
   "cell_type": "code",
   "execution_count": null,
   "metadata": {},
   "outputs": [],
   "source": [
    "# Exemplo 9 - Função type()\n",
    "\n",
    "tupla1 = (1,True,'USP', 9.5)\n",
    "print(type(tupla1))"
   ]
  },
  {
   "cell_type": "code",
   "execution_count": null,
   "metadata": {},
   "outputs": [],
   "source": [
    "# Exemplo 10 - Indexação.\n",
    "print(tupla1[1])\n",
    "print(tupla1[0:2])"
   ]
  },
  {
   "cell_type": "code",
   "execution_count": null,
   "metadata": {},
   "outputs": [],
   "source": [
    "# Exemplo 11 - Objeto imutável.\n",
    "tupla1[1] = False"
   ]
  },
  {
   "cell_type": "code",
   "execution_count": null,
   "metadata": {},
   "outputs": [],
   "source": [
    "# Exemplo 12 -  Concatenação e funções utilizadas em listas também cabem aqui.\n",
    "tupla2 = ('olá','mundo')\n",
    "print(tupla1 + tupla2)\n",
    "print(tupla1 * 5)\n",
    "print(max(tupla2))"
   ]
  },
  {
   "cell_type": "code",
   "execution_count": null,
   "metadata": {},
   "outputs": [],
   "source": [
    "# Exemplo 13 -  Função tuple()"
   ]
  },
  {
   "cell_type": "markdown",
   "metadata": {},
   "source": [
    "**Sets:** Estruturas que não possuem dados duplicados definidas por chaves, todos elementos de um set tem que ser imutáveis, embora o set em si é mutável. Seus itens também são separados por vírgula."
   ]
  },
  {
   "cell_type": "code",
   "execution_count": null,
   "metadata": {},
   "outputs": [],
   "source": [
    "# Exemplo 14 - Funçaõ type() e set()\n",
    "lista = {1,2,2,2,'cinco',3,4,1,1,4,'cinco'}\n",
    "st = set(lista)\n",
    "print(st)\n",
    "print(type(st))"
   ]
  },
  {
   "cell_type": "code",
   "execution_count": null,
   "metadata": {},
   "outputs": [],
   "source": [
    "# Exemplo 15 - Não é possível indexar."
   ]
  },
  {
   "cell_type": "code",
   "execution_count": null,
   "metadata": {},
   "outputs": [],
   "source": [
    "# Exemplo 16 - É possível adicionar elementos, mas não modificar algum a partir do método 'add'.\n",
    "st.add(8)\n",
    "print(st)"
   ]
  },
  {
   "cell_type": "markdown",
   "metadata": {},
   "source": [
    "### **Métodos úteis de listas** ##\n",
    "- lista.append(x): adiciona o elemento 'x' no final da lista.\n",
    "- lista.sort(): ordena a lista.\n",
    "- lista.index(x): devolve o índice do elemento 'x' na lista.\n",
    "- lista.pop(i): remove o elemento de índice 'i' da lista.\n",
    "- list.remove(x): remove o primeiro elemento 'x' da lista.\n",
    "- list.insert(i, x): insere o elemento 'x' no índice 'i' da lista."
   ]
  },
  {
   "cell_type": "code",
   "execution_count": null,
   "metadata": {},
   "outputs": [],
   "source": [
    "# Exemplo 1 - .append() e .insert()\n",
    "new_list = [2,9.2,0,13.6,14]\n",
    "\n",
    "new_list.append(0.1)\n",
    "print(new_list)"
   ]
  },
  {
   "cell_type": "code",
   "execution_count": null,
   "metadata": {},
   "outputs": [],
   "source": [
    "new_list.insert(0,14)\n",
    "print(new_list)"
   ]
  },
  {
   "cell_type": "code",
   "execution_count": null,
   "metadata": {},
   "outputs": [],
   "source": [
    "# Exemplo 2 - .pop() e .remove()\n",
    "new_list.pop(-1)\n",
    "print(new_list)"
   ]
  },
  {
   "cell_type": "code",
   "execution_count": null,
   "metadata": {},
   "outputs": [],
   "source": [
    "new_list.remove(14)\n",
    "print(new_list)"
   ]
  },
  {
   "cell_type": "code",
   "execution_count": null,
   "metadata": {},
   "outputs": [],
   "source": [
    "# Exemplo 3 - .index() e .sort()\n",
    "print(new_list.index(13.6))"
   ]
  },
  {
   "cell_type": "code",
   "execution_count": null,
   "metadata": {},
   "outputs": [],
   "source": [
    "new_list.sort()\n",
    "print(new_list)"
   ]
  },
  {
   "cell_type": "markdown",
   "metadata": {},
   "source": [
    "### **Dicionários** ###\n",
    "Uma estrutura que contém uma coleção de índices (chamados de chaves) e uma coleção de valores. Sua forma é: dict = {key: value}. São objetos mutáveis."
   ]
  },
  {
   "cell_type": "code",
   "execution_count": null,
   "metadata": {},
   "outputs": [],
   "source": [
    "# Exemplo 1 - Função type()\n",
    "faculdades = {'FEA':['Economia','Administração','Contábeis','Atuárias'],'Poli':'Civil','IME':'Estatística'}\n",
    "print(type(faculdades))"
   ]
  },
  {
   "cell_type": "code",
   "execution_count": null,
   "metadata": {},
   "outputs": [],
   "source": [
    "# Exemplo 2 - Indexação"
   ]
  },
  {
   "cell_type": "code",
   "execution_count": null,
   "metadata": {},
   "outputs": [],
   "source": [
    "# Exemplo 3 - Indexação por chaves\n",
    "print(faculdades['FEA'])"
   ]
  },
  {
   "cell_type": "code",
   "execution_count": null,
   "metadata": {},
   "outputs": [],
   "source": [
    "# Exemplo 4 - Objeto mutável.\n",
    "\n",
    "faculdades['FFLCH'] = 'História'\n",
    "print(faculdades)"
   ]
  },
  {
   "cell_type": "markdown",
   "metadata": {},
   "source": [
    "### **Métodos úteis de dicionários** ###\n",
    "- **dict.keys():** retorna uma lista com todas as chaves do dicionário.\n",
    "- **dict.values():** retorna uma lista com todos os valores do dicionário.\n",
    "- **dict.items():** retorna uma lista com todos os pares chave-valor do dicionário."
   ]
  },
  {
   "cell_type": "code",
   "execution_count": null,
   "metadata": {},
   "outputs": [],
   "source": [
    "# Exemplo - Utilização de todos esses métodos.\n",
    "\n",
    "print(faculdades.keys())\n",
    "\n",
    "print(faculdades.values())\n",
    "\n",
    "print(faculdades.items())"
   ]
  }
 ],
 "metadata": {
  "kernelspec": {
   "display_name": "Python 3",
   "language": "python",
   "name": "python3"
  },
  "language_info": {
   "codemirror_mode": {
    "name": "ipython",
    "version": 3
   },
   "file_extension": ".py",
   "mimetype": "text/x-python",
   "name": "python",
   "nbconvert_exporter": "python",
   "pygments_lexer": "ipython3",
   "version": "3.9.2"
  },
  "orig_nbformat": 4
 },
 "nbformat": 4,
 "nbformat_minor": 2
}
