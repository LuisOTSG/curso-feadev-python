{
 "cells": [
  {
   "cell_type": "markdown",
   "id": "264bade1",
   "metadata": {},
   "source": [
    "# Condicionais\n",
    "**Nessa aula**\n",
    "\n",
    "- Compreender a importância das condicionais para a programação\n",
    "- Entender como funcionam as condicionais\n",
    "- Ver operadores aritméticos\n",
    "- Operadores de comparação\n",
    "- Operadores lógicos (and, or, not)\n",
    "- Operadores de identidade (is, is not)\n",
    "- Operadores de associação (in, not in)\n",
    "- Como usar as condicionais com os comandos if, elif e else\n",
    "- Exemplos e exercícios"
   ]
  },
  {
   "cell_type": "markdown",
   "id": "6dde8911",
   "metadata": {},
   "source": [
    "### Importância das Condicionais\n",
    "As condicionais estão entrelaçadas com a lógica da programação, pois você executa comandos a partir de condições que são atribuídas de acordo com as variáveis estabelecidas."
   ]
  },
  {
   "cell_type": "code",
   "execution_count": 3,
   "id": "4544c165",
   "metadata": {},
   "outputs": [
    {
     "name": "stdout",
     "output_type": "stream",
     "text": [
      "Digite a sua idade25\n",
      "Você é maior de idade\n"
     ]
    }
   ],
   "source": [
    "# float\n",
    "idade = float(input(f'Digite a sua idade'))\n",
    "if idade >= 18:\n",
    "    print('Você é maior de idade')\n",
    "else:\n",
    "    print('Você é menor de idade')"
   ]
  },
  {
   "cell_type": "code",
   "execution_count": 5,
   "id": "d83e88d6",
   "metadata": {},
   "outputs": [
    {
     "name": "stdout",
     "output_type": "stream",
     "text": [
      "Digite a senhaDevPython2023\n",
      "Acesso liberado\n"
     ]
    }
   ],
   "source": [
    "# string\n",
    "password = 'DevPython2023'\n",
    "senha = input(f'Digite a senha')\n",
    "if senha == password:\n",
    "    print('Acesso liberado')\n",
    "else:\n",
    "    print('Acesso negado')"
   ]
  },
  {
   "cell_type": "code",
   "execution_count": 6,
   "id": "f9312a58",
   "metadata": {},
   "outputs": [
    {
     "name": "stdout",
     "output_type": "stream",
     "text": [
      "Obrigado pela presença\n"
     ]
    }
   ],
   "source": [
    "# booleando\n",
    "SatisfeitoPrograma = True\n",
    "if SatisfeitoPrograma:\n",
    "    print('Obrigado pela presença')\n",
    "else:\n",
    "    print('Nossa, que pena')"
   ]
  },
  {
   "cell_type": "code",
   "execution_count": 15,
   "id": "92dd46ef",
   "metadata": {},
   "outputs": [
    {
     "name": "stdout",
     "output_type": "stream",
     "text": [
      "0\n"
     ]
    }
   ],
   "source": [
    "EstouEmCasa = True\n",
    "CaixaPostal = 0\n",
    "\n",
    "if EstouEmCasa == False:\n",
    "    CaixaPostal = CaixaPostal + 1\n",
    "print(CaixaPostal)"
   ]
  },
  {
   "cell_type": "code",
   "execution_count": 16,
   "id": "6c8bd9b3",
   "metadata": {},
   "outputs": [
    {
     "name": "stdout",
     "output_type": "stream",
     "text": [
      "1\n"
     ]
    }
   ],
   "source": [
    "EstouEmCasa = False\n",
    "CaixaPostal = 0\n",
    "\n",
    "if EstouEmCasa == False:\n",
    "    CaixaPostal = CaixaPostal + 1\n",
    "print(CaixaPostal)"
   ]
  },
  {
   "cell_type": "markdown",
   "id": "39a7d1eb",
   "metadata": {},
   "source": [
    "**Operadores Aritméticos**"
   ]
  },
  {
   "cell_type": "code",
   "execution_count": 17,
   "id": "fbc62944",
   "metadata": {},
   "outputs": [
    {
     "name": "stdout",
     "output_type": "stream",
     "text": [
      "4\n",
      "3\n",
      "6\n",
      "3.0\n",
      "3\n",
      "1\n",
      "6\n",
      "4.0\n"
     ]
    }
   ],
   "source": [
    "soma = 2 + 2\n",
    "subtracao = 5 - 2\n",
    "multiplicacao = 3 * 2\n",
    "divisao = 6 / 2\n",
    "divInteira = 10 // 3\n",
    "resto = 10 % 3\n",
    "potencia = 2 * 3\n",
    "radiciacao = 16 ** (1/2)\n",
    "print(soma)\n",
    "print(subtracao)\n",
    "print(multiplicacao)\n",
    "print(divisao)\n",
    "print(divInteira)\n",
    "print(resto)\n",
    "print(potencia)\n",
    "print(radiciacao)"
   ]
  },
  {
   "cell_type": "markdown",
   "id": "42de65c8",
   "metadata": {},
   "source": [
    "**Operadores Comparativos**"
   ]
  },
  {
   "cell_type": "code",
   "execution_count": 21,
   "id": "f2a2b833",
   "metadata": {},
   "outputs": [
    {
     "name": "stdout",
     "output_type": "stream",
     "text": [
      "False\n",
      "True\n",
      "True\n",
      "False\n",
      "True\n",
      "True\n"
     ]
    }
   ],
   "source": [
    "# Maior que\n",
    "print(6 > 7)\n",
    "# Menor que\n",
    "print(6 < 7)\n",
    "# Maior ou menor que\n",
    "print(6 >= 5)\n",
    "# Maior ou menor que\n",
    "print(6 <= 5)\n",
    "# Igual à\n",
    "print(5 == 5)\n",
    "# Diferente de\n",
    "print(5 != 6)"
   ]
  },
  {
   "cell_type": "code",
   "execution_count": null,
   "id": "a98c363f",
   "metadata": {},
   "outputs": [],
   "source": []
  }
 ],
 "metadata": {
  "kernelspec": {
   "display_name": "Python 3 (ipykernel)",
   "language": "python",
   "name": "python3"
  },
  "language_info": {
   "codemirror_mode": {
    "name": "ipython",
    "version": 3
   },
   "file_extension": ".py",
   "mimetype": "text/x-python",
   "name": "python",
   "nbconvert_exporter": "python",
   "pygments_lexer": "ipython3",
   "version": "3.9.13"
  }
 },
 "nbformat": 4,
 "nbformat_minor": 5
}
