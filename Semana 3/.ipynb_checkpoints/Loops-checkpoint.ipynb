{
 "cells": [
  {
   "cell_type": "markdown",
   "id": "24e6bbff",
   "metadata": {},
   "source": [
    "## Introdução aos Loops\n",
    "Loops são estruturas de controle que permitem que você execute um bloco de código repetidamente"
   ]
  },
  {
   "cell_type": "code",
   "execution_count": 3,
   "id": "0cd2bd4e",
   "metadata": {},
   "outputs": [
    {
     "name": "stdout",
     "output_type": "stream",
     "text": [
      "1\n",
      "2\n",
      "3\n",
      "4\n",
      "5\n"
     ]
    }
   ],
   "source": [
    "# Print de 1 a 5\n",
    "print(1)\n",
    "print(2)\n",
    "print(3)\n",
    "print(4)\n",
    "print(5)"
   ]
  },
  {
   "cell_type": "markdown",
   "id": "296a1986",
   "metadata": {},
   "source": [
    "### Pseudocódigo: WHILE\n",
    "```\n",
    "enquanto condição verídica:\n",
    "    código a ser executado em repetição\n",
    "```\n",
    "```\n",
    "while condicao:\n",
    "    código a ser executado\n",
    "```"
   ]
  },
  {
   "cell_type": "code",
   "execution_count": 7,
   "id": "9350af8f",
   "metadata": {},
   "outputs": [
    {
     "name": "stdout",
     "output_type": "stream",
     "text": [
      "Você está gostando do curso?Sim\n",
      "Que ótimo :)\n"
     ]
    }
   ],
   "source": [
    "# Input de usuário (evitar WHILE infinito com break)\n",
    "while True:\n",
    "    resposta = input(\"Você está gostando do curso?\")\n",
    "    if resposta == \"Sim\":\n",
    "        print(\"Que ótimo :)\")\n",
    "        break\n",
    "    elif resposta == \"Não\":\n",
    "        print(\"Que pena :(\")\n",
    "        break"
   ]
  },
  {
   "cell_type": "code",
   "execution_count": 15,
   "id": "c0eed143",
   "metadata": {},
   "outputs": [
    {
     "name": "stdout",
     "output_type": "stream",
     "text": [
      "Você está gostando do curso?nÃO\n",
      "Que pena :(\n"
     ]
    }
   ],
   "source": [
    "# Como o usuário pode digitar Sim ou Não de algumas formas, o código deve ser feito de outra maneira\n",
    "while True:\n",
    "    resposta = input(\"Você está gostando do curso?\").lower()\n",
    "    if resposta in [\"sim\", \"s\"]:\n",
    "        print(\"Que ótimo :)\")\n",
    "        break\n",
    "    elif resposta in [\"não\", \"nao\", \"n\"]:\n",
    "        print(\"Que pena :(\")\n",
    "        break"
   ]
  },
  {
   "cell_type": "code",
   "execution_count": 19,
   "id": "4bea2cc2",
   "metadata": {},
   "outputs": [
    {
     "name": "stdout",
     "output_type": "stream",
     "text": [
      "0\n",
      "1\n",
      "2\n",
      "3\n",
      "4\n",
      "5\n"
     ]
    }
   ],
   "source": [
    "# Print de 0  5 com WHILE\n",
    "contador = 0\n",
    "while contador <=5:\n",
    "    print(contador)\n",
    "    contador = contador + 1"
   ]
  },
  {
   "cell_type": "markdown",
   "id": "36001208",
   "metadata": {},
   "source": [
    "**Operadores de Atribuição**\n",
    "\n",
    "|Operador|Equivalente|\n",
    "|---|---|\n",
    "|+=|x = x + y|\n",
    "|-=|x = x - y|\n",
    "|*=|x = x *y|\n",
    "|/=|x = x / y|\n",
    "|%=|x = x % y|"
   ]
  },
  {
   "cell_type": "markdown",
   "id": "9d6349ca",
   "metadata": {},
   "source": [
    "### Pseudocódigo: FOR\n",
    "```\n",
    "para cada elemento em uma sequência:\n",
    "    código a ser executado para cada elemento\n",
    "```\n",
    "```\n",
    "for elemento in sequencia:\n",
    "    código a ser executado para cada elemento\n",
    "```"
   ]
  },
  {
   "cell_type": "code",
   "execution_count": 22,
   "id": "f47a97a6",
   "metadata": {},
   "outputs": [
    {
     "name": "stdout",
     "output_type": "stream",
     "text": [
      "0\n",
      "1\n",
      "2\n",
      "3\n",
      "4\n",
      "5\n"
     ]
    }
   ],
   "source": [
    "# Print de 0 a 5 com FOR\n",
    "num = [0, 1, 2, 3, 4, 5]\n",
    "for i in num:\n",
    "    print(i)"
   ]
  },
  {
   "cell_type": "code",
   "execution_count": 23,
   "id": "462b13b6",
   "metadata": {},
   "outputs": [
    {
     "name": "stdout",
     "output_type": "stream",
     "text": [
      "0\n",
      "1\n",
      "2\n",
      "3\n",
      "4\n",
      "5\n"
     ]
    }
   ],
   "source": [
    "# Print de 0 a 5 com FOR (usando range())\n",
    "for i in range(0, 6):\n",
    "    print(i)"
   ]
  },
  {
   "cell_type": "code",
   "execution_count": 24,
   "id": "56386ea6",
   "metadata": {},
   "outputs": [
    {
     "name": "stdout",
     "output_type": "stream",
     "text": [
      "0\n",
      "2\n",
      "4\n"
     ]
    }
   ],
   "source": [
    "# Print de 0 a 5 com FOR (usando range())\n",
    "for i in range(0, 6, 2):\n",
    "    print(i)"
   ]
  },
  {
   "cell_type": "code",
   "execution_count": 25,
   "id": "69dcfc09",
   "metadata": {},
   "outputs": [
    {
     "name": "stdout",
     "output_type": "stream",
     "text": [
      "Meu nome é Luis e eu tenho 25 anos\n",
      "Meu nome é Carlos e eu tenho 50 anos\n",
      "Meu nome é Flávia e eu tenho 20 anos\n"
     ]
    }
   ],
   "source": [
    "# Função zip() permite usar sequências\n",
    "nomes = [\"Luis\", \"Carlos\", \"Flávia\"]\n",
    "idades = [25, 50, 20]\n",
    "for nome, idade in zip(nomes, idades):\n",
    "    print(f\"Meu nome é {nome} e eu tenho {idade} anos\")"
   ]
  },
  {
   "cell_type": "code",
   "execution_count": 34,
   "id": "8ac6ee92",
   "metadata": {},
   "outputs": [
    {
     "name": "stdout",
     "output_type": "stream",
     "text": [
      "('Luis', 25)\n",
      "('Carlos', 50)\n",
      "('Flávia', 20)\n",
      "Luis\n",
      "Carlos\n",
      "Flávia\n",
      "25\n",
      "50\n",
      "20\n"
     ]
    }
   ],
   "source": [
    "# Iterar um dicionário chave e valor\n",
    "pessoas = dict(zip(nomes, idades))\n",
    "\n",
    "# Retornar chave e valor (em tuplas)\n",
    "for nome in pessoas.items():\n",
    "    print(nome)\n",
    "    \n",
    "# Retornar apenas as chaves:\n",
    "for nome in pessoas.keys():\n",
    "    print(nome)\n",
    "\n",
    "# Retornar apenas os valores\n",
    "for valor in pessoas.values():\n",
    "    print(valor)"
   ]
  },
  {
   "cell_type": "code",
   "execution_count": 36,
   "id": "3ea3c20f",
   "metadata": {},
   "outputs": [
    {
     "name": "stdout",
     "output_type": "stream",
     "text": [
      "0\n",
      "1\n",
      "2\n"
     ]
    }
   ],
   "source": [
    "# Retornar o índice de cada elemento da lista\n",
    "frutas = [\"maçã\", \"pera\", \"mamão\"]\n",
    "\n",
    "for frutas in range(len(frutas)):\n",
    "    print(frutas)"
   ]
  },
  {
   "cell_type": "code",
   "execution_count": 40,
   "id": "74aee27d",
   "metadata": {},
   "outputs": [
    {
     "name": "stdout",
     "output_type": "stream",
     "text": [
      "O índice é 0 e a fruta é maçã\n",
      "O índice é 1 e a fruta é pera\n",
      "O índice é 2 e a fruta é mamão\n"
     ]
    }
   ],
   "source": [
    "# Função enumarete() adiciona índices em uma lista\n",
    "frutas = [\"maçã\", \"pera\", \"mamão\"]\n",
    "\n",
    "for indice, fruta in enumerate(frutas):\n",
    "    print(f\"O índice é {indice} e a fruta é {fruta}\")"
   ]
  },
  {
   "cell_type": "code",
   "execution_count": 44,
   "id": "d5abe4af",
   "metadata": {},
   "outputs": [
    {
     "name": "stdout",
     "output_type": "stream",
     "text": [
      "0\n",
      "1\n",
      "2\n",
      "3\n",
      "4\n",
      "5\n"
     ]
    }
   ],
   "source": [
    "# Função set() cria um conjunto de elementos únicos\n",
    "nums = [1, 2, 2, 3, 4, 4, 4, 5]\n",
    "isSet = {0, 1, 2, 3, 4, 5} \n",
    "for num in isSet:\n",
    "    print(num)"
   ]
  },
  {
   "cell_type": "markdown",
   "id": "b169a658",
   "metadata": {},
   "source": [
    "### Desafio: Fazer uma pirâmide do Mario com \"#\" e com input do usuário\n",
    "Exemplo:\n",
    "```\n",
    "  #\n",
    " ##\n",
    "###\n",
    "```"
   ]
  },
  {
   "cell_type": "code",
   "execution_count": 49,
   "id": "503cc162",
   "metadata": {},
   "outputs": [
    {
     "name": "stdout",
     "output_type": "stream",
     "text": [
      "Qual o tamanho da pirâmide você deseja?20\n",
      "                   #\n",
      "                  ##\n",
      "                 ###\n",
      "                ####\n",
      "               #####\n",
      "              ######\n",
      "             #######\n",
      "            ########\n",
      "           #########\n",
      "          ##########\n",
      "         ###########\n",
      "        ############\n",
      "       #############\n",
      "      ##############\n",
      "     ###############\n",
      "    ################\n",
      "   #################\n",
      "  ##################\n",
      " ###################\n",
      "####################\n"
     ]
    }
   ],
   "source": [
    "# Usando FOR\n",
    "tamanho = int(input(\"Qual o tamanho da pirâmide você deseja? \"))\n",
    "for i in range(1, tamanho + 1):\n",
    "    tamanho -= 1\n",
    "    print(\" \" * tamanho, end=\"\")\n",
    "    print(\"#\" * i)"
   ]
  },
  {
   "cell_type": "code",
   "execution_count": null,
   "id": "9d79994f",
   "metadata": {},
   "outputs": [],
   "source": [
    "# Usando WHILE\n",
    "degraus = int(input(\"Qual o tamanho da pirâmide você deseja? \"))\n",
    "x = 1 \n",
    "while x <= degraus:\n",
    "    print(\" \" * (degraus - x), end=\"\")\n",
    "    print(\"#\" * x)\n",
    "    x += 1"
   ]
  },
  {
   "cell_type": "markdown",
   "id": "6f89dca1",
   "metadata": {},
   "source": [
    "### Desafio 2: Fazer duas pirâmides do Mario com \"#\" e com input do usuário\n",
    "Exemplo:\n",
    "```\n",
    "  #  #\n",
    " ##  ##\n",
    "###  ###\n",
    "```"
   ]
  },
  {
   "cell_type": "code",
   "execution_count": 53,
   "id": "664ce4cc",
   "metadata": {},
   "outputs": [
    {
     "name": "stdout",
     "output_type": "stream",
     "text": [
      "Qual o tamanho da pirâmide você deseja?10\n",
      "         #  #\n",
      "        ##  ##\n",
      "       ###  ###\n",
      "      ####  ####\n",
      "     #####  #####\n",
      "    ######  ######\n",
      "   #######  #######\n",
      "  ########  ########\n",
      " #########  #########\n",
      "##########  ##########\n"
     ]
    }
   ],
   "source": [
    "# Usando FOR\n",
    "tamanho = int(input(\"Qual o tamanho da pirâmide você deseja?\" ))    \n",
    "for i in range(1, tamanho + 1):\n",
    "    tamanho -= 1\n",
    "    print(\" \" * tamanho, end=\"\")\n",
    "    print(\"#\" * i, end= \"  \")\n",
    "    print(\"#\" * i)"
   ]
  },
  {
   "cell_type": "code",
   "execution_count": 54,
   "id": "9ef03d20",
   "metadata": {},
   "outputs": [
    {
     "name": "stdout",
     "output_type": "stream",
     "text": [
      "Qual o tamanho da pirâmide você deseja? 10\n",
      "         #  #\n",
      "        ##  ##\n",
      "       ###  ###\n",
      "      ####  ####\n",
      "     #####  #####\n",
      "    ######  ######\n",
      "   #######  #######\n",
      "  ########  ########\n",
      " #########  #########\n",
      "##########  ##########\n"
     ]
    }
   ],
   "source": [
    "# Usando WHILE\n",
    "degraus = int(input(\"Qual o tamanho da pirâmide você deseja? \"))\n",
    "x = 1 \n",
    "while x <= degraus:\n",
    "    print(\" \" * (degraus - x), end=\"\")\n",
    "    print(\"#\" * x, end=\"  \")\n",
    "    print(\"#\" * x)\n",
    "    x += 1"
   ]
  }
 ],
 "metadata": {
  "kernelspec": {
   "display_name": "Python 3 (ipykernel)",
   "language": "python",
   "name": "python3"
  },
  "language_info": {
   "codemirror_mode": {
    "name": "ipython",
    "version": 3
   },
   "file_extension": ".py",
   "mimetype": "text/x-python",
   "name": "python",
   "nbconvert_exporter": "python",
   "pygments_lexer": "ipython3",
   "version": "3.9.13"
  }
 },
 "nbformat": 4,
 "nbformat_minor": 5
}
