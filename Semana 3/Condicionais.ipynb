{
 "cells": [
  {
   "cell_type": "markdown",
   "id": "264bade1",
   "metadata": {},
   "source": [
    "# Condicionais\n",
    "**Nessa aula**\n",
    "\n",
    "- Compreender a importância das condicionais para a programação\n",
    "- Entender como funcionam as condicionais\n",
    "- Ver operadores aritméticos\n",
    "- Operadores de comparação\n",
    "- Operadores lógicos (and, or, not)\n",
    "- Operadores de identidade (is, is not)\n",
    "- Operadores de associação (in, not in)\n",
    "- Como usar as condicionais com os comandos if, elif e else\n",
    "- Exemplos e exercícios"
   ]
  },
  {
   "cell_type": "markdown",
   "id": "6dde8911",
   "metadata": {},
   "source": [
    "### Importância das Condicionais\n",
    "As condicionais estão entrelaçadas com a lógica da programação, pois você executa comandos a partir de condições que são atribuídas de acordo com as variáveis estabelecidas."
   ]
  },
  {
   "cell_type": "code",
   "execution_count": 1,
   "id": "4544c165",
   "metadata": {},
   "outputs": [
    {
     "name": "stdout",
     "output_type": "stream",
     "text": [
      "Digite a sua idade25\n",
      "Você é maior de idade\n"
     ]
    }
   ],
   "source": [
    "# float\n",
    "idade = float(input(f'Digite a sua idade'))\n",
    "if idade >= 18:\n",
    "    print('Você é maior de idade')\n",
    "else:\n",
    "    print('Você é menor de idade')"
   ]
  },
  {
   "cell_type": "code",
   "execution_count": 2,
   "id": "d83e88d6",
   "metadata": {},
   "outputs": [
    {
     "name": "stdout",
     "output_type": "stream",
     "text": [
      "Digite a senhaDevPython2023\n",
      "Acesso liberado\n"
     ]
    }
   ],
   "source": [
    "# string\n",
    "password = 'DevPython2023'\n",
    "senha = input(f'Digite a senha')\n",
    "if senha == password:\n",
    "    print('Acesso liberado')\n",
    "else:\n",
    "    print('Acesso negado')"
   ]
  },
  {
   "cell_type": "code",
   "execution_count": 3,
   "id": "f9312a58",
   "metadata": {},
   "outputs": [
    {
     "name": "stdout",
     "output_type": "stream",
     "text": [
      "Obrigado pela presença\n"
     ]
    }
   ],
   "source": [
    "# booleando\n",
    "SatisfeitoPrograma = True\n",
    "if SatisfeitoPrograma:\n",
    "    print('Obrigado pela presença')\n",
    "else:\n",
    "    print('Nossa, que pena')"
   ]
  },
  {
   "cell_type": "code",
   "execution_count": 4,
   "id": "92dd46ef",
   "metadata": {},
   "outputs": [
    {
     "name": "stdout",
     "output_type": "stream",
     "text": [
      "0\n"
     ]
    }
   ],
   "source": [
    "EstouEmCasa = True\n",
    "CaixaPostal = 0\n",
    "\n",
    "if EstouEmCasa == False:\n",
    "    CaixaPostal = CaixaPostal + 1\n",
    "print(CaixaPostal)"
   ]
  },
  {
   "cell_type": "code",
   "execution_count": 5,
   "id": "6c8bd9b3",
   "metadata": {},
   "outputs": [
    {
     "name": "stdout",
     "output_type": "stream",
     "text": [
      "1\n"
     ]
    }
   ],
   "source": [
    "EstouEmCasa = False\n",
    "CaixaPostal = 0\n",
    "\n",
    "if EstouEmCasa == False:\n",
    "    CaixaPostal = CaixaPostal + 1\n",
    "print(CaixaPostal)"
   ]
  },
  {
   "cell_type": "markdown",
   "id": "39a7d1eb",
   "metadata": {},
   "source": [
    "**Operadores Aritméticos**"
   ]
  },
  {
   "cell_type": "code",
   "execution_count": 6,
   "id": "fbc62944",
   "metadata": {},
   "outputs": [
    {
     "name": "stdout",
     "output_type": "stream",
     "text": [
      "4\n",
      "3\n",
      "6\n",
      "3.0\n",
      "3\n",
      "1\n",
      "6\n",
      "4.0\n"
     ]
    }
   ],
   "source": [
    "soma = 2 + 2\n",
    "subtracao = 5 - 2\n",
    "multiplicacao = 3 * 2\n",
    "divisao = 6 / 2\n",
    "divInteira = 10 // 3\n",
    "resto = 10 % 3\n",
    "potencia = 2 * 3\n",
    "radiciacao = 16 ** (1/2)\n",
    "print(soma)\n",
    "print(subtracao)\n",
    "print(multiplicacao)\n",
    "print(divisao)\n",
    "print(divInteira)\n",
    "print(resto)\n",
    "print(potencia)\n",
    "print(radiciacao)"
   ]
  },
  {
   "cell_type": "markdown",
   "id": "42de65c8",
   "metadata": {},
   "source": [
    "**Operadores Comparativos**"
   ]
  },
  {
   "cell_type": "code",
   "execution_count": 7,
   "id": "f2a2b833",
   "metadata": {},
   "outputs": [
    {
     "name": "stdout",
     "output_type": "stream",
     "text": [
      "False\n",
      "True\n",
      "True\n",
      "False\n",
      "True\n",
      "True\n"
     ]
    }
   ],
   "source": [
    "# Maior que\n",
    "print(6 > 7)\n",
    "# Menor que\n",
    "print(6 < 7)\n",
    "# Maior ou menor que\n",
    "print(6 >= 5)\n",
    "# Maior ou menor que\n",
    "print(6 <= 5)\n",
    "# Igual à\n",
    "print(5 == 5)\n",
    "# Diferente de\n",
    "print(5 != 6)"
   ]
  },
  {
   "cell_type": "markdown",
   "id": "9a849a13",
   "metadata": {},
   "source": [
    "**Operadores Lógicos**\n",
    "\n",
    "- Or: ou (inclusivo, um, o outro ou os 2)\n",
    "- And: e (exclusivo, tem que ser os 2)\n",
    "- Not: negação (inverte o valor lógico de uma expressão)"
   ]
  },
  {
   "cell_type": "markdown",
   "id": "6cb8c749",
   "metadata": {},
   "source": [
    "Usando o And\n",
    "\n",
    "```(0<= x) and (x <= 1) and (0 <= y) and (y <= 1)```"
   ]
  },
  {
   "cell_type": "markdown",
   "id": "a01a340e",
   "metadata": {},
   "source": [
    "Usando o And e Or\n",
    "\n",
    "```not ((x < 0)) or (x > 1) or (y < 0) or (y > 1))```"
   ]
  },
  {
   "cell_type": "markdown",
   "id": "180f0d02",
   "metadata": {},
   "source": [
    "**Operadores de associação (in, not in)**\n",
    "\n",
    "Os operadores de associação servem para trabalhar com um conjunto de informações, como listas, tuplas, dicionários e até strings. Eles verificam se uma variável está, ou não está em determinada sequência de valores."
   ]
  },
  {
   "cell_type": "markdown",
   "id": "7235d1ab",
   "metadata": {},
   "source": [
    "**Operadores de identidade (is, is not)**\n",
    "\n",
    "Os operadores de identidade serve para verificar se 2 objetos tem a mesma identidade, ou seja, se ocupam o mesmo espaço de memória"
   ]
  },
  {
   "cell_type": "markdown",
   "id": "2374e905",
   "metadata": {},
   "source": [
    "**Uso do if, elif e else**\n",
    "\n",
    "Essas funções são a forma como as condicionais são expressas/escritas no Python. Ao usar o **if**, você atribui uma condição \"if (condição)\" e depois comandos a serem executados caso a condição seja verdadeira. O modo de escrever o if no código é assim:\n",
    "\n",
    "```\n",
    "if (condicao):\n",
    "    comando 1\n",
    "    comando 2\n",
    "    ...\n",
    "continuação do código\n",
    "```"
   ]
  },
  {
   "cell_type": "markdown",
   "id": "11cef55d",
   "metadata": {},
   "source": [
    "O **elif** pode ser atribuído como uma continuação do código caso aquela condição não seja verdadeira. Ou seja, você atribui outra condição, que não aquela, e o computador verifica se é verdadeira eexecuta os comandos desejados. É possível usar mais de um elif, seguindo a lógica. A estrutura do elif é assim:\n",
    "\n",
    "```\n",
    "elif(condicao):\n",
    "    comando 1\n",
    "    comando 2\n",
    "continuação do código\n",
    "```"
   ]
  },
  {
   "cell_type": "markdown",
   "id": "93e209ad",
   "metadata": {},
   "source": [
    "Já o **else**, também é opcional, mas diferentemente do elif, ele engloba tudo que não seja as condições antes estabelecidas pelo if e pelo elif e executa os comandos desejados nos casos em que as outras conições não sejam verdadeiras. É possível usar o else só com o if ou com alguns/vários elif. A estrutura do else é assim:\n",
    "```\n",
    "else:\n",
    "    comando 1\n",
    "    comando 2\n",
    "    ...\n",
    "continuação do código\n",
    "```"
   ]
  },
  {
   "cell_type": "markdown",
   "id": "27c79f8c",
   "metadata": {},
   "source": [
    "### Exemplos e Exercícios"
   ]
  },
  {
   "cell_type": "markdown",
   "id": "b260b5b3",
   "metadata": {},
   "source": [
    "O usuário vai digitar 3 números a, b, c. Precisamos imprimir os números na ordem decrescente. Como escrever o código?\n",
    "\n",
    "1. Escreva o código usando apenas 1 operador de comparação por condição estabelecida\n",
    "2. Escreva o código livremente"
   ]
  },
  {
   "cell_type": "code",
   "execution_count": 12,
   "id": "39174679",
   "metadata": {},
   "outputs": [
    {
     "name": "stdout",
     "output_type": "stream",
     "text": [
      "Digite um número: 500\n",
      "Digite outro número: 284\n",
      "Digite mais um número: 622\n",
      "622.0 >= 500.0 >= 284.0\n"
     ]
    }
   ],
   "source": [
    "# Resposta\n",
    "a = float(input(f'Digite um número: '))\n",
    "b = float(input(f'Digite outro número: '))\n",
    "c = float(input(f'Digite mais um número: '))\n",
    "\n",
    "if a >= b and a >= c:\n",
    "    if b >= c:\n",
    "        print(f\"{a} >= {b} >= {c}\")\n",
    "    else:\n",
    "        print(f\"{a} >= {c} >= {b}\")\n",
    "elif b >= a and b >= c:\n",
    "    if a >= c:\n",
    "        print(f\"{b} >= {a} >= {c}\")\n",
    "    else:\n",
    "        print(f\"{b} >= {c} >= {a}\")\n",
    "else:\n",
    "    if a >= b:\n",
    "        print(f\"{c} >= {a} >= {b}\")\n",
    "    else:\n",
    "        print(f\"{c} >= {b} >= {a}\")"
   ]
  },
  {
   "cell_type": "code",
   "execution_count": 13,
   "id": "5ae8f27d",
   "metadata": {},
   "outputs": [
    {
     "name": "stdout",
     "output_type": "stream",
     "text": [
      "Digite um número: 1500\n",
      "Digite outro número: 22\n",
      "Digite mais um número: 12009\n",
      "12009.0 >= 1500.0 >= 22.0\n"
     ]
    }
   ],
   "source": [
    "# Resposta 2\n",
    "a = float(input(f'Digite um número: '))\n",
    "b = float(input(f'Digite outro número: '))\n",
    "c = float(input(f'Digite mais um número: '))\n",
    "\n",
    "if a >= b:\n",
    "    if b >= c:\n",
    "        print(f\"{a} >= {b} >= {c}\")\n",
    "    elif a >= c:\n",
    "        print(f\"{a} >= {c} >= {b}\")\n",
    "    else:\n",
    "        print(f\"{c} >= {a} >= {b}\")\n",
    "else:\n",
    "    if a >= c:\n",
    "        print(f\"{b} >= {a} >= {c}\")\n",
    "    elif b >= c:\n",
    "        print(f\"{b} >= {c} >= {a}\")\n",
    "    else:\n",
    "        print(f\"{c} >= {b} >= {a}\")"
   ]
  },
  {
   "cell_type": "code",
   "execution_count": 14,
   "id": "973a6180",
   "metadata": {},
   "outputs": [
    {
     "name": "stdout",
     "output_type": "stream",
     "text": [
      "Digite um número: 500\n",
      "Digite outro número: 2994\n",
      "Digite mais um número: 12\n",
      "2994.0 500.0 12.0\n"
     ]
    }
   ],
   "source": [
    "# Resposta 3\n",
    "a = float(input(f'Digite um número: '))\n",
    "b = float(input(f'Digite outro número: '))\n",
    "c = float(input(f'Digite mais um número: '))\n",
    "\n",
    "if a >= b >= c:\n",
    "    print(a, b, c)\n",
    "elif a >= c >= b:\n",
    "    print(a, c, b)\n",
    "elif b >= a >= c:\n",
    "    print(b, a, c)\n",
    "elif b >= c >= a:\n",
    "    print(b, c, a)\n",
    "elif c >= a >= b:\n",
    "    print(c, a, b)\n",
    "else:\n",
    "    print(c, b, a)"
   ]
  },
  {
   "cell_type": "code",
   "execution_count": 17,
   "id": "c273815a",
   "metadata": {},
   "outputs": [
    {
     "name": "stdout",
     "output_type": "stream",
     "text": [
      "Advinhe um valor do ponto no eixo X: 1\n",
      "Advinhe um valor do ponto no eixo Y: 0\n",
      "O ponto pertence ao quadrado\n"
     ]
    }
   ],
   "source": [
    "# Exemplo com operadores lógicos\n",
    "x = float(input(f'Advinhe um valor do ponto no eixo X: '))\n",
    "y = float(input(f'Advinhe um valor do ponto no eixo Y: '))\n",
    "if (0<= x) and (x <= 1) and (0 <= y) and (y <= 1):\n",
    "    print(f'O ponto pertence ao quadrado')\n",
    "else:\n",
    "    print(f'O ponto não pertence ao quadrado')"
   ]
  },
  {
   "cell_type": "code",
   "execution_count": 24,
   "id": "dd41de52",
   "metadata": {},
   "outputs": [
    {
     "name": "stdout",
     "output_type": "stream",
     "text": [
      "Qual é a sua renda no mês (em reais)? 1000000\n",
      "Seu Imposto de Renda Mensal é: R$ 274115.04\n"
     ]
    }
   ],
   "source": [
    "# Exemplo com condicionais (if, else, elif)\n",
    "\n",
    "# Solicitar usuário para digitar a sua renda mensal\n",
    "renda_mensal = float(input(\"Qual é a sua renda no mês (em reais)? \"))\n",
    "\n",
    "# Definir faixas de renda, aliquotas e deduções correspondentes\n",
    "faixas_renda_mensal = [2112.00, 2826.65, 3751.05, 4664.68]\n",
    "aliquotas_mensais = [0.075, 0.15, 0.225, 0.275]\n",
    "deducao_por_faixa = [158.40, 370.40, 651.73, 884.96]\n",
    "\n",
    "# Inicializar o valor do imposto de renda mensal\n",
    "imposto_renda_mensal = 0\n",
    "\n",
    "# Verificar qual faixa o usuário se encontra e calcular seu imposto de renda mensal\n",
    "if renda_mensal <= faixas_renda_mensal[0]:\n",
    "    imposto_renda_mensal = 0\n",
    "elif renda_mensal <= faixas_renda_mensal[1]:\n",
    "    imposto_renda_mensal = renda_mensal * aliquotas_mensais[0] - deducao_por_faixa[0]\n",
    "elif renda_mensal <= faixas_renda_mensal[2]:\n",
    "    imposto_renda_mensal = renda_mensal * aliquotas_mensais[1] - deducao_por_faixa[1]\n",
    "elif renda_mensal <= faixas_renda_mensal[3]:\n",
    "    imposto_renda_mensal = renda_mensal * aliquotas_mensais[2] - deducao_por_faixa[2]\n",
    "else:\n",
    "    imposto_renda_mensal = renda_mensal * aliquotas_mensais[3] - deducao_por_faixa[3]\n",
    "\n",
    "# Retornar mensagem ao usuário com o valor do seu imposto de renda mensal de acordo com sua renda\n",
    "print(f\"Seu Imposto de Renda Mensal é: R$ {imposto_renda_mensal:.2f}\")"
   ]
  },
  {
   "cell_type": "code",
   "execution_count": 25,
   "id": "4d9bd201",
   "metadata": {},
   "outputs": [
    {
     "name": "stdout",
     "output_type": "stream",
     "text": [
      "Maçã está na lista de frutas\n",
      "Banana não está na lista de frutas\n",
      "A palavra 'Python' está na frase\n",
      "A palavra 'Excel' não está na frase\n"
     ]
    }
   ],
   "source": [
    "# Exemplos com operadores de associação (in, not in)\n",
    "frutas = [\"maçã\", \"pera\", \"melancia\", \"kiwi\"]\n",
    "if \"maçã\" in frutas:\n",
    "    print(\"Maçã está na lista de frutas\")\n",
    "if \"banana\" not in frutas:\n",
    "    print(\"Banana não está na lista de frutas\")\n",
    "\n",
    "frase = \"Este é um curso de Python da FEA.dev\"\n",
    "if \"Python\" in frase:\n",
    "    print(\"A palavra 'Python' está na frase\")\n",
    "if \"Excel\" not in frase:\n",
    "    print(\"A palavra 'Excel' não está na frase\")"
   ]
  },
  {
   "cell_type": "code",
   "execution_count": 26,
   "id": "0f3c9aeb",
   "metadata": {},
   "outputs": [
    {
     "name": "stdout",
     "output_type": "stream",
     "text": [
      "Maria está na lista de contatos e seu endereço de e-mail é maria@email.com.br\n",
      "Pedro não está na lista de contatos\n"
     ]
    }
   ],
   "source": [
    "# Dicionário de contatos\n",
    "contatos = {\n",
    "    \"João\": \"joao@email.com.br\",\n",
    "    \"Maria\": \"maria@email.com.br\",\n",
    "    \"José\": \"jose@email.com.br\"\n",
    "}\n",
    "\n",
    "nome = \"Maria\"\n",
    "\n",
    "if nome in contatos:\n",
    "    print(f\"{nome} está na lista de contatos e seu endereço de e-mail é {contatos[nome]}\")\n",
    "else:\n",
    "    print(f\"{nome} não está na lista de contatos\")\n",
    "    \n",
    "nome = \"Pedro\"\n",
    "if nome not in contatos:\n",
    "    print(f\"{nome} não está na lista de contatos\")"
   ]
  },
  {
   "cell_type": "code",
   "execution_count": 28,
   "id": "57296a50",
   "metadata": {},
   "outputs": [
    {
     "name": "stdout",
     "output_type": "stream",
     "text": [
      "False\n",
      "As listas têm identidades diferentes\n",
      "True\n",
      "A lista1 e a lista2 têm o mesmo conteúdo\n",
      "True\n"
     ]
    }
   ],
   "source": [
    "# Exemplos com operadores de identidate (is, is not)\n",
    "lista1 = [1, 2, 3]\n",
    "lista2 = [1, 2, 3]\n",
    "\n",
    "# Verificar se as listas têm a mesma identidade\n",
    "print(lista1 is lista2)\n",
    "if lista1 is lista2:\n",
    "    print(\"A lista1 e a lista2 têm a mesma identidade\")\n",
    "else:\n",
    "    print(\"As listas têm identidades diferentes\")\n",
    "\n",
    "# Verificar se as listas têm o mesmo conteúdo\n",
    "print(lista1 == lista2)\n",
    "if lista1 == lista2:\n",
    "    print(\"A lista1 e a lista2 têm o mesmo conteúdo\")\n",
    "else:\n",
    "    print(\"As listas têm conteúdos diferentes\")\n",
    "    \n",
    "# Transformar as listas em uma mesma coisa\n",
    "lista1 = lista2\n",
    "print(lista1 is lista2)"
   ]
  }
 ],
 "metadata": {
  "kernelspec": {
   "display_name": "Python 3 (ipykernel)",
   "language": "python",
   "name": "python3"
  },
  "language_info": {
   "codemirror_mode": {
    "name": "ipython",
    "version": 3
   },
   "file_extension": ".py",
   "mimetype": "text/x-python",
   "name": "python",
   "nbconvert_exporter": "python",
   "pygments_lexer": "ipython3",
   "version": "3.9.13"
  }
 },
 "nbformat": 4,
 "nbformat_minor": 5
}
