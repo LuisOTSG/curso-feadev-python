{
 "cells": [
  {
   "cell_type": "markdown",
   "metadata": {},
   "source": [
    "# Retomar\n",
    "\n",
    "## Operadores de comparação\n",
    "\n",
    "* \\> : maior que\n",
    "* < : menor que\n",
    "* \\>= : maior ou igual a\n",
    "* <= : menor ou igual a\n",
    "* == : igual a\n",
    "* != : diferente de\n",
    "\n",
    "## Operadores Lógicos\n",
    "\n",
    "* and\n",
    "* or\n",
    "* not\n",
    "\n",
    "## Operadores de associação\n",
    "\n",
    "* in\n",
    "* not in\n",
    "\n",
    "## Operadores de identidade\n",
    "\n",
    "* is\n",
    "* is not"
   ]
  },
  {
   "cell_type": "markdown",
   "metadata": {},
   "source": [
    "# Introdução aos Loops\n",
    "\n",
    "Loops são estruturas de controle que permitem que você execute um bloco de código repetidamente."
   ]
  },
  {
   "cell_type": "code",
   "execution_count": 1,
   "metadata": {},
   "outputs": [
    {
     "name": "stdout",
     "output_type": "stream",
     "text": [
      "0\n",
      "1\n",
      "2\n",
      "3\n",
      "4\n",
      "5\n"
     ]
    }
   ],
   "source": [
    "# Print de números de 0 até 5\n",
    "print(0)\n",
    "print(1)\n",
    "print(2)\n",
    "print(3)\n",
    "print(4)\n",
    "print(5)"
   ]
  },
  {
   "cell_type": "markdown",
   "metadata": {},
   "source": [
    "## PseudoCode: `WHILE`\n",
    "\n",
    "\n",
    "```python\n",
    "    enquanto condição verídica:                ----->           while condição:\n",
    "        código a ser executado em repetição                         código a ser executado em repetição\n",
    "```"
   ]
  },
  {
   "cell_type": "code",
   "execution_count": 2,
   "metadata": {},
   "outputs": [
    {
     "name": "stdout",
     "output_type": "stream",
     "text": [
      "Que ótimo\n"
     ]
    }
   ],
   "source": [
    "# Pegar input de usuário (WHILE infinito + break)\n",
    "while True:\n",
    "    resposta = input(\"Você está gostando do curso?\").lower()\n",
    "    if resposta in [\"sim\", \"s\"]:\n",
    "        print(\"Que ótimo\")\n",
    "        break\n",
    "    elif resposta in [\"não\", \"n\", \"nao\"]:\n",
    "        print(\"Que pena\")\n",
    "        break"
   ]
  },
  {
   "cell_type": "code",
   "execution_count": 3,
   "metadata": {},
   "outputs": [
    {
     "name": "stdout",
     "output_type": "stream",
     "text": [
      "0\n",
      "1\n",
      "2\n",
      "3\n",
      "4\n",
      "5\n"
     ]
    }
   ],
   "source": [
    "# Print de números de 0 até 5 com WHILE\n",
    "contador = 0\n",
    "while contador < 6:\n",
    "    print(contador)\n",
    "    contador += 1"
   ]
  },
  {
   "cell_type": "markdown",
   "metadata": {},
   "source": [
    "## Operadores de atribuição\n",
    "\n",
    "|Operador|Equivalente|\n",
    "|--------|-----------|\n",
    "|   +=   | x = x + y | \n",
    "|   -=   | x = x - y |\n",
    "|   *=   | x = x * y |\n",
    "|   /=   | x = x / y |\n",
    "|   %=   | x = x % y |"
   ]
  },
  {
   "cell_type": "markdown",
   "metadata": {},
   "source": [
    "## PseudoCode: `FOR`\n",
    "\n",
    "\n",
    "```python\n",
    "    para cada elemento em uma sequencia:            ----->      for elemento in sequencia:\n",
    "        código a ser executado para cada elemento                   código a ser executado para cada elemento\n",
    "```"
   ]
  },
  {
   "cell_type": "code",
   "execution_count": 4,
   "metadata": {},
   "outputs": [
    {
     "name": "stdout",
     "output_type": "stream",
     "text": [
      "0\n",
      "1\n",
      "2\n",
      "3\n",
      "4\n",
      "5\n"
     ]
    }
   ],
   "source": [
    "# Print de números de 0 até 5 com FOR\n",
    "num = [0, 1, 2, 3, 4, 5]\n",
    "for numero in num:\n",
    "    print(numero)"
   ]
  },
  {
   "cell_type": "code",
   "execution_count": 5,
   "metadata": {},
   "outputs": [
    {
     "name": "stdout",
     "output_type": "stream",
     "text": [
      "2\n",
      "4\n"
     ]
    }
   ],
   "source": [
    "# range()\n",
    "# Cria listas de números range(começo, parada sem incluir, pular)\n",
    "for numero in range(2, 6, 2):\n",
    "    print(numero)"
   ]
  },
  {
   "cell_type": "code",
   "execution_count": 6,
   "metadata": {},
   "outputs": [
    {
     "name": "stdout",
     "output_type": "stream",
     "text": [
      "Meu nome é Alice e tenho 25 anos\n",
      "Meu nome é Bob e tenho 30 anos\n",
      "Meu nome é Charlie e tenho 35 anos\n"
     ]
    }
   ],
   "source": [
    "# zip\n",
    "nomes = [\"Alice\", \"Bob\", \"Charlie\"]\n",
    "idades = [25, 30, 35]\n",
    "for nome, idade in zip(nomes, idades):\n",
    "    print(f\"Meu nome é {nome} e tenho {idade} anos\")"
   ]
  },
  {
   "cell_type": "code",
   "execution_count": 10,
   "metadata": {},
   "outputs": [
    {
     "name": "stdout",
     "output_type": "stream",
     "text": [
      "Meu nome é Alice e tenho 25 anos\n",
      "Meu nome é Bob e tenho 30 anos\n",
      "Meu nome é Charlie e tenho 35 anos\n"
     ]
    }
   ],
   "source": [
    "# Iterar um dicionário {key: value}\n",
    "pessoas = dict(zip(nomes, idades))\n",
    "\n",
    "for chave, valor in pessoas.items():\n",
    "    print(f\"Meu nome é {chave} e tenho {valor} anos\")"
   ]
  },
  {
   "cell_type": "code",
   "execution_count": 11,
   "metadata": {},
   "outputs": [
    {
     "name": "stdout",
     "output_type": "stream",
     "text": [
      "O indice é 0 e a fruta é maçã\n",
      "O indice é 1 e a fruta é banana\n",
      "O indice é 2 e a fruta é laranja\n"
     ]
    }
   ],
   "source": [
    "# enumerate\n",
    "frutas = [\"maçã\", \"banana\", \"laranja\"]\n",
    "\n",
    "for indice, fruta in enumerate(frutas):\n",
    "    print(f\"O indice é {indice} e a fruta é {fruta}\")"
   ]
  },
  {
   "cell_type": "code",
   "execution_count": 12,
   "metadata": {},
   "outputs": [
    {
     "name": "stdout",
     "output_type": "stream",
     "text": [
      "0\n",
      "1\n",
      "2\n",
      "3\n",
      "4\n",
      "5\n"
     ]
    }
   ],
   "source": [
    "# set\n",
    "nums = [0, 1, 2, 3, 4, 5]\n",
    "set_nums = {0, 1, 2, 3, 4, 5}\n",
    "\n",
    "for numero in set(nums):\n",
    "    print(numero)"
   ]
  },
  {
   "cell_type": "markdown",
   "metadata": {},
   "source": [
    "## Mario\n",
    "\n",
    "![Mario pyramid](mario_piramide_1lado.png \"Pirâmide Mario\")\n",
    "\n",
    "### Desafio: Fazer uma pirâmide do Mario com ```\"#\"``` e com o input do usuário\n",
    "\n",
    "Exemplo output:\n",
    "\n",
    "```\n",
    "  #\n",
    " ##\n",
    "###\n"
   ]
  },
  {
   "cell_type": "code",
   "execution_count": 17,
   "metadata": {},
   "outputs": [
    {
     "name": "stdout",
     "output_type": "stream",
     "text": [
      "  #\n",
      " ##\n",
      "###\n"
     ]
    }
   ],
   "source": [
    "tamanho = int(input(\"Tamanho pirâmide\"))\n",
    "for hashtags in range(1, tamanho + 1):\n",
    "    tamanho -= 1\n",
    "    linha_piramide = \" \" * tamanho + \"#\" * hashtags\n",
    "    print(linha_piramide)"
   ]
  },
  {
   "cell_type": "markdown",
   "metadata": {},
   "source": [
    "## Mario\n",
    "\n",
    "![Mario pyramid](mario_piramide_2lados.png \"Pirâmide Mario\")\n",
    "\n",
    "### Desafio: Fazer uma pirâmide do Mario com ```\"#\"``` e com o input do usuário\n",
    "\n",
    "Exemplo output:\n",
    "\n",
    "```\n",
    "  #  #\n",
    " ##  ##\n",
    "###  ###"
   ]
  },
  {
   "cell_type": "code",
   "execution_count": 16,
   "metadata": {},
   "outputs": [
    {
     "name": "stdout",
     "output_type": "stream",
     "text": [
      "  #  #  \n",
      " ##  ## \n",
      "###  ###\n"
     ]
    }
   ],
   "source": [
    "tamanho = int(input(\"Tamanho pirâmide\"))\n",
    "for hashtags in range(1, tamanho + 1):\n",
    "    tamanho -= 1\n",
    "    print(\" \" * tamanho, end=\"\")\n",
    "    print(\"#\" * hashtags, end=\"\")\n",
    "    print(\"  \", end=\"\")\n",
    "    print(\"#\" * hashtags, end=\"\")\n",
    "    print(\" \" * tamanho)"
   ]
  }
 ],
 "metadata": {
  "kernelspec": {
   "display_name": "Python 3",
   "language": "python",
   "name": "python3"
  },
  "language_info": {
   "codemirror_mode": {
    "name": "ipython",
    "version": 3
   },
   "file_extension": ".py",
   "mimetype": "text/x-python",
   "name": "python",
   "nbconvert_exporter": "python",
   "pygments_lexer": "ipython3",
   "version": "3.11.5"
  },
  "orig_nbformat": 4
 },
 "nbformat": 4,
 "nbformat_minor": 2
}
