{
 "cells": [
  {
   "cell_type": "markdown",
   "id": "a9e7a53a",
   "metadata": {},
   "source": [
    "# Numpy - Aplicações\n",
    "**Nesta aula**:\n",
    "1. Entendendo o Numpy\n",
    "2. Objetivo da biblioteca Numpy\n",
    "3. Vantagens\n",
    "4. Utilidades\n",
    "5. Curiosidades"
   ]
  },
  {
   "cell_type": "code",
   "execution_count": 1,
   "id": "1ed58ce0",
   "metadata": {},
   "outputs": [
    {
     "name": "stdout",
     "output_type": "stream",
     "text": [
      "Package                       Version\n",
      "----------------------------- --------------------\n",
      "alabaster                     0.7.12\n",
      "anaconda-client               1.11.0\n",
      "anaconda-navigator            2.3.1\n",
      "anaconda-project              0.11.1\n",
      "anyio                         3.5.0\n",
      "appdirs                       1.4.4\n",
      "argon2-cffi                   21.3.0\n",
      "argon2-cffi-bindings          21.2.0\n",
      "arrow                         1.2.2\n",
      "astroid                       2.11.7\n",
      "astropy                       5.1\n",
      "asttokens                     2.2.1\n",
      "atomicwrites                  1.4.0\n",
      "attrs                         21.4.0\n",
      "Automat                       20.2.0\n",
      "autopep8                      1.6.0\n",
      "Babel                         2.9.1\n",
      "backcall                      0.2.0\n",
      "backports.functools-lru-cache 1.6.4\n",
      "backports.tempfile            1.0\n",
      "backports.weakref             1.0.post1\n",
      "bcrypt                        3.2.0\n",
      "beautifulsoup4                4.11.1\n",
      "binaryornot                   0.4.4\n",
      "bitarray                      2.5.1\n",
      "bkcharts                      0.2\n",
      "black                         22.6.0\n",
      "bleach                        4.1.0\n",
      "bokeh                         2.4.3\n",
      "boto3                         1.24.28\n",
      "botocore                      1.27.28\n",
      "Bottleneck                    1.3.5\n",
      "brotlipy                      0.7.0\n",
      "certifi                       2022.9.14\n",
      "cffi                          1.15.1\n",
      "chardet                       4.0.0\n",
      "charset-normalizer            2.0.4\n",
      "click                         8.0.4\n",
      "cloudpickle                   2.0.0\n",
      "clyent                        1.2.2\n",
      "colorama                      0.4.6\n",
      "colorcet                      3.0.0\n",
      "comm                          0.1.3\n",
      "comtypes                      1.1.10\n",
      "conda                         22.9.0\n",
      "conda-build                   3.22.0\n",
      "conda-content-trust           0.1.3\n",
      "conda-pack                    0.6.0\n",
      "conda-package-handling        1.9.0\n",
      "conda-repo-cli                1.0.20\n",
      "conda-token                   0.4.0\n",
      "conda-verify                  3.4.2\n",
      "constantly                    15.1.0\n",
      "cookiecutter                  1.7.3\n",
      "cryptography                  37.0.1\n",
      "cssselect                     1.1.0\n",
      "cycler                        0.11.0\n",
      "Cython                        0.29.32\n",
      "cytoolz                       0.11.0\n",
      "daal4py                       2021.6.0\n",
      "dask                          2022.7.0\n",
      "datashader                    0.14.1\n",
      "datashape                     0.5.4\n",
      "debugpy                       1.6.7\n",
      "decorator                     5.1.1\n",
      "defusedxml                    0.7.1\n",
      "diff-match-patch              20200713\n",
      "dill                          0.3.4\n",
      "distributed                   2022.7.0\n",
      "docutils                      0.18.1\n",
      "entrypoints                   0.4\n",
      "et-xmlfile                    1.1.0\n",
      "executing                     1.2.0\n",
      "fastjsonschema                2.16.2\n",
      "filelock                      3.6.0\n",
      "flake8                        4.0.1\n",
      "Flask                         1.1.2\n",
      "fonttools                     4.25.0\n",
      "fsspec                        2022.7.1\n",
      "future                        0.18.2\n",
      "gensim                        4.1.2\n",
      "glob2                         0.7\n",
      "greenlet                      1.1.1\n",
      "h5py                          3.7.0\n",
      "HeapDict                      1.0.1\n",
      "holoviews                     1.15.0\n",
      "hvplot                        0.8.0\n",
      "hyperlink                     21.0.0\n",
      "idna                          3.3\n",
      "imagecodecs                   2021.8.26\n",
      "imageio                       2.19.3\n",
      "imagesize                     1.4.1\n",
      "importlib-metadata            6.8.0\n",
      "incremental                   21.3.0\n",
      "inflection                    0.5.1\n",
      "iniconfig                     1.1.1\n",
      "intake                        0.6.5\n",
      "intervaltree                  3.1.0\n",
      "ipykernel                     6.24.0\n",
      "ipython                       8.14.0\n",
      "ipython-genutils              0.2.0\n",
      "ipywidgets                    7.6.5\n",
      "isort                         5.9.3\n",
      "itemadapter                   0.3.0\n",
      "itemloaders                   1.0.4\n",
      "itsdangerous                  2.0.1\n",
      "jdcal                         1.4.1\n",
      "jedi                          0.18.2\n",
      "jellyfish                     0.9.0\n",
      "Jinja2                        2.11.3\n",
      "jinja2-time                   0.2.0\n",
      "jmespath                      0.10.0\n",
      "joblib                        1.1.0\n",
      "json5                         0.9.6\n",
      "jsonschema                    4.16.0\n",
      "jupyter                       1.0.0\n",
      "jupyter_client                8.3.0\n",
      "jupyter-console               6.4.3\n",
      "jupyter_core                  5.3.1\n",
      "jupyter-server                1.18.1\n",
      "jupyterlab                    3.4.4\n",
      "jupyterlab-pygments           0.1.2\n",
      "jupyterlab-server             2.10.3\n",
      "jupyterlab-widgets            1.0.0\n",
      "keyring                       23.4.0\n",
      "kiwisolver                    1.4.2\n",
      "lazy-object-proxy             1.6.0\n",
      "libarchive-c                  2.9\n",
      "llvmlite                      0.38.0\n",
      "locket                        1.0.0\n",
      "lxml                          4.9.1\n",
      "lz4                           3.1.3\n",
      "Markdown                      3.3.4\n",
      "MarkupSafe                    2.0.1\n",
      "matplotlib                    3.5.2\n",
      "matplotlib-inline             0.1.6\n",
      "mccabe                        0.6.1\n",
      "menuinst                      1.4.19\n",
      "mistune                       0.8.4\n",
      "mkl-fft                       1.3.1\n",
      "mkl-random                    1.2.2\n",
      "mkl-service                   2.4.0\n",
      "mock                          4.0.3\n",
      "mpmath                        1.2.1\n",
      "msgpack                       1.0.3\n",
      "multipledispatch              0.6.0\n",
      "munkres                       1.1.4\n",
      "mypy-extensions               0.4.3\n",
      "navigator-updater             0.3.0\n",
      "nbclassic                     0.3.5\n",
      "nbclient                      0.5.13\n",
      "nbconvert                     6.4.4\n",
      "nbformat                      5.5.0\n",
      "nest-asyncio                  1.5.6\n",
      "networkx                      2.8.4\n",
      "nltk                          3.7\n",
      "nose                          1.3.7\n",
      "notebook                      6.4.12\n",
      "numba                         0.55.1\n",
      "numexpr                       2.8.3\n",
      "numpy                         1.21.5\n",
      "numpydoc                      1.4.0\n",
      "olefile                       0.46\n",
      "openpyxl                      3.0.10\n",
      "packaging                     23.1\n",
      "pandas                        1.4.4\n",
      "pandocfilters                 1.5.0\n",
      "panel                         0.13.1\n",
      "param                         1.12.0\n",
      "paramiko                      2.8.1\n",
      "parsel                        1.6.0\n",
      "parso                         0.8.3\n",
      "partd                         1.2.0\n",
      "pathlib                       1.0.1\n",
      "pathspec                      0.9.0\n",
      "patsy                         0.5.2\n",
      "pep8                          1.7.1\n",
      "pexpect                       4.8.0\n",
      "pickleshare                   0.7.5\n",
      "Pillow                        9.2.0\n",
      "pip                           22.2.2\n",
      "pkginfo                       1.8.2\n",
      "platformdirs                  3.9.1\n",
      "plotly                        5.9.0\n",
      "pluggy                        1.0.0\n",
      "poyo                          0.5.0\n",
      "prometheus-client             0.14.1\n",
      "prompt-toolkit                3.0.39\n",
      "Protego                       0.1.16\n",
      "psutil                        5.9.5\n",
      "ptyprocess                    0.7.0\n",
      "pure-eval                     0.2.2\n",
      "py                            1.11.0\n",
      "pyasn1                        0.4.8\n",
      "pyasn1-modules                0.2.8\n",
      "pycodestyle                   2.8.0\n",
      "pycosat                       0.6.3\n",
      "pycparser                     2.21\n",
      "pyct                          0.4.8\n",
      "pycurl                        7.45.1\n",
      "PyDispatcher                  2.0.5\n",
      "pydocstyle                    6.1.1\n",
      "pyerfa                        2.0.0\n",
      "pyflakes                      2.4.0\n",
      "Pygments                      2.15.1\n",
      "PyHamcrest                    2.0.2\n",
      "PyJWT                         2.4.0\n",
      "pylint                        2.14.5\n",
      "pyls-spyder                   0.4.0\n",
      "PyNaCl                        1.5.0\n",
      "pyodbc                        4.0.34\n",
      "pyOpenSSL                     22.0.0\n",
      "pyparsing                     3.0.9\n",
      "pyrsistent                    0.18.0\n",
      "PySocks                       1.7.1\n",
      "pytest                        7.1.2\n",
      "python-dateutil               2.8.2\n",
      "python-lsp-black              1.0.0\n",
      "python-lsp-jsonrpc            1.0.0\n",
      "python-lsp-server             1.3.3\n",
      "python-slugify                5.0.2\n",
      "python-snappy                 0.6.0\n",
      "pytz                          2022.1\n",
      "pyviz-comms                   2.0.2\n",
      "PyWavelets                    1.3.0\n",
      "pywin32                       306\n",
      "pywin32-ctypes                0.2.0\n",
      "pywinpty                      2.0.2\n",
      "PyYAML                        6.0\n",
      "pyzmq                         25.1.0\n",
      "QDarkStyle                    3.0.2\n",
      "qstylizer                     0.1.10\n",
      "QtAwesome                     1.0.3\n",
      "qtconsole                     5.2.2\n",
      "QtPy                          2.2.0\n",
      "queuelib                      1.5.0\n",
      "regex                         2022.7.9\n",
      "requests                      2.28.1\n",
      "requests-file                 1.5.1\n",
      "rope                          0.22.0\n",
      "Rtree                         0.9.7\n",
      "ruamel-yaml-conda             0.15.100\n",
      "s3transfer                    0.6.0\n",
      "scikit-image                  0.19.2\n",
      "scikit-learn                  1.0.2\n",
      "scikit-learn-intelex          2021.20221004.171935\n",
      "scipy                         1.9.1\n",
      "Scrapy                        2.6.2\n",
      "seaborn                       0.11.2\n",
      "Send2Trash                    1.8.0\n",
      "service-identity              18.1.0\n",
      "setuptools                    63.4.1\n",
      "sip                           4.19.13\n",
      "six                           1.16.0\n",
      "smart-open                    5.2.1\n",
      "sniffio                       1.2.0\n",
      "snowballstemmer               2.2.0\n",
      "sortedcollections             2.1.0\n",
      "sortedcontainers              2.4.0\n",
      "soupsieve                     2.3.1\n",
      "Sphinx                        5.0.2\n",
      "sphinxcontrib-applehelp       1.0.2\n",
      "sphinxcontrib-devhelp         1.0.2\n",
      "sphinxcontrib-htmlhelp        2.0.0\n",
      "sphinxcontrib-jsmath          1.0.1\n",
      "sphinxcontrib-qthelp          1.0.3\n",
      "sphinxcontrib-serializinghtml 1.1.5\n",
      "spyder                        5.2.2\n",
      "spyder-kernels                2.2.1\n",
      "SQLAlchemy                    1.4.39\n",
      "stack-data                    0.6.2\n",
      "statsmodels                   0.13.2\n",
      "sympy                         1.10.1\n",
      "tables                        3.6.1\n",
      "tabulate                      0.8.10\n",
      "TBB                           0.2\n",
      "tblib                         1.7.0\n",
      "tenacity                      8.0.1\n",
      "terminado                     0.13.1\n",
      "testpath                      0.6.0\n",
      "text-unidecode                1.3\n",
      "textdistance                  4.2.1\n",
      "threadpoolctl                 2.2.0\n",
      "three-merge                   0.1.1\n",
      "tifffile                      2021.7.2\n",
      "tinycss                       0.4\n",
      "tldextract                    3.2.0\n",
      "toml                          0.10.2\n",
      "tomli                         2.0.1\n",
      "tomlkit                       0.11.1\n",
      "toolz                         0.11.2\n",
      "tornado                       6.3.2\n",
      "tqdm                          4.64.1\n",
      "traitlets                     5.9.0\n",
      "Twisted                       22.2.0\n",
      "twisted-iocpsupport           1.0.2\n",
      "typing_extensions             4.7.1\n",
      "ujson                         5.4.0\n",
      "Unidecode                     1.2.0\n",
      "urllib3                       1.26.11\n",
      "w3lib                         1.21.0\n",
      "watchdog                      2.1.6\n",
      "wcwidth                       0.2.6\n",
      "webencodings                  0.5.1\n",
      "websocket-client              0.58.0\n",
      "Werkzeug                      2.0.3\n",
      "wheel                         0.37.1\n",
      "widgetsnbextension            3.5.2\n",
      "win-inet-pton                 1.1.0\n",
      "win-unicode-console           0.5\n",
      "wincertstore                  0.2\n",
      "wrapt                         1.14.1\n",
      "xarray                        0.20.1\n",
      "xlrd                          2.0.1\n",
      "XlsxWriter                    3.0.3\n",
      "xlwings                       0.27.15\n",
      "yapf                          0.31.0\n",
      "zict                          2.1.0\n",
      "zipp                          3.16.2\n",
      "zope.interface                5.4.0\n",
      "Note: you may need to restart the kernel to use updated packages.\n"
     ]
    }
   ],
   "source": [
    "pip list"
   ]
  },
  {
   "cell_type": "code",
   "execution_count": 2,
   "id": "994ca31c",
   "metadata": {},
   "outputs": [],
   "source": [
    "# Instalando o numpy\n",
    "## pip install numpy\n",
    "# ou\n",
    "## !pip install numpy"
   ]
  },
  {
   "cell_type": "code",
   "execution_count": 3,
   "id": "a636e73e",
   "metadata": {},
   "outputs": [],
   "source": [
    "import numpy as np"
   ]
  },
  {
   "cell_type": "markdown",
   "id": "de0f1c08",
   "metadata": {},
   "source": [
    "### Arrays"
   ]
  },
  {
   "cell_type": "code",
   "execution_count": 4,
   "id": "03ee3da6",
   "metadata": {},
   "outputs": [
    {
     "name": "stdout",
     "output_type": "stream",
     "text": [
      "['Minas Gerais' 'São Paulo' 'Rio de Janeiro' 'Espírito Santo']\n",
      "[  3.14    25.4    -32.5      0.3333  99.9   ]\n",
      "[0 1 2 3 4 5]\n",
      "[ True False False  True  True False]\n"
     ]
    }
   ],
   "source": [
    "# Arrays multidimensionais\n",
    "arr_str = np.array(['Minas Gerais', 'São Paulo', 'Rio de Janeiro', 'Espírito Santo'])\n",
    "print(arr_str)\n",
    "\n",
    "arr_float = np.array([3.14, 25.4, -32.5, 0.3333, 99.9])\n",
    "print(arr_float)\n",
    "\n",
    "arr_int = np.array([0, 1, 2, 3, 4, 5])\n",
    "print(arr_int)\n",
    "\n",
    "arr_bol = np.array([True, False, False, True, True, False])\n",
    "print(arr_bol)"
   ]
  },
  {
   "cell_type": "code",
   "execution_count": 5,
   "id": "0ed5f7f3",
   "metadata": {},
   "outputs": [
    {
     "name": "stdout",
     "output_type": "stream",
     "text": [
      "<class 'numpy.ndarray'>\n",
      "<class 'numpy.ndarray'>\n",
      "<class 'numpy.ndarray'>\n",
      "<class 'numpy.ndarray'>\n"
     ]
    }
   ],
   "source": [
    "# Verificar estrutura dos arrays\n",
    "print(type(arr_str))\n",
    "print(type(arr_float))\n",
    "print(type(arr_int))\n",
    "print(type(arr_bol))"
   ]
  },
  {
   "cell_type": "code",
   "execution_count": 6,
   "id": "e7260bd0",
   "metadata": {},
   "outputs": [
    {
     "name": "stdout",
     "output_type": "stream",
     "text": [
      "['Sete Lagoas' '25' '12.7' 'False']\n",
      "<class 'numpy.ndarray'>\n"
     ]
    }
   ],
   "source": [
    "# Array com diferentes tipos de dados\n",
    "arr_tipos = np.array(['Sete Lagoas', 25, 12.7, False])\n",
    "print(arr_tipos)\n",
    "print(type(arr_tipos))"
   ]
  },
  {
   "cell_type": "code",
   "execution_count": 7,
   "id": "cd6f399c",
   "metadata": {},
   "outputs": [
    {
     "data": {
      "text/plain": [
       "array([1, 2, 3, 4, 5, 6])"
      ]
     },
     "execution_count": 7,
     "metadata": {},
     "output_type": "execute_result"
    }
   ],
   "source": [
    "# Operações matemáticas: homogêneas - é possível realizar tais operações\n",
    "arr_int += 1\n",
    "arr_int"
   ]
  },
  {
   "cell_type": "code",
   "execution_count": 8,
   "id": "5d37e36f",
   "metadata": {},
   "outputs": [
    {
     "ename": "UFuncTypeError",
     "evalue": "ufunc 'add' did not contain a loop with signature matching types (dtype('<U32'), dtype('int32')) -> None",
     "output_type": "error",
     "traceback": [
      "\u001b[1;31m---------------------------------------------------------------------------\u001b[0m",
      "\u001b[1;31mUFuncTypeError\u001b[0m                            Traceback (most recent call last)",
      "Cell \u001b[1;32mIn[8], line 2\u001b[0m\n\u001b[0;32m      1\u001b[0m \u001b[38;5;66;03m# Operações matemáticas: heterogêneas - não é possível realizar tais operações\u001b[39;00m\n\u001b[1;32m----> 2\u001b[0m arr_tipos \u001b[38;5;241m+\u001b[39m\u001b[38;5;241m=\u001b[39m \u001b[38;5;241m1\u001b[39m\n\u001b[0;32m      3\u001b[0m arr_tipos\n",
      "\u001b[1;31mUFuncTypeError\u001b[0m: ufunc 'add' did not contain a loop with signature matching types (dtype('<U32'), dtype('int32')) -> None"
     ]
    }
   ],
   "source": [
    "# Operações matemáticas: heterogêneas - não é possível realizar tais operações\n",
    "arr_tipos += 1\n",
    "arr_tipos"
   ]
  },
  {
   "cell_type": "markdown",
   "id": "65bc87b2",
   "metadata": {},
   "source": [
    "### Arrays x Listas\n",
    "Similaridades: Ambos armazenam dados, são mutáveis, podem ser indexados e divididos.\n",
    "\n",
    "Diferenças: **Listas** armazenam dados heterogêneos e é built-in (embutida) enquanto **Array** é homogêneo e instalado por via externa.\n",
    "\n",
    "**Vantagens de usar arrays**:\n",
    "- Maior flexibilidade nos cálculos matemáticos\n",
    "- Mais velocidade\n",
    "- Menor armazenamento"
   ]
  },
  {
   "cell_type": "code",
   "execution_count": 9,
   "id": "fd544ddb",
   "metadata": {},
   "outputs": [],
   "source": [
    "# Exemplo: Média Ponderada\n",
    "## Notas e Pesos para calcular média ponderada\n",
    "notas = [3.0, 5.0, 7.0, 6.0, 9.0]\n",
    "pesos = [2, 1, 2, 5, 5]"
   ]
  },
  {
   "cell_type": "code",
   "execution_count": 10,
   "id": "60045ed0",
   "metadata": {
    "scrolled": true
   },
   "outputs": [
    {
     "ename": "TypeError",
     "evalue": "can't multiply sequence by non-int of type 'list'",
     "output_type": "error",
     "traceback": [
      "\u001b[1;31m---------------------------------------------------------------------------\u001b[0m",
      "\u001b[1;31mTypeError\u001b[0m                                 Traceback (most recent call last)",
      "Cell \u001b[1;32mIn[10], line 2\u001b[0m\n\u001b[0;32m      1\u001b[0m \u001b[38;5;66;03m# Utilizando listas - Não é possível visto que listas são incapazes de fazer operações matemáticas simples\u001b[39;00m\n\u001b[1;32m----> 2\u001b[0m (\u001b[43mnotas\u001b[49m\u001b[43m \u001b[49m\u001b[38;5;241;43m*\u001b[39;49m\u001b[43m \u001b[49m\u001b[43mpesos\u001b[49m )\u001b[38;5;241m/\u001b[39m\u001b[38;5;28msum\u001b[39m(pesos)\n",
      "\u001b[1;31mTypeError\u001b[0m: can't multiply sequence by non-int of type 'list'"
     ]
    }
   ],
   "source": [
    "# Utilizando listas - Não é possível visto que listas são incapazes de fazer operações matemáticas simples\n",
    "(notas * pesos )/sum(pesos)"
   ]
  },
  {
   "cell_type": "code",
   "execution_count": 11,
   "id": "a3bd62d2",
   "metadata": {},
   "outputs": [
    {
     "data": {
      "text/plain": [
       "[3.0, 5.0, 7.0, 6.0, 9.0, 2, 1, 2, 5, 5]"
      ]
     },
     "execution_count": 11,
     "metadata": {},
     "output_type": "execute_result"
    }
   ],
   "source": [
    "# Ao invés de somar notas e pesos, a operação realizada é concatenação\n",
    "notas + pesos"
   ]
  },
  {
   "cell_type": "code",
   "execution_count": 12,
   "id": "b9f6f8bd",
   "metadata": {},
   "outputs": [
    {
     "name": "stdout",
     "output_type": "stream",
     "text": [
      "6.666666666666667\n"
     ]
    }
   ],
   "source": [
    "# Utilizando list comprehension - É um método que pode ser usado para operações matemáticas\n",
    "nota_final = sum(nota * peso for nota, peso in zip(notas, pesos)) / sum(pesos)\n",
    "\n",
    "print(nota_final)"
   ]
  },
  {
   "cell_type": "code",
   "execution_count": 13,
   "id": "0d3fba8c",
   "metadata": {},
   "outputs": [
    {
     "name": "stdout",
     "output_type": "stream",
     "text": [
      "[3. 5. 7. 6. 9.] [2 1 2 5 5]\n"
     ]
    }
   ],
   "source": [
    "# Utilizando arrays (numpy)\n",
    "notas_array = np.array(notas)\n",
    "pesos_array = np.array(pesos)\n",
    "\n",
    "print(notas_array, pesos_array)"
   ]
  },
  {
   "cell_type": "code",
   "execution_count": 14,
   "id": "9ef947af",
   "metadata": {},
   "outputs": [
    {
     "data": {
      "text/plain": [
       "6.666666666666667"
      ]
     },
     "execution_count": 14,
     "metadata": {},
     "output_type": "execute_result"
    }
   ],
   "source": [
    "(sum(notas_array*pesos_array)) / sum(pesos_array)"
   ]
  },
  {
   "cell_type": "code",
   "execution_count": 15,
   "id": "1227db60",
   "metadata": {},
   "outputs": [
    {
     "name": "stdout",
     "output_type": "stream",
     "text": [
      "[ 4.  6.  8.  7. 10.]\n",
      "[2. 4. 6. 5. 8.]\n"
     ]
    }
   ],
   "source": [
    "# arrays podem realizar operações matemáticas simples\n",
    "print(notas_array + 1)\n",
    "print(notas_array - 1)"
   ]
  },
  {
   "cell_type": "markdown",
   "id": "bc8b6880",
   "metadata": {},
   "source": [
    "### Métodos e Funções úteis de Arrays"
   ]
  },
  {
   "cell_type": "code",
   "execution_count": 16,
   "id": "1bd035d9",
   "metadata": {},
   "outputs": [
    {
     "data": {
      "text/plain": [
       "array([0., 0., 0., 0., 0.])"
      ]
     },
     "execution_count": 16,
     "metadata": {},
     "output_type": "execute_result"
    }
   ],
   "source": [
    "# Arrays preenchidos com 0\n",
    "np.zeros(5)"
   ]
  },
  {
   "cell_type": "code",
   "execution_count": 17,
   "id": "3acb9f78",
   "metadata": {},
   "outputs": [
    {
     "data": {
      "text/plain": [
       "array([1., 1., 1., 1., 1.])"
      ]
     },
     "execution_count": 17,
     "metadata": {},
     "output_type": "execute_result"
    }
   ],
   "source": [
    "# Arrays preenchidos com 1\n",
    "np.ones(5)"
   ]
  },
  {
   "cell_type": "code",
   "execution_count": 18,
   "id": "1163b52f",
   "metadata": {},
   "outputs": [
    {
     "data": {
      "text/plain": [
       "array([9.16704793e-312, 0.00000000e+000, 1.60219306e-306])"
      ]
     },
     "execution_count": 18,
     "metadata": {},
     "output_type": "execute_result"
    }
   ],
   "source": [
    "# Array aleatório\n",
    "np.empty(3)"
   ]
  },
  {
   "cell_type": "code",
   "execution_count": 19,
   "id": "46fb5b60",
   "metadata": {},
   "outputs": [
    {
     "data": {
      "text/plain": [
       "array([0, 1, 2, 3, 4, 5, 6, 7, 8, 9])"
      ]
     },
     "execution_count": 19,
     "metadata": {},
     "output_type": "execute_result"
    }
   ],
   "source": [
    "# Array com sequência\n",
    "np.arange(10)"
   ]
  },
  {
   "cell_type": "code",
   "execution_count": 20,
   "id": "97321ca0",
   "metadata": {},
   "outputs": [
    {
     "data": {
      "text/plain": [
       "array([ 10,  20,  30,  40,  50,  60,  70,  80,  90, 100, 110])"
      ]
     },
     "execution_count": 20,
     "metadata": {},
     "output_type": "execute_result"
    }
   ],
   "source": [
    "# Array com sequência e intervalos\n",
    "np.arange(10, 120, 10)"
   ]
  },
  {
   "cell_type": "code",
   "execution_count": 21,
   "id": "86f5e2d6",
   "metadata": {},
   "outputs": [
    {
     "data": {
      "text/plain": [
       "array([ 0.,  6., 12., 18., 24.])"
      ]
     },
     "execution_count": 21,
     "metadata": {},
     "output_type": "execute_result"
    }
   ],
   "source": [
    "# Array com valores espaçados em um intervalo especificado\n",
    "np.linspace(0, 24, num= 5)"
   ]
  },
  {
   "cell_type": "code",
   "execution_count": 22,
   "id": "f7579552",
   "metadata": {},
   "outputs": [
    {
     "data": {
      "text/plain": [
       "array([[0.00885391, 0.63084183, 0.22310433],\n",
       "       [0.04976489, 0.44047902, 0.65033396]])"
      ]
     },
     "execution_count": 22,
     "metadata": {},
     "output_type": "execute_result"
    }
   ],
   "source": [
    "# Array com valores aleatórios (entre 0 e 1) - O que é definido como argumento na sintaxe são as linhas e colunas\n",
    "np.random.random((2, 3)) # 2 Linhas e 3 Colunas"
   ]
  },
  {
   "cell_type": "code",
   "execution_count": 23,
   "id": "10043afd",
   "metadata": {},
   "outputs": [
    {
     "data": {
      "text/plain": [
       "array([[1., 0., 0.],\n",
       "       [0., 1., 0.],\n",
       "       [0., 0., 1.]])"
      ]
     },
     "execution_count": 23,
     "metadata": {},
     "output_type": "execute_result"
    }
   ],
   "source": [
    "# Matriz identidade -  matriz quadrada em que todos os elementos da diagonal principal são iguais a 1\n",
    "# e todos os outros elementos são iguais a 0\n",
    "np.identity(3)"
   ]
  },
  {
   "cell_type": "markdown",
   "id": "3c14164c",
   "metadata": {},
   "source": [
    "### Manipular Numpy Arrays"
   ]
  },
  {
   "cell_type": "code",
   "execution_count": 24,
   "id": "ab92d406",
   "metadata": {},
   "outputs": [],
   "source": [
    "a = np.array([5, 3, 1, 4, 2])\n",
    "b = np.array([7, 9, 10, 8, 6])"
   ]
  },
  {
   "cell_type": "code",
   "execution_count": 25,
   "id": "d83fcddc",
   "metadata": {},
   "outputs": [
    {
     "data": {
      "text/plain": [
       "array([ 5,  3,  1,  4,  2,  7,  9, 10,  8,  6])"
      ]
     },
     "execution_count": 25,
     "metadata": {},
     "output_type": "execute_result"
    }
   ],
   "source": [
    "# numpy.concatenate() - Concatenar arrays\n",
    "c = np.concatenate((a, b))\n",
    "c"
   ]
  },
  {
   "cell_type": "code",
   "execution_count": 26,
   "id": "64e37974",
   "metadata": {},
   "outputs": [
    {
     "data": {
      "text/plain": [
       "array([ 1,  2,  3,  4,  5,  6,  7,  8,  9, 10])"
      ]
     },
     "execution_count": 26,
     "metadata": {},
     "output_type": "execute_result"
    }
   ],
   "source": [
    "# numpy.sort() - Ordenar arrays de forma crescente\n",
    "c_asc = np.sort(c)\n",
    "c_asc"
   ]
  },
  {
   "cell_type": "code",
   "execution_count": 27,
   "id": "15929a12",
   "metadata": {},
   "outputs": [
    {
     "data": {
      "text/plain": [
       "array([ 2,  4,  6,  8, 10])"
      ]
     },
     "execution_count": 27,
     "metadata": {},
     "output_type": "execute_result"
    }
   ],
   "source": [
    "# Filtrar elementos divisíveis por 2\n",
    "c_asc[c_asc % 2 == 0]"
   ]
  },
  {
   "cell_type": "code",
   "execution_count": 28,
   "id": "5ffe0873",
   "metadata": {},
   "outputs": [
    {
     "data": {
      "text/plain": [
       "array([10])"
      ]
     },
     "execution_count": 28,
     "metadata": {},
     "output_type": "execute_result"
    }
   ],
   "source": [
    "# Filtrar elementos divisíveis por 2 e 5\n",
    "c_asc[(c_asc % 2 == 0) & (c_asc % 5 == 0)]"
   ]
  },
  {
   "cell_type": "code",
   "execution_count": 29,
   "id": "43cca161",
   "metadata": {},
   "outputs": [
    {
     "data": {
      "text/plain": [
       "array([0, 0, 3, 0, 0, 6, 0, 0, 9, 0])"
      ]
     },
     "execution_count": 29,
     "metadata": {},
     "output_type": "execute_result"
    }
   ],
   "source": [
    "# Substituir os números onde não são divisíveis de 3 por 0\n",
    "np.where(c_asc % 3 == 0, c_asc, 0)"
   ]
  },
  {
   "cell_type": "markdown",
   "id": "04206ab7",
   "metadata": {},
   "source": [
    "### Operações com Numpy Arrays"
   ]
  },
  {
   "cell_type": "code",
   "execution_count": 30,
   "id": "007d6f73",
   "metadata": {},
   "outputs": [],
   "source": [
    "import time"
   ]
  },
  {
   "cell_type": "code",
   "execution_count": 31,
   "id": "bcb76edc",
   "metadata": {},
   "outputs": [
    {
     "name": "stdout",
     "output_type": "stream",
     "text": [
      "Resultado calculado em 0.0 minutos e 4.680701732635498 segundos\n"
     ]
    }
   ],
   "source": [
    "# Criar um array aleatório com 1 bilhão de elementos entre 0 e 1000\n",
    "start_time = time.time()\n",
    "\n",
    "elementos_array = np.random.randint(0, 1001, size= 1_000_000_000)\n",
    "\n",
    "end_time = time.time()\n",
    "print(f\"Resultado calculado em {(end_time - start_time)//60} minutos e {(end_time - start_time)%60} segundos\")"
   ]
  },
  {
   "cell_type": "code",
   "execution_count": 32,
   "id": "0f2536cb",
   "metadata": {},
   "outputs": [
    {
     "data": {
      "text/plain": [
       "1000000000"
      ]
     },
     "execution_count": 32,
     "metadata": {},
     "output_type": "execute_result"
    }
   ],
   "source": [
    "# len() - Verificar quantidade de elementos no array criado\n",
    "len(elementos_array)"
   ]
  },
  {
   "cell_type": "code",
   "execution_count": 33,
   "id": "ce5e8169",
   "metadata": {},
   "outputs": [
    {
     "data": {
      "text/plain": [
       "(1000000000,)"
      ]
     },
     "execution_count": 33,
     "metadata": {},
     "output_type": "execute_result"
    }
   ],
   "source": [
    "# shape() - Verificar quantidade de elementos no array criado\n",
    "elementos_array.shape"
   ]
  },
  {
   "cell_type": "code",
   "execution_count": 34,
   "id": "f6c022ad",
   "metadata": {},
   "outputs": [
    {
     "data": {
      "text/plain": [
       "0"
      ]
     },
     "execution_count": 34,
     "metadata": {},
     "output_type": "execute_result"
    }
   ],
   "source": [
    "# min() - Valor mínimo do array\n",
    "elementos_array.min()"
   ]
  },
  {
   "cell_type": "code",
   "execution_count": 35,
   "id": "b936bd93",
   "metadata": {},
   "outputs": [
    {
     "data": {
      "text/plain": [
       "1000"
      ]
     },
     "execution_count": 35,
     "metadata": {},
     "output_type": "execute_result"
    }
   ],
   "source": [
    "# max() - Valor máximo do array\n",
    "elementos_array.max()"
   ]
  },
  {
   "cell_type": "code",
   "execution_count": 36,
   "id": "d5248fe7",
   "metadata": {},
   "outputs": [
    {
     "data": {
      "text/plain": [
       "1786351065"
      ]
     },
     "execution_count": 36,
     "metadata": {},
     "output_type": "execute_result"
    }
   ],
   "source": [
    "# sum() - Soma dos elementos do array\n",
    "elementos_array.sum()"
   ]
  },
  {
   "cell_type": "code",
   "execution_count": 37,
   "id": "9e950cf6",
   "metadata": {},
   "outputs": [
    {
     "name": "stdout",
     "output_type": "stream",
     "text": [
      "R$ 1,786,351,065.00\n"
     ]
    }
   ],
   "source": [
    "# Formatação\n",
    "soma = elementos_array.sum()\n",
    "print(f\"R$ {soma:,.2f}\")"
   ]
  },
  {
   "cell_type": "code",
   "execution_count": 38,
   "id": "1a74a219",
   "metadata": {},
   "outputs": [
    {
     "data": {
      "text/plain": [
       "500.002557401"
      ]
     },
     "execution_count": 38,
     "metadata": {},
     "output_type": "execute_result"
    }
   ],
   "source": [
    "# mean() - Média dos elementos do array\n",
    "elementos_array.mean()"
   ]
  },
  {
   "cell_type": "markdown",
   "id": "f3440d89",
   "metadata": {},
   "source": [
    "### Compatibilidade entre Arrays\n",
    "Os arrays precisam ter pelo menos o mesmo número de colunas."
   ]
  },
  {
   "cell_type": "code",
   "execution_count": 39,
   "id": "36d5437b",
   "metadata": {},
   "outputs": [
    {
     "name": "stdout",
     "output_type": "stream",
     "text": [
      "(2, 5) (1, 5)\n"
     ]
    }
   ],
   "source": [
    "# Arrays compatíveis\n",
    "a = np.array([[1, 2, 3, 4, 5],[6, 7, 8, 9, 10]])\n",
    "b = np.array([[10, 20, 30, 40, 50]])\n",
    "\n",
    "print(a.shape, b.shape)"
   ]
  },
  {
   "cell_type": "code",
   "execution_count": 40,
   "id": "6437310b",
   "metadata": {},
   "outputs": [
    {
     "data": {
      "text/plain": [
       "array([[11, 22, 33, 44, 55],\n",
       "       [16, 27, 38, 49, 60]])"
      ]
     },
     "execution_count": 40,
     "metadata": {},
     "output_type": "execute_result"
    }
   ],
   "source": [
    "# É possível realizar operações com arrays compatíveis\n",
    "a + b"
   ]
  },
  {
   "cell_type": "code",
   "execution_count": 41,
   "id": "e48625d4",
   "metadata": {},
   "outputs": [
    {
     "data": {
      "text/plain": [
       "array([ 11,  33,  66, 110, 165, 181, 208, 246, 295, 355], dtype=int32)"
      ]
     },
     "execution_count": 41,
     "metadata": {},
     "output_type": "execute_result"
    }
   ],
   "source": [
    "# cumsum() - Soma calculada dos arrays\n",
    "(a + b).cumsum()"
   ]
  },
  {
   "cell_type": "code",
   "execution_count": 42,
   "id": "4bf9009b",
   "metadata": {},
   "outputs": [
    {
     "data": {
      "text/plain": [
       "array([        11,        242,       7986,     351384,   19326120,\n",
       "        309217920, -241050752, -569993984, 2135065856, -745067520],\n",
       "      dtype=int32)"
      ]
     },
     "execution_count": 42,
     "metadata": {},
     "output_type": "execute_result"
    }
   ],
   "source": [
    "# cumprod() - Produto acumulado dos arrays\n",
    "(a + b).cumprod()"
   ]
  },
  {
   "cell_type": "code",
   "execution_count": 43,
   "id": "e5ec1abe",
   "metadata": {},
   "outputs": [
    {
     "data": {
      "text/plain": [
       "248.25"
      ]
     },
     "execution_count": 43,
     "metadata": {},
     "output_type": "execute_result"
    }
   ],
   "source": [
    "# var() - Variância\n",
    "(a + b).var()"
   ]
  },
  {
   "cell_type": "code",
   "execution_count": 44,
   "id": "795cd398",
   "metadata": {},
   "outputs": [
    {
     "data": {
      "text/plain": [
       "15.75595125658873"
      ]
     },
     "execution_count": 44,
     "metadata": {},
     "output_type": "execute_result"
    }
   ],
   "source": [
    "# std() - Desvio padrão\n",
    "(a + b).std()"
   ]
  },
  {
   "cell_type": "code",
   "execution_count": 45,
   "id": "a14728fb",
   "metadata": {},
   "outputs": [
    {
     "name": "stdout",
     "output_type": "stream",
     "text": [
      "(3, 5) (3, 3)\n"
     ]
    }
   ],
   "source": [
    "# Arrays incompatíveis - (3, 5) (3, 3)\n",
    "c = np.array([[0, 5, 10, 15, 20], [0, 10, 20, 30, 40], [0, 100, 200, 300, 400]])\n",
    "d = np.array([[1, 5, 10], [2, 7, 9], [3, 4, 5]])\n",
    "\n",
    "print(c.shape, d.shape)"
   ]
  },
  {
   "cell_type": "code",
   "execution_count": 46,
   "id": "b6a47a0d",
   "metadata": {},
   "outputs": [
    {
     "ename": "ValueError",
     "evalue": "operands could not be broadcast together with shapes (3,5) (3,3) ",
     "output_type": "error",
     "traceback": [
      "\u001b[1;31m---------------------------------------------------------------------------\u001b[0m",
      "\u001b[1;31mValueError\u001b[0m                                Traceback (most recent call last)",
      "Cell \u001b[1;32mIn[46], line 2\u001b[0m\n\u001b[0;32m      1\u001b[0m \u001b[38;5;66;03m# Não é possível realizar operações com arrays incompatíveis\u001b[39;00m\n\u001b[1;32m----> 2\u001b[0m \u001b[43mc\u001b[49m\u001b[43m \u001b[49m\u001b[38;5;241;43m-\u001b[39;49m\u001b[43m \u001b[49m\u001b[43md\u001b[49m\n",
      "\u001b[1;31mValueError\u001b[0m: operands could not be broadcast together with shapes (3,5) (3,3) "
     ]
    }
   ],
   "source": [
    "# Não é possível realizar operações com arrays incompatíveis\n",
    "c - d"
   ]
  },
  {
   "cell_type": "code",
   "execution_count": null,
   "id": "e6b4db9a",
   "metadata": {},
   "outputs": [],
   "source": [
    "# Arrays incompatíveis - (2, 1) (1, 2)\n",
    "e = np.array([[8], [16]])\n",
    "f = np.array([[8, 16]])\n",
    "\n",
    "print(e.shape, f.shape)"
   ]
  },
  {
   "cell_type": "markdown",
   "id": "dc79c1a5",
   "metadata": {},
   "source": [
    "### Dimensões de Numpy Arrays"
   ]
  },
  {
   "cell_type": "code",
   "execution_count": 47,
   "id": "b33f05d8",
   "metadata": {},
   "outputs": [
    {
     "name": "stdout",
     "output_type": "stream",
     "text": [
      "[[ 1  6]\n",
      " [25 13]\n",
      " [49 77]\n",
      " [69 91]\n",
      " [ 5 45]] (5, 2)\n"
     ]
    }
   ],
   "source": [
    "g = np.array([[1, 6], [25, 13], [49, 77], [69, 91], [5, 45]])\n",
    "print(g, g.shape)"
   ]
  },
  {
   "cell_type": "code",
   "execution_count": 48,
   "id": "1ce26f89",
   "metadata": {},
   "outputs": [
    {
     "name": "stdout",
     "output_type": "stream",
     "text": [
      "[ 1  6 25 13 49 77 69 91  5 45] (10,)\n"
     ]
    }
   ],
   "source": [
    "# flatten() - Recolhe todos os elementos para uma única dimensão\n",
    "g_recolhido = g.flatten()\n",
    "\n",
    "print(g_recolhido, g_recolhido.shape)"
   ]
  },
  {
   "cell_type": "code",
   "execution_count": 49,
   "id": "3ed61ada",
   "metadata": {},
   "outputs": [
    {
     "name": "stdout",
     "output_type": "stream",
     "text": [
      "[[ 1  6 25 13 49]\n",
      " [77 69 91  5 45]] (2, 5)\n"
     ]
    }
   ],
   "source": [
    "# reshape() - Atribui uma nova dimensão para um array sem modificar seus elementos\n",
    "g_remodelado = g.reshape(2, 5)\n",
    "\n",
    "print(g_remodelado, g_remodelado.shape)"
   ]
  },
  {
   "cell_type": "code",
   "execution_count": 50,
   "id": "3b708955",
   "metadata": {},
   "outputs": [],
   "source": [
    "# Corrigindo arrays incompatíveis\n",
    "e = np.array([[8], [16]]) # (2, 1)\n",
    "f = np.array([[8, 16]]) # (1, 2)"
   ]
  },
  {
   "cell_type": "code",
   "execution_count": 55,
   "id": "a94a644b",
   "metadata": {},
   "outputs": [
    {
     "data": {
      "text/plain": [
       "array([[ 64, 256]])"
      ]
     },
     "execution_count": 55,
     "metadata": {},
     "output_type": "execute_result"
    }
   ],
   "source": [
    "# reshape() no array 'e'\n",
    "e.reshape(1, 2) * f"
   ]
  },
  {
   "cell_type": "code",
   "execution_count": 56,
   "id": "c0cead90",
   "metadata": {},
   "outputs": [
    {
     "data": {
      "text/plain": [
       "array([[ 64],\n",
       "       [256]])"
      ]
     },
     "execution_count": 56,
     "metadata": {},
     "output_type": "execute_result"
    }
   ],
   "source": [
    "# reshape() no array 'f'\n",
    "e * f.reshape(2, 1)"
   ]
  },
  {
   "cell_type": "markdown",
   "id": "25fba668",
   "metadata": {},
   "source": [
    "### Geradores Pseudoaleatórios"
   ]
  },
  {
   "cell_type": "code",
   "execution_count": 57,
   "id": "d8ceeb4c",
   "metadata": {},
   "outputs": [
    {
     "name": "stdout",
     "output_type": "stream",
     "text": [
      "[0.2214006766766036, -0.7669346802854863, 0.20015923362797278, -0.7645451291035489, -0.26017835115444926, 1.1313513068228198, -0.48370579054951274, 1.025751881602581, 1.2530169890438814, 0.7644027310148962, 0.9675370063579353, 0.38266068421856597, 0.27609675841985404, -1.956214052426342, -0.03324466300961707, -0.16050920556402176, -0.39650604531127126, 0.5150289103313408, 1.6354731760541776, 0.8538772267577911, -2.0029058918058253, -1.5911696843205354, 0.7666051059907667, -0.07622014757597903, -1.4472940464821844, 0.3596747910318166, 1.3505656022987584, 0.28637688780958453, 2.090736987187286, -0.38486346871979643, -0.48670013092697295, -1.8862489426987061, 0.145865403923247, 1.3003322732748173, -0.4060409958989335, 0.7860430481649193, -0.9909989757993897, 0.4549948757497476, -2.2596729090591925, -1.8530843071430212, -0.4441543682158928, -0.14481626909803727, -0.9556462126295479, 1.8527965534137063, 0.04425569036558545, 1.8970001806922734, -2.457859900320319, -0.19891879737059548, 0.5738367599316025, -0.18533507604708904, -1.9486563713033513, 0.3358990083610302, 0.2492963749710306, -0.9077564174430707, 0.6935987733601806, 0.22341885331383823, -0.5745648356822892, 0.3939426280251772, -0.96993990182261, 0.23811754966841983, 1.0797043918569118, -1.430962611060931, 0.9313494986319765, 2.296320016227564, -0.4051085464759702, -1.0416402344172258, -0.611095844460022, -0.9193494244449006, -0.4781037799969003, 0.18657492860161443, -0.6410302862586935, 0.033298522677260904, 0.3722370031806698, 0.6512041460920087, -1.6890616572012473, -0.831399801860293, 0.3596038078879737, 1.4105337608151802, -2.305780092157701, -1.3809187266285339, 0.6049691977134648, -0.7077341317661185, 1.8626727058335555, 1.6214284483404826, -0.11243038618294975, -0.4950474359904949, 0.975018834596231, -0.2828807821498243, -1.1619421095006588, -1.058450091238295, -0.2676263465728656, 3.3550990965005245, 0.041011575923587534, 0.6248398438450197, 0.6112788307521513, -1.5582552444084559, 1.398564362277148, 0.7046851070622552, 0.5324693167724663, 1.1746115241544746]\n"
     ]
    }
   ],
   "source": [
    "# Utilizando a biblioteca random\n",
    "import random\n",
    "\n",
    "# Gerar 100 números aleatórios seguindo uma distribuição normal com média 0 e desvio padrão 1\n",
    "numeros = [random.gauss(0, 1) for _ in range(100)]\n",
    "print(numeros)"
   ]
  },
  {
   "cell_type": "code",
   "execution_count": 58,
   "id": "88045afb",
   "metadata": {},
   "outputs": [
    {
     "name": "stdout",
     "output_type": "stream",
     "text": [
      "[ 0.08633053 -1.84992476  0.56799777  0.97350934 -1.07074982 -0.7058703\n",
      " -0.06252435 -0.69839224  0.54645891 -0.57549494 -1.49341465  2.13579089\n",
      " -0.04667536 -0.05720618  0.03319964  0.49611444 -0.54748066 -0.07732737\n",
      "  0.52029386 -0.95589333 -0.49305814 -0.7736713   0.56124216  0.04641435\n",
      " -0.04425057  0.53674627  1.06041555  0.14322962 -2.5085667  -1.44293781\n",
      " -0.53223322 -0.36802249 -0.48944173  0.63410526 -0.18719721 -0.259648\n",
      "  0.75270014  0.15573903  1.60033881 -0.65682644 -0.29251138  0.63805582\n",
      "  1.02202959 -0.85813191  0.84645646  0.6729323   0.02498956  0.23290365\n",
      " -0.76213023  2.27973611 -1.56064075 -0.73693603 -1.30354207 -2.04135473\n",
      " -0.39560798  1.31999692  0.51574798 -0.75772313  0.4366312   1.12993487\n",
      " -1.10621059  0.52435075  0.39259866  1.49430187  0.76282922  1.40371963\n",
      " -0.01861313 -0.90390489  1.28752692  0.78915815  0.04644562 -1.41709081\n",
      "  0.15315361 -1.04542041 -0.87789455 -0.22438434 -0.21420318 -0.19568292\n",
      " -0.19209561  1.09346688  2.34777412  0.41843184 -0.8523746   0.58946479\n",
      " -0.5901293   0.46492553  1.55481436 -0.1393139   1.82644096  1.99178758\n",
      " -0.20861285 -1.81367148 -2.23910004  0.127225    1.7045344   0.2561382\n",
      "  1.0047757  -0.84513467 -0.97499627  0.01365126]\n"
     ]
    }
   ],
   "source": [
    "# Utilizando a biblioteca numpy (maior eficiência)\n",
    "numeros = np.random.normal(size= 100)\n",
    "print(numeros)"
   ]
  },
  {
   "cell_type": "code",
   "execution_count": 59,
   "id": "b29cbc37",
   "metadata": {},
   "outputs": [],
   "source": [
    "nomes = ['Luis', 'Flavia', 'Carlos', 'Pedro', 'Larissa', 'Felipe', 'Marcos']"
   ]
  },
  {
   "cell_type": "code",
   "execution_count": 60,
   "id": "851ad6ac",
   "metadata": {},
   "outputs": [
    {
     "data": {
      "text/plain": [
       "['Pedro', 'Larissa', 'Luis']"
      ]
     },
     "execution_count": 60,
     "metadata": {},
     "output_type": "execute_result"
    }
   ],
   "source": [
    "# Utilizando a biblioteca random para escolher 3 nomes aleatórios da lista de nomes\n",
    "random.sample(nomes, 3)"
   ]
  },
  {
   "cell_type": "code",
   "execution_count": 61,
   "id": "5fa2d908",
   "metadata": {},
   "outputs": [
    {
     "data": {
      "text/plain": [
       "array(['Larissa', 'Flavia', 'Felipe'], dtype='<U7')"
      ]
     },
     "execution_count": 61,
     "metadata": {},
     "output_type": "execute_result"
    }
   ],
   "source": [
    "# Utilizando a biblioteca random para escolher 3 nomes aleatórios da lista de nomes\n",
    "np.random.choice(nomes, size= 3)"
   ]
  }
 ],
 "metadata": {
  "kernelspec": {
   "display_name": "Python 3 (ipykernel)",
   "language": "python",
   "name": "python3"
  },
  "language_info": {
   "codemirror_mode": {
    "name": "ipython",
    "version": 3
   },
   "file_extension": ".py",
   "mimetype": "text/x-python",
   "name": "python",
   "nbconvert_exporter": "python",
   "pygments_lexer": "ipython3",
   "version": "3.9.13"
  }
 },
 "nbformat": 4,
 "nbformat_minor": 5
}
