{
 "cells": [
  {
   "cell_type": "markdown",
   "id": "a9e7a53a",
   "metadata": {},
   "source": [
    "# Numpy - Aplicações\n",
    "**Nesta aula**:\n",
    "1. Entendendo o Numpy\n",
    "2. Objetivo da biblioteca\n",
    "3. Vantagens\n",
    "4. Utilidades\n",
    "5. Curiosidades"
   ]
  },
  {
   "cell_type": "code",
   "execution_count": null,
   "id": "994ca31c",
   "metadata": {},
   "outputs": [],
   "source": []
  }
 ],
 "metadata": {
  "kernelspec": {
   "display_name": "Python 3 (ipykernel)",
   "language": "python",
   "name": "python3"
  },
  "language_info": {
   "codemirror_mode": {
    "name": "ipython",
    "version": 3
   },
   "file_extension": ".py",
   "mimetype": "text/x-python",
   "name": "python",
   "nbconvert_exporter": "python",
   "pygments_lexer": "ipython3",
   "version": "3.9.13"
  }
 },
 "nbformat": 4,
 "nbformat_minor": 5
}
