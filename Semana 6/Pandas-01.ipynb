{
 "cells": [
  {
   "cell_type": "markdown",
   "id": "222ce2d9",
   "metadata": {},
   "source": [
    "## Pandas I"
   ]
  },
  {
   "cell_type": "markdown",
   "id": "303c90cf",
   "metadata": {},
   "source": [
    "**Nesta aula:**\n",
    "- Pandas: por que e como usar?\n",
    "- O que é um _pandas.Dataframe_, por que importa?\n",
    "- O que é um _pandas.Series_, por que importa?\n",
    "- Operações básicas: _describe, meam, sum_\n",
    "- Acessando e manipulando dados: índices e _labels_\n",
    "- Acessando e manipulando dados: colunas, _masks_ e _slices_\n",
    "- Dados ausentes e duplicados\n",
    "- Operações com colunas e vetorização\n",
    "- Conclusão e recursos adicionais"
   ]
  },
  {
   "cell_type": "markdown",
   "id": "c2437e03",
   "metadata": {},
   "source": [
    "### Panda: por que e como usar?\n",
    "O Pandas é uma biblioteca que permite a organização, análise e manipulação de dados tabulares com ótimo desempenho.\n",
    "\n",
    "É bastante intuitivo, fácil de usar e dialoga com diversas outras biblitoecas do Python, como **Numpy** e **Matplotlib**, ou programas de planilhas.\n",
    "\n",
    "Sua versatilidade e eficiência o têm tornado uma ferramenta essencial para Análise de Dados.\n",
    "\n",
    "No Pnadas, essa tabela ou planilha é chamada de ***Dataframe***.\n",
    "\n",
    "|Nome|Sexo|P1|P2|Frequência|\n",
    "|---|---|---|---|---|\n",
    "|Aluno 1|Masculino|1,6|4,5|50%|\n",
    "|Aluno 2|Feminino|7,5|6,5|80%|\n",
    "|Aluno 3|Masculino|9|8|90%|"
   ]
  },
  {
   "cell_type": "code",
   "execution_count": 4,
   "id": "6640b7e6",
   "metadata": {},
   "outputs": [
    {
     "name": "stdout",
     "output_type": "stream",
     "text": [
      "Requirement already satisfied: pandas in c:\\users\\luis otavio\\appdata\\local\\programs\\python\\python39\\lib\\site-packages (2.1.2)\n",
      "Requirement already satisfied: numpy<2,>=1.22.4 in c:\\users\\luis otavio\\appdata\\local\\programs\\python\\python39\\lib\\site-packages (from pandas) (1.26.1)\n",
      "Requirement already satisfied: python-dateutil>=2.8.2 in c:\\users\\luis otavio\\appdata\\roaming\\python\\python39\\site-packages (from pandas) (2.8.2)\n",
      "Requirement already satisfied: pytz>=2020.1 in c:\\users\\luis otavio\\appdata\\local\\programs\\python\\python39\\lib\\site-packages (from pandas) (2023.3.post1)\n",
      "Requirement already satisfied: tzdata>=2022.1 in c:\\users\\luis otavio\\appdata\\local\\programs\\python\\python39\\lib\\site-packages (from pandas) (2023.3)\n",
      "Requirement already satisfied: six>=1.5 in c:\\users\\luis otavio\\appdata\\roaming\\python\\python39\\site-packages (from python-dateutil>=2.8.2->pandas) (1.16.0)\n"
     ]
    }
   ],
   "source": [
    "# Instalar o pandas\n",
    "\n",
    "!pip install pandas"
   ]
  },
  {
   "cell_type": "code",
   "execution_count": 5,
   "id": "d8acb862",
   "metadata": {},
   "outputs": [],
   "source": [
    "# Importar o pandas\n",
    "# Deve ser feita a importação toda vez que for utilizar\n",
    "\n",
    "import pandas as pd "
   ]
  },
  {
   "cell_type": "markdown",
   "id": "eedaf9d1",
   "metadata": {},
   "source": [
    "### _Series_ e _Dataframes_: a estrutura geral do Pandas"
   ]
  },
  {
   "cell_type": "code",
   "execution_count": 6,
   "id": "539fb8cc",
   "metadata": {},
   "outputs": [
    {
     "name": "stdout",
     "output_type": "stream",
     "text": [
      "{'Nome': ['Aluno 1', 'Aluno 2', 'Aluno 3', 'Aluno 4'], 'P1': [1.6, 7.5, 9, 5.5], 'P2': ['-', 6.5, 8, 8]}\n"
     ]
    }
   ],
   "source": [
    "# Analisando a organização dos dados\n",
    "# Estrutura de um dataframe\n",
    "\n",
    "ex_dict = {'Nome': ['Aluno 1', 'Aluno 2', 'Aluno 3', 'Aluno 4'], 'P1': [1.6, 7.5, 9, 5.5], 'P2': ['-', 6.5, 8, 8]}\n",
    "\n",
    "print(ex_dict)"
   ]
  },
  {
   "cell_type": "code",
   "execution_count": 8,
   "id": "8935c150",
   "metadata": {},
   "outputs": [
    {
     "name": "stdout",
     "output_type": "stream",
     "text": [
      "      Nome   P1   P2\n",
      "0  Aluno 1  1.6    -\n",
      "1  Aluno 2  7.5  6.5\n",
      "2  Aluno 3  9.0    8\n",
      "3  Aluno 4  5.5    8\n"
     ]
    }
   ],
   "source": [
    "# É possível gerar Dataframes a partir de dicionários\n",
    "df = pd.DataFrame.from_dict(ex_dict)\n",
    "print(df)"
   ]
  },
  {
   "cell_type": "code",
   "execution_count": 9,
   "id": "caec0588",
   "metadata": {},
   "outputs": [
    {
     "name": "stdout",
     "output_type": "stream",
     "text": [
      "      Nome   P1   P2\n",
      "0  Aluno 1  1.6    -\n",
      "1  Aluno 2  7.5  6.5\n",
      "2  Aluno 3  9.0    8\n",
      "3  Aluno 4  5.5    8\n"
     ]
    }
   ],
   "source": [
    "# É possível gerar Dataframes a partir de uma lista de listas\n",
    "\n",
    "ex_lista = [['Aluno 1', 1.6, '-'], ['Aluno 2', 7.5, 6.5], ['Aluno 3', 9, 8], ['Aluno 4', 5.5, 8]]\n",
    "\n",
    "df2 = pd.DataFrame(ex_lista, columns=['Nome', 'P1', 'P2'])\n",
    "print(df2)"
   ]
  },
  {
   "cell_type": "code",
   "execution_count": 13,
   "id": "d58fd299",
   "metadata": {},
   "outputs": [
    {
     "name": "stdout",
     "output_type": "stream",
     "text": [
      "Dataframe gerado a partir de dicionários:\n",
      "\n",
      "      Nome   P1   P2\n",
      "0  Aluno 1  1.6    -\n",
      "1  Aluno 2  7.5  6.5\n",
      "2  Aluno 3  9.0    8\n",
      "3  Aluno 4  5.5    8\n",
      "\n",
      "Dataframe gerado a partir de listas:\n",
      "\n",
      "      Nome   P1   P2\n",
      "0  Aluno 1  1.6    -\n",
      "1  Aluno 2  7.5  6.5\n",
      "2  Aluno 3  9.0    8\n",
      "3  Aluno 4  5.5    8\n",
      "\n"
     ]
    }
   ],
   "source": [
    "print(f\"Dataframe gerado a partir de dicionários:\\n\\n{df}\\n\\nDataframe gerado a partir de listas:\\n\\n{df2}\\n\")"
   ]
  },
  {
   "cell_type": "markdown",
   "id": "350f3fb6",
   "metadata": {},
   "source": [
    "**Series**: é um conjunto unidimensional contendo dados em diversas formas (int, float, objetos, etc.). É bastante similar ao array do numpy.\n",
    "\n",
    "**Dataframes**: é um conjunto bidimensional de dados. Pode ser entendido como um conjunto de _Series_."
   ]
  },
  {
   "cell_type": "code",
   "execution_count": 14,
   "id": "e2ce61e3",
   "metadata": {},
   "outputs": [
    {
     "name": "stdout",
     "output_type": "stream",
     "text": [
      "0    Aluno 1\n",
      "1    Aluno 2\n",
      "2    Aluno 3\n",
      "3    Aluno 4\n",
      "dtype: object\n"
     ]
    }
   ],
   "source": [
    "# Series - Estrutura semelhante a um array. Uma unica coluna\n",
    "series = pd.Series(ex_dict['Nome'])\n",
    "print(series)"
   ]
  },
  {
   "cell_type": "markdown",
   "id": "207acdff",
   "metadata": {},
   "source": [
    "### Entendendo a estrutura e organização dos dados: operações básicas"
   ]
  },
  {
   "cell_type": "code",
   "execution_count": 15,
   "id": "f5585704",
   "metadata": {},
   "outputs": [],
   "source": [
    "# Importar arquivo\n",
    "df = pd.read_csv('expandascsv.csv', sep=';')"
   ]
  },
  {
   "cell_type": "code",
   "execution_count": 18,
   "id": "ed24516a",
   "metadata": {},
   "outputs": [
    {
     "name": "stdout",
     "output_type": "stream",
     "text": [
      "(16, 5)\n"
     ]
    }
   ],
   "source": [
    "# shape - Retornar o número de coluns e linhas\n",
    "print(df.shape)"
   ]
  },
  {
   "cell_type": "code",
   "execution_count": 19,
   "id": "56144b10",
   "metadata": {},
   "outputs": [
    {
     "data": {
      "text/plain": [
       "<bound method NDFrame.head of        Nome       Sexo   P1   P2 Frequência\n",
       "0    Aluno1  Masculino  1,6    -        50%\n",
       "1    Aluno2   Feminino  7,5  6,5        80%\n",
       "2    Aluno3  Masculino    9    8        90%\n",
       "3    Aluno4  Masculino  5,5    8        70%\n",
       "4    Aluno5  Masculino    7    8       100%\n",
       "5    Aluno6   Feminino    8    7        80%\n",
       "6    Aluno7  Masculino    5  5,5        90%\n",
       "7    Aluno8  Masculino    4  3,5        90%\n",
       "8    Aluno9   Feminino    5    4        70%\n",
       "9   Aluno10   Feminino    7  7,5        80%\n",
       "10  Aluno11  Masculino    8    9        70%\n",
       "11  Aluno12   Feminino   10    -        70%\n",
       "12  Aluno13  Masculino  9,5    9       100%\n",
       "13  Aluno14   Feminino    8    9        80%\n",
       "14  Aluno15   Feminino    7    7        80%\n",
       "15  Aluno15   Feminino    7    7        80%>"
      ]
     },
     "execution_count": 19,
     "metadata": {},
     "output_type": "execute_result"
    }
   ],
   "source": [
    "# head - Retornar para leitura apenas as 5 primeiras linhas\n",
    "df.head"
   ]
  },
  {
   "cell_type": "code",
   "execution_count": null,
   "id": "49362af1",
   "metadata": {},
   "outputs": [],
   "source": []
  }
 ],
 "metadata": {
  "kernelspec": {
   "display_name": "Python 3 (ipykernel)",
   "language": "python",
   "name": "python3"
  },
  "language_info": {
   "codemirror_mode": {
    "name": "ipython",
    "version": 3
   },
   "file_extension": ".py",
   "mimetype": "text/x-python",
   "name": "python",
   "nbconvert_exporter": "python",
   "pygments_lexer": "ipython3",
   "version": "3.9.13"
  }
 },
 "nbformat": 4,
 "nbformat_minor": 5
}
