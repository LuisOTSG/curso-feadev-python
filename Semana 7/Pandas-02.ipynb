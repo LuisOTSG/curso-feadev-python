{
 "cells": [
  {
   "cell_type": "markdown",
   "id": "592239b5",
   "metadata": {},
   "source": [
    "## Pandas 2\n",
    "Nesta Aula:\n",
    "- Como acessar nossas bases de dados utilizando os métodos Loc e iLoc;\n",
    "- Aprender sobre funções agregadas e suas funcionalidades;\n",
    "- Aprender métodos úteis como groupby e pivot_table;\n",
    "- Explorar alguns outros métodos como merge, diff, pct_change e shift"
   ]
  },
  {
   "cell_type": "markdown",
   "id": "5dc64f68",
   "metadata": {},
   "source": [
    "### Importando as bibliotecas"
   ]
  },
  {
   "cell_type": "code",
   "execution_count": null,
   "id": "afa45fa1",
   "metadata": {},
   "outputs": [],
   "source": [
    "import pandas as pd"
   ]
  },
  {
   "cell_type": "code",
   "execution_count": null,
   "id": "b69ac5ea",
   "metadata": {},
   "outputs": [],
   "source": [
    "# Leitura do dataset\n",
    "maiores_empresas = pd.read_csv('maiores-companhias.csv')\n",
    "\n",
    "# Exibindo as primeiras linhas do dataset\n",
    "maiores_empresas.head()"
   ]
  },
  {
   "cell_type": "code",
   "execution_count": null,
   "id": "de2cf3b1",
   "metadata": {},
   "outputs": [],
   "source": [
    "# Verificar o tamanho dos dados (linhas e colunas)\n",
    "maiores_empresas.shape"
   ]
  },
  {
   "cell_type": "code",
   "execution_count": null,
   "id": "0948681a",
   "metadata": {},
   "outputs": [],
   "source": [
    "# Verificar tipos de colunas e quantidade de entradas\n",
    "maiores_empresas.info()"
   ]
  },
  {
   "cell_type": "code",
   "execution_count": null,
   "id": "cd429776",
   "metadata": {},
   "outputs": [],
   "source": [
    "# Converter 'Revenue growth' para string e remover símbolos de porcentagem\n",
    "maiores_empresas['Revenue growth'] = maiores_empresas['Revenue growth'].astype(str).str.rstrip('%').astype('float64')\n",
    "\n",
    "# Remover vírgulas e converter 'Revenue (USD millions)'\n",
    "maiores_empresas['Revenue (USD millions)'] = maiores_empresas['Revenue (USD millions)'].replace({',': ''}, regex=True).astype('float64')\n",
    "\n",
    "# Mostrar as primeiras linhas do DataFrame após as conversões\n",
    "maiores_empresas.head()"
   ]
  },
  {
   "cell_type": "code",
   "execution_count": null,
   "id": "256cb293",
   "metadata": {},
   "outputs": [],
   "source": [
    "maiores_empresas.info()"
   ]
  },
  {
   "cell_type": "markdown",
   "id": "e04de072",
   "metadata": {},
   "source": [
    "## Loc e iLoc\n",
    "### .loc[row_label, column_label]\n",
    "A função .loc será utilizada para localizar e acessar dados em seu dataframe a partir do nome de uma linha e/ou coluna e retornará os valores correspondentes às linhas e colunas nomeadas.\n",
    "\n",
    "Ex.: df.loc['Nome da Linha', 'Nome da Coluna']"
   ]
  },
  {
   "cell_type": "markdown",
   "id": "9a6a1565",
   "metadata": {},
   "source": [
    "### Selecionando apenas linhas com .loc"
   ]
  },
  {
   "cell_type": "code",
   "execution_count": null,
   "id": "23b5b83c",
   "metadata": {},
   "outputs": [],
   "source": [
    "display(maiores_empresas)"
   ]
  },
  {
   "cell_type": "code",
   "execution_count": null,
   "id": "e09dc5a8",
   "metadata": {},
   "outputs": [],
   "source": [
    "# Selecionando apenas linhas\n",
    "\n",
    "# Podemos chamar uma linha pelo seu índice\n",
    "\n",
    "maiores_empresas.loc[0]"
   ]
  },
  {
   "cell_type": "code",
   "execution_count": null,
   "id": "ad0719bf",
   "metadata": {},
   "outputs": [],
   "source": [
    "# Podemos chamar um array de índices\n",
    "\n",
    "maiores_empresas.loc[[0, 1, 2, 4]]"
   ]
  },
  {
   "cell_type": "code",
   "execution_count": null,
   "id": "25f928b5",
   "metadata": {},
   "outputs": [],
   "source": [
    "# Podemos chamar um intervalo de índices\n",
    "\n",
    "maiores_empresas.loc[0:4]"
   ]
  },
  {
   "cell_type": "markdown",
   "id": "af88b8b1",
   "metadata": {},
   "source": [
    "### .set_index\n",
    "\n",
    "Utilizando set_index para definir um índice a partir de uma coluna"
   ]
  },
  {
   "cell_type": "code",
   "execution_count": null,
   "id": "afb47a51",
   "metadata": {},
   "outputs": [],
   "source": [
    "# Podemos achar a linha por seu valor contido\n",
    "\n",
    "# Primeiro devemos definir uma coluna como index por meio do .set_index\n",
    "\n",
    "maiores_empresas_index = maiores_empresas.set_index('Name')\n",
    "maiores_empresas_index.head()"
   ]
  },
  {
   "cell_type": "code",
   "execution_count": null,
   "id": "6f96812a",
   "metadata": {},
   "outputs": [],
   "source": [
    "# A partir disso, podemos buscar um valor contido dentro desta coluna\n",
    "\n",
    "maiores_empresas_index.loc['Amazon']"
   ]
  },
  {
   "cell_type": "markdown",
   "id": "e58829a8",
   "metadata": {},
   "source": [
    "### Selecionando apenas colunas com .loc"
   ]
  },
  {
   "cell_type": "code",
   "execution_count": null,
   "id": "c850c965",
   "metadata": {},
   "outputs": [],
   "source": [
    "maiores_empresas.head()"
   ]
  },
  {
   "cell_type": "code",
   "execution_count": null,
   "id": "3fed6211",
   "metadata": {},
   "outputs": [],
   "source": [
    "# Selecionando apenas colunas por nomes\n",
    "# Usando a base de dados sem 'Name' com index\n",
    "maiores_empresas.loc[:, ['Rank', 'Name', 'Revenue (USD millions)']]"
   ]
  },
  {
   "cell_type": "markdown",
   "id": "cae899ab",
   "metadata": {},
   "source": [
    "### Se eu tivesse usado o Dataframe que foi aplicado o .set_index?\n",
    "Não conseguiri usar, já que o 'Name' está definido como index, logo, ele não pode ser chamado como uma coluna na função .loc"
   ]
  },
  {
   "cell_type": "code",
   "execution_count": null,
   "id": "93476b5d",
   "metadata": {},
   "outputs": [],
   "source": [
    "# KeyErro: \"['Name'] not in index\"\n",
    "maiores_empresas_index.loc[:, ['Rank', 'Name', 'Revenue (USD millions)']]"
   ]
  },
  {
   "cell_type": "code",
   "execution_count": null,
   "id": "70b902dc",
   "metadata": {},
   "outputs": [],
   "source": [
    "# Não precisa chamar 'Name', porque ele já está definido como index pelo Python\n",
    "maiores_empresas_index.loc[:, ['Rank', 'Revenue (USD millions)']]"
   ]
  },
  {
   "cell_type": "code",
   "execution_count": null,
   "id": "bcb79afb",
   "metadata": {},
   "outputs": [],
   "source": [
    "# Selecionando um conjunto de linhas e colunas\n",
    "maiores_empresas_index.loc[['Walmart', 'Amazon', 'Apple'], ['Rank', 'Industry', 'Revenue (USD millions)']]"
   ]
  },
  {
   "cell_type": "markdown",
   "id": "27e155e9",
   "metadata": {},
   "source": [
    "### Também podemos criar algumas condições a partir de .loc"
   ]
  },
  {
   "cell_type": "code",
   "execution_count": null,
   "id": "4aca3150",
   "metadata": {
    "scrolled": true
   },
   "outputs": [],
   "source": [
    "# Como selecionar algumas colunas do dataframe a partir de algumas condições?\n",
    "\n",
    "# Maiores empresas da 'Industry' sendo 'Retail'\n",
    "maiores_empresas.loc[(maiores_empresas['Industry']) == 'Retail']"
   ]
  },
  {
   "cell_type": "code",
   "execution_count": null,
   "id": "a6796241",
   "metadata": {},
   "outputs": [],
   "source": [
    "maiores_empresas.info"
   ]
  },
  {
   "cell_type": "code",
   "execution_count": null,
   "id": "851e1698",
   "metadata": {},
   "outputs": [],
   "source": [
    "maiores_empresas.head()"
   ]
  },
  {
   "cell_type": "code",
   "execution_count": null,
   "id": "dbfe07d8",
   "metadata": {
    "scrolled": true
   },
   "outputs": [],
   "source": [
    "# Maiores empresas em que o 'Revenue growth' é maior que 50%\n",
    "maiores_empresas.loc[(maiores_empresas['Revenue growth']) >= 50]"
   ]
  },
  {
   "cell_type": "code",
   "execution_count": null,
   "id": "4020c02e",
   "metadata": {},
   "outputs": [],
   "source": [
    "# Ou ainda, podemos modificar uma série de colunas\n",
    "\n",
    "maiores_empresas.loc[[65, 71], 'Revenue growth'] = 15\n",
    "maiores_empresas.loc[[65, 71]]"
   ]
  },
  {
   "cell_type": "markdown",
   "id": "658f09be",
   "metadata": {},
   "source": [
    "## Loc e iLoc\n",
    "### .iloc[row_position, column_position]\n",
    "Da mesma forma que a função loc a função iloc será utilizada para localizar e acessar dados em seu dataframe. Porém, iloc utilizar os índices numéricos ao invés dos nomes das linhas e colunas.\n",
    "\n",
    "Ex.: df.iloc['Número da Linha', 'Número da Coluna']"
   ]
  },
  {
   "cell_type": "code",
   "execution_count": null,
   "id": "d1f4d89a",
   "metadata": {},
   "outputs": [],
   "source": [
    "# Selecionando apenas a primeira linha\n",
    "\n",
    "maiores_empresas.iloc[0]"
   ]
  },
  {
   "cell_type": "code",
   "execution_count": null,
   "id": "2669c30a",
   "metadata": {},
   "outputs": [],
   "source": [
    "# Selecionando apenas a primeira coluna\n",
    "\n",
    "maiores_empresas.iloc[0, 1]"
   ]
  },
  {
   "cell_type": "code",
   "execution_count": null,
   "id": "85e1e565",
   "metadata": {},
   "outputs": [],
   "source": [
    "# Selecionando algumas linhas e colunas\n",
    "\n",
    "maiores_empresas.iloc[[0, 1, 2, 3], [0, 1, 2, 3]]"
   ]
  },
  {
   "cell_type": "code",
   "execution_count": null,
   "id": "64405dc6",
   "metadata": {},
   "outputs": [],
   "source": [
    "# Limitado, não é possível chamar pelos nomes, mesmo que o index seja definido como 'Name'\n",
    "\n",
    "maiores_empresas_index.iloc['Amazon']\n",
    "\n",
    "# Cannot index by location index with a non-integer key"
   ]
  },
  {
   "cell_type": "code",
   "execution_count": null,
   "id": "a0d9b998",
   "metadata": {},
   "outputs": [],
   "source": [
    "# Em .iloc não é possível selecionar um intervalo, para isso, precisamos utilizar range(n)\n",
    "\n",
    "maiores_empresas.iloc[[0:2], [0:4]]"
   ]
  },
  {
   "cell_type": "code",
   "execution_count": null,
   "id": "9f6249bf",
   "metadata": {},
   "outputs": [],
   "source": [
    "# Selecionando algumas linhas e colunas\n",
    "\n",
    "maiores_empresas.iloc[range(2), range(4)]"
   ]
  },
  {
   "cell_type": "markdown",
   "id": "6bc3f74d",
   "metadata": {},
   "source": [
    "### Ao adicionar .name ao seu final de uma função iloc é possível obter o nome de uma linha ou coluna a partir de seu índice"
   ]
  },
  {
   "cell_type": "code",
   "execution_count": null,
   "id": "7c534e6f",
   "metadata": {},
   "outputs": [],
   "source": []
  }
 ],
 "metadata": {
  "kernelspec": {
   "display_name": "Python 3 (ipykernel)",
   "language": "python",
   "name": "python3"
  },
  "language_info": {
   "codemirror_mode": {
    "name": "ipython",
    "version": 3
   },
   "file_extension": ".py",
   "mimetype": "text/x-python",
   "name": "python",
   "nbconvert_exporter": "python",
   "pygments_lexer": "ipython3",
   "version": "3.9.13"
  }
 },
 "nbformat": 4,
 "nbformat_minor": 5
}
